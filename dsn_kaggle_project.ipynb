{
  "nbformat": 4,
  "nbformat_minor": 0,
  "metadata": {
    "colab": {
      "name": "dsn-kaggle-project.ipynb",
      "provenance": [],
      "collapsed_sections": [],
      "include_colab_link": true
    },
    "kernelspec": {
      "display_name": "Python 3",
      "language": "python",
      "name": "python3"
    },
    "language_info": {
      "codemirror_mode": {
        "name": "ipython",
        "version": 3
      },
      "file_extension": ".py",
      "mimetype": "text/x-python",
      "name": "python",
      "nbconvert_exporter": "python",
      "pygments_lexer": "ipython3",
      "version": "3.7.6"
    }
  },
  "cells": [
    {
      "cell_type": "markdown",
      "metadata": {
        "id": "view-in-github",
        "colab_type": "text"
      },
      "source": [
        "<a href=\"https://colab.research.google.com/github/Olaoluwakiitan-Olabiyi/BMI-Calculator/blob/master/dsn_kaggle_project.ipynb\" target=\"_parent\"><img src=\"https://colab.research.google.com/assets/colab-badge.svg\" alt=\"Open In Colab\"/></a>"
      ]
    },
    {
      "cell_type": "code",
      "metadata": {
        "id": "QCHexcV6JEiv"
      },
      "source": [
        ""
      ],
      "execution_count": null,
      "outputs": []
    },
    {
      "cell_type": "code",
      "metadata": {
        "colab": {
          "base_uri": "https://localhost:8080/"
        },
        "id": "QVHc1WB3IDeW",
        "outputId": "42c25122-ba2a-4a1f-9f35-8bee9f3d66fd"
      },
      "source": [
        "# Jovian Commit Essentials\n",
        "# Please retain and execute this cell without modifying the contents for `jovian.commit` to work\n",
        "!pip install jovian --upgrade -quiet\n",
        "import jovian\n",
        "jovian.set_project('dsn-kaggle-project')\n",
        "jovian.set_colab_id('155nLY-ddz0yv2rx-AjUY7TYK5AS0q_86')"
      ],
      "execution_count": 100,
      "outputs": [
        {
          "output_type": "stream",
          "name": "stdout",
          "text": [
            "\n",
            "Usage:   \n",
            "  pip3 install [options] <requirement specifier> [package-index-options] ...\n",
            "  pip3 install [options] -r <requirements file> [package-index-options] ...\n",
            "  pip3 install [options] [-e] <vcs project url> ...\n",
            "  pip3 install [options] [-e] <local project path> ...\n",
            "  pip3 install [options] <archive url/path> ...\n",
            "\n",
            "no such option: -u\n"
          ]
        }
      ]
    },
    {
      "cell_type": "markdown",
      "metadata": {
        "id": "bx8VyGPy2s1M"
      },
      "source": [
        "# dsn-kaggle-project\n",
        "\n",
        "Use the \"Run\" button to execute the code."
      ]
    },
    {
      "cell_type": "code",
      "metadata": {
        "id": "UKwxf8Iq2s1T"
      },
      "source": [
        "!pip install jovian --upgrade --quiet"
      ],
      "execution_count": 4,
      "outputs": []
    },
    {
      "cell_type": "code",
      "metadata": {
        "id": "ZpKT9tn_2s1X"
      },
      "source": [
        "import jovian"
      ],
      "execution_count": 5,
      "outputs": []
    },
    {
      "cell_type": "code",
      "metadata": {
        "colab": {
          "base_uri": "https://localhost:8080/"
        },
        "id": "H6NqGr3O2s1Y",
        "outputId": "28d35fe6-45a1-4da4-8dfc-c2bae93dc55c"
      },
      "source": [
        "# Execute this to save new versions of the notebook\n",
        "jovian.commit(project=\"dsn-kaggle-project\")"
      ],
      "execution_count": 6,
      "outputs": [
        {
          "output_type": "stream",
          "name": "stdout",
          "text": [
            "[jovian] Detected Colab notebook...\u001b[0m\n"
          ]
        },
        {
          "output_type": "stream",
          "name": "stderr",
          "text": [
            "\u001b[31m[jovian] Error: jovian.commit doesn't work on Colab unless the notebook was created and executed from Jovian.\n",
            "Make sure to run the first code cell at the top after executing from Jovian.\n",
            "Alternatively, you can download this notebook and upload it manually to Jovian.\n",
            "Learn more: https://jovian.ai/docs/user-guide/run.html#run-on-colab\u001b[0m\n"
          ]
        }
      ]
    },
    {
      "cell_type": "markdown",
      "metadata": {
        "id": "osc1CG_rEhM9"
      },
      "source": [
        "## PROBLEM STATEMENT\n",
        "\n",
        "In today’s world of automation, the skills and knowledge of a person could be utilized at the best places possible by automating tasks wherever possible.\n",
        "\n",
        " As a part of the HealthIsWealth hospital automation system, you have been contracted as a professional data scientist who will build a system that would predict and estimate whether the patient should be categorized as an incare patient or an outcare patient with the help of several data points about the patients, their conditions and lab tests.\n",
        "\n",
        "\n",
        "The difference between an inpatient and outpatient care is how long a patient must remain in the facility where they have the procedure done.\n",
        "\n",
        "\n",
        "Inpatient care requires overnight hospitalization. Patients must stay at the medical facility where their procedure was done (which is usually a hospital) for at least one night. During this time, they remain under the supervision of a nurse or doctor.\n",
        "\n",
        "\n",
        "Patients receiving outpatient care do not need to spend a night in a hospital. They are free to leave the hospital once the procedure is over. In some exceptional cases, they need to wait while anesthesia wears off or to make sure there are not any complications. As long as there are not any serious complications, patients do not have to spend the night being supervised.\n",
        "\n"
      ]
    },
    {
      "cell_type": "code",
      "metadata": {
        "id": "9YSz4zAjJHJk"
      },
      "source": [
        "pip install opendatasets --upgrade --quiet\n"
      ],
      "execution_count": 7,
      "outputs": []
    },
    {
      "cell_type": "code",
      "metadata": {
        "id": "Dfr9EuO52s1Z",
        "colab": {
          "base_uri": "https://localhost:8080/"
        },
        "outputId": "93b0c5ff-7304-488e-b26e-0a6501d8804f"
      },
      "source": [
        "import opendatasets as od\n",
        "\n",
        "DSN_hackathon ='https://www.kaggle.com/c/data-science-nigeria-patient-treatment/data'\n",
        "\n",
        "od.download(DSN_hackathon)\n",
        "\n"
      ],
      "execution_count": 8,
      "outputs": [
        {
          "output_type": "stream",
          "name": "stdout",
          "text": [
            "Please provide your Kaggle credentials to download this dataset. Learn more: http://bit.ly/kaggle-creds\n",
            "Your Kaggle username: olaoluwakiitan\n",
            "Your Kaggle Key: ··········\n",
            "Downloading data-science-nigeria-patient-treatment.zip to ./data-science-nigeria-patient-treatment\n"
          ]
        },
        {
          "output_type": "stream",
          "name": "stderr",
          "text": [
            "100%|██████████| 91.0k/91.0k [00:00<00:00, 34.6MB/s]"
          ]
        },
        {
          "output_type": "stream",
          "name": "stdout",
          "text": [
            "\n",
            "Extracting archive ./data-science-nigeria-patient-treatment/data-science-nigeria-patient-treatment.zip to ./data-science-nigeria-patient-treatment\n"
          ]
        },
        {
          "output_type": "stream",
          "name": "stderr",
          "text": [
            "\n"
          ]
        }
      ]
    },
    {
      "cell_type": "markdown",
      "metadata": {
        "id": "DRCXP1iUKdaT"
      },
      "source": [
        "###IMPORT LIBRARIES"
      ]
    },
    {
      "cell_type": "code",
      "metadata": {
        "id": "HgkAdHqHKcsm"
      },
      "source": [
        "import pandas as pd\n",
        "import numpy as np\n",
        "import matplotlib.pyplot as plt\n",
        "import seaborn as sns\n",
        "\n",
        "from sklearn.model_selection import train_test_split\n",
        "\n",
        "from sklearn.preprocessing import StandardScaler\n",
        "\n",
        "from sklearn.linear_model import LogisticRegression"
      ],
      "execution_count": 9,
      "outputs": []
    },
    {
      "cell_type": "markdown",
      "metadata": {
        "id": "DthidbrmKyDE"
      },
      "source": [
        "### Import Datasets"
      ]
    },
    {
      "cell_type": "code",
      "metadata": {
        "id": "UDHqlNygJth_"
      },
      "source": [
        "in_out_train =  '/content/data-science-nigeria-patient-treatment/train.csv'\n",
        "in_out_test = '/content/data-science-nigeria-patient-treatment/test.csv'\n",
        "sample_submission = '/content/data-science-nigeria-patient-treatment/sample_submission.csv'\n"
      ],
      "execution_count": 10,
      "outputs": []
    },
    {
      "cell_type": "code",
      "metadata": {
        "id": "60WNLuioFAkB"
      },
      "source": [
        "train=pd.read_csv(in_out_train)\n",
        "test=pd.read_csv(in_out_test)\n",
        "sample = pd.read_csv (sample_submission)"
      ],
      "execution_count": 11,
      "outputs": []
    },
    {
      "cell_type": "code",
      "metadata": {
        "colab": {
          "base_uri": "https://localhost:8080/",
          "height": 355
        },
        "id": "YisCtaEnKXoT",
        "outputId": "ecf4bd53-0dc4-458c-8580-56127e7ac5df"
      },
      "source": [
        "\n",
        "train.head(10)"
      ],
      "execution_count": 12,
      "outputs": [
        {
          "output_type": "execute_result",
          "data": {
            "text/html": [
              "<div>\n",
              "<style scoped>\n",
              "    .dataframe tbody tr th:only-of-type {\n",
              "        vertical-align: middle;\n",
              "    }\n",
              "\n",
              "    .dataframe tbody tr th {\n",
              "        vertical-align: top;\n",
              "    }\n",
              "\n",
              "    .dataframe thead th {\n",
              "        text-align: right;\n",
              "    }\n",
              "</style>\n",
              "<table border=\"1\" class=\"dataframe\">\n",
              "  <thead>\n",
              "    <tr style=\"text-align: right;\">\n",
              "      <th></th>\n",
              "      <th>patient_id_</th>\n",
              "      <th>HAEMATOCRIT</th>\n",
              "      <th>HAEMOGLOBINS</th>\n",
              "      <th>ERYTHROCYTE</th>\n",
              "      <th>LEUCOCYTE</th>\n",
              "      <th>THROMBOCYTE</th>\n",
              "      <th>MCH</th>\n",
              "      <th>MCHC</th>\n",
              "      <th>MCV</th>\n",
              "      <th>AGE</th>\n",
              "      <th>SEX</th>\n",
              "      <th>SOURCE</th>\n",
              "    </tr>\n",
              "  </thead>\n",
              "  <tbody>\n",
              "    <tr>\n",
              "      <th>0</th>\n",
              "      <td>patient_id_1270</td>\n",
              "      <td>43.6</td>\n",
              "      <td>14.5</td>\n",
              "      <td>5.52</td>\n",
              "      <td>3.0</td>\n",
              "      <td>237</td>\n",
              "      <td>27.5</td>\n",
              "      <td>33.6</td>\n",
              "      <td>81.7</td>\n",
              "      <td>32</td>\n",
              "      <td>F</td>\n",
              "      <td>0</td>\n",
              "    </tr>\n",
              "    <tr>\n",
              "      <th>1</th>\n",
              "      <td>patient_id_1762</td>\n",
              "      <td>44.3</td>\n",
              "      <td>14.4</td>\n",
              "      <td>5.09</td>\n",
              "      <td>7.3</td>\n",
              "      <td>255</td>\n",
              "      <td>29.7</td>\n",
              "      <td>32.9</td>\n",
              "      <td>90.4</td>\n",
              "      <td>40</td>\n",
              "      <td>M</td>\n",
              "      <td>0</td>\n",
              "    </tr>\n",
              "    <tr>\n",
              "      <th>2</th>\n",
              "      <td>patient_id_3355</td>\n",
              "      <td>36.2</td>\n",
              "      <td>12.5</td>\n",
              "      <td>4.57</td>\n",
              "      <td>7.8</td>\n",
              "      <td>263</td>\n",
              "      <td>28.9</td>\n",
              "      <td>35.0</td>\n",
              "      <td>82.6</td>\n",
              "      <td>65</td>\n",
              "      <td>F</td>\n",
              "      <td>0</td>\n",
              "    </tr>\n",
              "    <tr>\n",
              "      <th>3</th>\n",
              "      <td>patient_id_2443</td>\n",
              "      <td>46.1</td>\n",
              "      <td>14.7</td>\n",
              "      <td>5.38</td>\n",
              "      <td>8.5</td>\n",
              "      <td>320</td>\n",
              "      <td>28.6</td>\n",
              "      <td>32.2</td>\n",
              "      <td>88.8</td>\n",
              "      <td>52</td>\n",
              "      <td>M</td>\n",
              "      <td>0</td>\n",
              "    </tr>\n",
              "    <tr>\n",
              "      <th>4</th>\n",
              "      <td>patient_id_3414</td>\n",
              "      <td>31.8</td>\n",
              "      <td>10.9</td>\n",
              "      <td>4.05</td>\n",
              "      <td>26.9</td>\n",
              "      <td>220</td>\n",
              "      <td>28.6</td>\n",
              "      <td>34.8</td>\n",
              "      <td>82.3</td>\n",
              "      <td>66</td>\n",
              "      <td>F</td>\n",
              "      <td>1</td>\n",
              "    </tr>\n",
              "    <tr>\n",
              "      <th>5</th>\n",
              "      <td>patient_id_1921</td>\n",
              "      <td>36.3</td>\n",
              "      <td>12.4</td>\n",
              "      <td>4.35</td>\n",
              "      <td>5.3</td>\n",
              "      <td>258</td>\n",
              "      <td>30.2</td>\n",
              "      <td>34.6</td>\n",
              "      <td>87.2</td>\n",
              "      <td>43</td>\n",
              "      <td>F</td>\n",
              "      <td>1</td>\n",
              "    </tr>\n",
              "    <tr>\n",
              "      <th>6</th>\n",
              "      <td>patient_id_537</td>\n",
              "      <td>46.8</td>\n",
              "      <td>15.5</td>\n",
              "      <td>5.65</td>\n",
              "      <td>3.8</td>\n",
              "      <td>35</td>\n",
              "      <td>28.7</td>\n",
              "      <td>33.5</td>\n",
              "      <td>85.7</td>\n",
              "      <td>21</td>\n",
              "      <td>M</td>\n",
              "      <td>1</td>\n",
              "    </tr>\n",
              "    <tr>\n",
              "      <th>7</th>\n",
              "      <td>patient_id_1589</td>\n",
              "      <td>34.5</td>\n",
              "      <td>11.3</td>\n",
              "      <td>4.20</td>\n",
              "      <td>13.8</td>\n",
              "      <td>286</td>\n",
              "      <td>28.6</td>\n",
              "      <td>33.2</td>\n",
              "      <td>86.0</td>\n",
              "      <td>37</td>\n",
              "      <td>F</td>\n",
              "      <td>1</td>\n",
              "    </tr>\n",
              "    <tr>\n",
              "      <th>8</th>\n",
              "      <td>patient_id_2039</td>\n",
              "      <td>36.7</td>\n",
              "      <td>12.5</td>\n",
              "      <td>4.44</td>\n",
              "      <td>19.4</td>\n",
              "      <td>87</td>\n",
              "      <td>29.8</td>\n",
              "      <td>34.5</td>\n",
              "      <td>86.3</td>\n",
              "      <td>45</td>\n",
              "      <td>F</td>\n",
              "      <td>1</td>\n",
              "    </tr>\n",
              "    <tr>\n",
              "      <th>9</th>\n",
              "      <td>patient_id_3624</td>\n",
              "      <td>38.8</td>\n",
              "      <td>12.6</td>\n",
              "      <td>4.93</td>\n",
              "      <td>15.5</td>\n",
              "      <td>389</td>\n",
              "      <td>26.9</td>\n",
              "      <td>32.9</td>\n",
              "      <td>81.8</td>\n",
              "      <td>68</td>\n",
              "      <td>F</td>\n",
              "      <td>1</td>\n",
              "    </tr>\n",
              "  </tbody>\n",
              "</table>\n",
              "</div>"
            ],
            "text/plain": [
              "       patient_id_  HAEMATOCRIT  HAEMOGLOBINS  ...  AGE  SEX  SOURCE\n",
              "0  patient_id_1270         43.6          14.5  ...   32    F       0\n",
              "1  patient_id_1762         44.3          14.4  ...   40    M       0\n",
              "2  patient_id_3355         36.2          12.5  ...   65    F       0\n",
              "3  patient_id_2443         46.1          14.7  ...   52    M       0\n",
              "4  patient_id_3414         31.8          10.9  ...   66    F       1\n",
              "5  patient_id_1921         36.3          12.4  ...   43    F       1\n",
              "6   patient_id_537         46.8          15.5  ...   21    M       1\n",
              "7  patient_id_1589         34.5          11.3  ...   37    F       1\n",
              "8  patient_id_2039         36.7          12.5  ...   45    F       1\n",
              "9  patient_id_3624         38.8          12.6  ...   68    F       1\n",
              "\n",
              "[10 rows x 12 columns]"
            ]
          },
          "metadata": {},
          "execution_count": 12
        }
      ]
    },
    {
      "cell_type": "code",
      "metadata": {
        "colab": {
          "base_uri": "https://localhost:8080/",
          "height": 202
        },
        "id": "JI-I7_fYLBZF",
        "outputId": "928e0f6d-4431-4812-aee3-8b74ed4ba89b"
      },
      "source": [
        "train.tail(5)"
      ],
      "execution_count": 13,
      "outputs": [
        {
          "output_type": "execute_result",
          "data": {
            "text/html": [
              "<div>\n",
              "<style scoped>\n",
              "    .dataframe tbody tr th:only-of-type {\n",
              "        vertical-align: middle;\n",
              "    }\n",
              "\n",
              "    .dataframe tbody tr th {\n",
              "        vertical-align: top;\n",
              "    }\n",
              "\n",
              "    .dataframe thead th {\n",
              "        text-align: right;\n",
              "    }\n",
              "</style>\n",
              "<table border=\"1\" class=\"dataframe\">\n",
              "  <thead>\n",
              "    <tr style=\"text-align: right;\">\n",
              "      <th></th>\n",
              "      <th>patient_id_</th>\n",
              "      <th>HAEMATOCRIT</th>\n",
              "      <th>HAEMOGLOBINS</th>\n",
              "      <th>ERYTHROCYTE</th>\n",
              "      <th>LEUCOCYTE</th>\n",
              "      <th>THROMBOCYTE</th>\n",
              "      <th>MCH</th>\n",
              "      <th>MCHC</th>\n",
              "      <th>MCV</th>\n",
              "      <th>AGE</th>\n",
              "      <th>SEX</th>\n",
              "      <th>SOURCE</th>\n",
              "    </tr>\n",
              "  </thead>\n",
              "  <tbody>\n",
              "    <tr>\n",
              "      <th>3083</th>\n",
              "      <td>patient_id_4149</td>\n",
              "      <td>40.5</td>\n",
              "      <td>13.8</td>\n",
              "      <td>4.54</td>\n",
              "      <td>10.9</td>\n",
              "      <td>290</td>\n",
              "      <td>32.1</td>\n",
              "      <td>34.5</td>\n",
              "      <td>93.1</td>\n",
              "      <td>79</td>\n",
              "      <td>M</td>\n",
              "      <td>0</td>\n",
              "    </tr>\n",
              "    <tr>\n",
              "      <th>3084</th>\n",
              "      <td>patient_id_1890</td>\n",
              "      <td>28.8</td>\n",
              "      <td>10.5</td>\n",
              "      <td>3.49</td>\n",
              "      <td>20.6</td>\n",
              "      <td>735</td>\n",
              "      <td>32.3</td>\n",
              "      <td>37.1</td>\n",
              "      <td>87.2</td>\n",
              "      <td>43</td>\n",
              "      <td>F</td>\n",
              "      <td>1</td>\n",
              "    </tr>\n",
              "    <tr>\n",
              "      <th>3085</th>\n",
              "      <td>patient_id_350</td>\n",
              "      <td>45.9</td>\n",
              "      <td>15.4</td>\n",
              "      <td>5.64</td>\n",
              "      <td>3.9</td>\n",
              "      <td>281</td>\n",
              "      <td>28.5</td>\n",
              "      <td>33.9</td>\n",
              "      <td>84.2</td>\n",
              "      <td>14</td>\n",
              "      <td>M</td>\n",
              "      <td>0</td>\n",
              "    </tr>\n",
              "    <tr>\n",
              "      <th>3086</th>\n",
              "      <td>patient_id_79</td>\n",
              "      <td>32.6</td>\n",
              "      <td>10.2</td>\n",
              "      <td>5.36</td>\n",
              "      <td>4.4</td>\n",
              "      <td>303</td>\n",
              "      <td>20.0</td>\n",
              "      <td>31.8</td>\n",
              "      <td>62.9</td>\n",
              "      <td>3</td>\n",
              "      <td>M</td>\n",
              "      <td>1</td>\n",
              "    </tr>\n",
              "    <tr>\n",
              "      <th>3087</th>\n",
              "      <td>patient_id_3927</td>\n",
              "      <td>41.5</td>\n",
              "      <td>14.0</td>\n",
              "      <td>5.23</td>\n",
              "      <td>4.3</td>\n",
              "      <td>176</td>\n",
              "      <td>28.1</td>\n",
              "      <td>34.1</td>\n",
              "      <td>82.3</td>\n",
              "      <td>74</td>\n",
              "      <td>F</td>\n",
              "      <td>0</td>\n",
              "    </tr>\n",
              "  </tbody>\n",
              "</table>\n",
              "</div>"
            ],
            "text/plain": [
              "          patient_id_  HAEMATOCRIT  HAEMOGLOBINS  ...  AGE  SEX  SOURCE\n",
              "3083  patient_id_4149         40.5          13.8  ...   79    M       0\n",
              "3084  patient_id_1890         28.8          10.5  ...   43    F       1\n",
              "3085   patient_id_350         45.9          15.4  ...   14    M       0\n",
              "3086    patient_id_79         32.6          10.2  ...    3    M       1\n",
              "3087  patient_id_3927         41.5          14.0  ...   74    F       0\n",
              "\n",
              "[5 rows x 12 columns]"
            ]
          },
          "metadata": {},
          "execution_count": 13
        }
      ]
    },
    {
      "cell_type": "code",
      "metadata": {
        "colab": {
          "base_uri": "https://localhost:8080/",
          "height": 202
        },
        "id": "CP7gKGdmMkDM",
        "outputId": "f7963661-ba43-4487-bc1d-2511690342c2"
      },
      "source": [
        "test.head()"
      ],
      "execution_count": 14,
      "outputs": [
        {
          "output_type": "execute_result",
          "data": {
            "text/html": [
              "<div>\n",
              "<style scoped>\n",
              "    .dataframe tbody tr th:only-of-type {\n",
              "        vertical-align: middle;\n",
              "    }\n",
              "\n",
              "    .dataframe tbody tr th {\n",
              "        vertical-align: top;\n",
              "    }\n",
              "\n",
              "    .dataframe thead th {\n",
              "        text-align: right;\n",
              "    }\n",
              "</style>\n",
              "<table border=\"1\" class=\"dataframe\">\n",
              "  <thead>\n",
              "    <tr style=\"text-align: right;\">\n",
              "      <th></th>\n",
              "      <th>patient_id_</th>\n",
              "      <th>HAEMATOCRIT</th>\n",
              "      <th>HAEMOGLOBINS</th>\n",
              "      <th>ERYTHROCYTE</th>\n",
              "      <th>LEUCOCYTE</th>\n",
              "      <th>THROMBOCYTE</th>\n",
              "      <th>MCH</th>\n",
              "      <th>MCHC</th>\n",
              "      <th>MCV</th>\n",
              "      <th>AGE</th>\n",
              "      <th>SEX</th>\n",
              "    </tr>\n",
              "  </thead>\n",
              "  <tbody>\n",
              "    <tr>\n",
              "      <th>0</th>\n",
              "      <td>patient_id_4373</td>\n",
              "      <td>33.0</td>\n",
              "      <td>11.1</td>\n",
              "      <td>4.15</td>\n",
              "      <td>11.1</td>\n",
              "      <td>329</td>\n",
              "      <td>28.4</td>\n",
              "      <td>34.1</td>\n",
              "      <td>83.2</td>\n",
              "      <td>89</td>\n",
              "      <td>F</td>\n",
              "    </tr>\n",
              "    <tr>\n",
              "      <th>1</th>\n",
              "      <td>patient_id_2204</td>\n",
              "      <td>34.0</td>\n",
              "      <td>11.1</td>\n",
              "      <td>4.23</td>\n",
              "      <td>9.7</td>\n",
              "      <td>120</td>\n",
              "      <td>27.9</td>\n",
              "      <td>33.1</td>\n",
              "      <td>84.1</td>\n",
              "      <td>47</td>\n",
              "      <td>F</td>\n",
              "    </tr>\n",
              "    <tr>\n",
              "      <th>2</th>\n",
              "      <td>patient_id_93</td>\n",
              "      <td>42.4</td>\n",
              "      <td>14.1</td>\n",
              "      <td>5.71</td>\n",
              "      <td>4.3</td>\n",
              "      <td>239</td>\n",
              "      <td>25.8</td>\n",
              "      <td>33.6</td>\n",
              "      <td>76.7</td>\n",
              "      <td>3</td>\n",
              "      <td>M</td>\n",
              "    </tr>\n",
              "    <tr>\n",
              "      <th>3</th>\n",
              "      <td>patient_id_798</td>\n",
              "      <td>40.3</td>\n",
              "      <td>13.4</td>\n",
              "      <td>5.19</td>\n",
              "      <td>4.7</td>\n",
              "      <td>208</td>\n",
              "      <td>27.1</td>\n",
              "      <td>33.7</td>\n",
              "      <td>80.5</td>\n",
              "      <td>25</td>\n",
              "      <td>F</td>\n",
              "    </tr>\n",
              "    <tr>\n",
              "      <th>4</th>\n",
              "      <td>patient_id_789</td>\n",
              "      <td>33.3</td>\n",
              "      <td>11.4</td>\n",
              "      <td>4.28</td>\n",
              "      <td>7.5</td>\n",
              "      <td>206</td>\n",
              "      <td>28.3</td>\n",
              "      <td>34.7</td>\n",
              "      <td>81.3</td>\n",
              "      <td>25</td>\n",
              "      <td>F</td>\n",
              "    </tr>\n",
              "  </tbody>\n",
              "</table>\n",
              "</div>"
            ],
            "text/plain": [
              "       patient_id_  HAEMATOCRIT  HAEMOGLOBINS  ERYTHROCYTE  ...  MCHC   MCV  AGE  SEX\n",
              "0  patient_id_4373         33.0          11.1         4.15  ...  34.1  83.2   89    F\n",
              "1  patient_id_2204         34.0          11.1         4.23  ...  33.1  84.1   47    F\n",
              "2    patient_id_93         42.4          14.1         5.71  ...  33.6  76.7    3    M\n",
              "3   patient_id_798         40.3          13.4         5.19  ...  33.7  80.5   25    F\n",
              "4   patient_id_789         33.3          11.4         4.28  ...  34.7  81.3   25    F\n",
              "\n",
              "[5 rows x 11 columns]"
            ]
          },
          "metadata": {},
          "execution_count": 14
        }
      ]
    },
    {
      "cell_type": "code",
      "metadata": {
        "colab": {
          "base_uri": "https://localhost:8080/",
          "height": 414
        },
        "id": "7xWdu7zJMtP4",
        "outputId": "199c2e8e-2e73-48de-a601-2692e2cd54b6"
      },
      "source": [
        "\n",
        "sample"
      ],
      "execution_count": 15,
      "outputs": [
        {
          "output_type": "execute_result",
          "data": {
            "text/html": [
              "<div>\n",
              "<style scoped>\n",
              "    .dataframe tbody tr th:only-of-type {\n",
              "        vertical-align: middle;\n",
              "    }\n",
              "\n",
              "    .dataframe tbody tr th {\n",
              "        vertical-align: top;\n",
              "    }\n",
              "\n",
              "    .dataframe thead th {\n",
              "        text-align: right;\n",
              "    }\n",
              "</style>\n",
              "<table border=\"1\" class=\"dataframe\">\n",
              "  <thead>\n",
              "    <tr style=\"text-align: right;\">\n",
              "      <th></th>\n",
              "      <th>patient_id_</th>\n",
              "      <th>SOURCE</th>\n",
              "    </tr>\n",
              "  </thead>\n",
              "  <tbody>\n",
              "    <tr>\n",
              "      <th>0</th>\n",
              "      <td>patient_id_4373</td>\n",
              "      <td>1</td>\n",
              "    </tr>\n",
              "    <tr>\n",
              "      <th>1</th>\n",
              "      <td>patient_id_2204</td>\n",
              "      <td>1</td>\n",
              "    </tr>\n",
              "    <tr>\n",
              "      <th>2</th>\n",
              "      <td>patient_id_93</td>\n",
              "      <td>1</td>\n",
              "    </tr>\n",
              "    <tr>\n",
              "      <th>3</th>\n",
              "      <td>patient_id_798</td>\n",
              "      <td>1</td>\n",
              "    </tr>\n",
              "    <tr>\n",
              "      <th>4</th>\n",
              "      <td>patient_id_789</td>\n",
              "      <td>1</td>\n",
              "    </tr>\n",
              "    <tr>\n",
              "      <th>...</th>\n",
              "      <td>...</td>\n",
              "      <td>...</td>\n",
              "    </tr>\n",
              "    <tr>\n",
              "      <th>1319</th>\n",
              "      <td>patient_id_2070</td>\n",
              "      <td>1</td>\n",
              "    </tr>\n",
              "    <tr>\n",
              "      <th>1320</th>\n",
              "      <td>patient_id_1789</td>\n",
              "      <td>1</td>\n",
              "    </tr>\n",
              "    <tr>\n",
              "      <th>1321</th>\n",
              "      <td>patient_id_1725</td>\n",
              "      <td>1</td>\n",
              "    </tr>\n",
              "    <tr>\n",
              "      <th>1322</th>\n",
              "      <td>patient_id_3707</td>\n",
              "      <td>1</td>\n",
              "    </tr>\n",
              "    <tr>\n",
              "      <th>1323</th>\n",
              "      <td>patient_id_3001</td>\n",
              "      <td>1</td>\n",
              "    </tr>\n",
              "  </tbody>\n",
              "</table>\n",
              "<p>1324 rows × 2 columns</p>\n",
              "</div>"
            ],
            "text/plain": [
              "          patient_id_  SOURCE\n",
              "0     patient_id_4373       1\n",
              "1     patient_id_2204       1\n",
              "2       patient_id_93       1\n",
              "3      patient_id_798       1\n",
              "4      patient_id_789       1\n",
              "...               ...     ...\n",
              "1319  patient_id_2070       1\n",
              "1320  patient_id_1789       1\n",
              "1321  patient_id_1725       1\n",
              "1322  patient_id_3707       1\n",
              "1323  patient_id_3001       1\n",
              "\n",
              "[1324 rows x 2 columns]"
            ]
          },
          "metadata": {},
          "execution_count": 15
        }
      ]
    },
    {
      "cell_type": "markdown",
      "metadata": {
        "id": "qrBiAF0xM1G2"
      },
      "source": [
        "### Exploratory Data Analysis\n",
        "\n",
        "- NB:\n",
        "Whatever cleaning or preprocessing performed on the train data should also be done on the test data."
      ]
    },
    {
      "cell_type": "code",
      "metadata": {
        "colab": {
          "base_uri": "https://localhost:8080/"
        },
        "id": "0KmrkDK3MxZ0",
        "outputId": "49814a4e-3a72-48f3-dbd8-ca45805fd371"
      },
      "source": [
        "train.shape\n"
      ],
      "execution_count": 16,
      "outputs": [
        {
          "output_type": "execute_result",
          "data": {
            "text/plain": [
              "(3088, 12)"
            ]
          },
          "metadata": {},
          "execution_count": 16
        }
      ]
    },
    {
      "cell_type": "code",
      "metadata": {
        "colab": {
          "base_uri": "https://localhost:8080/"
        },
        "id": "9kf6crm6M90O",
        "outputId": "c6fcc897-a55d-479e-e1e1-bd708b602880"
      },
      "source": [
        "test.shape"
      ],
      "execution_count": 17,
      "outputs": [
        {
          "output_type": "execute_result",
          "data": {
            "text/plain": [
              "(1324, 11)"
            ]
          },
          "metadata": {},
          "execution_count": 17
        }
      ]
    },
    {
      "cell_type": "code",
      "metadata": {
        "colab": {
          "base_uri": "https://localhost:8080/"
        },
        "id": "ZDSUjxcq1SGb",
        "outputId": "7cb80565-3e7c-410c-9698-41205d8b713a"
      },
      "source": [
        "sample.shape"
      ],
      "execution_count": 18,
      "outputs": [
        {
          "output_type": "execute_result",
          "data": {
            "text/plain": [
              "(1324, 2)"
            ]
          },
          "metadata": {},
          "execution_count": 18
        }
      ]
    },
    {
      "cell_type": "code",
      "metadata": {
        "colab": {
          "base_uri": "https://localhost:8080/"
        },
        "id": "Z5jPk1h3O6BQ",
        "outputId": "0bd06231-83f8-410c-a264-750f4c5c412d"
      },
      "source": [
        "train.columns"
      ],
      "execution_count": 19,
      "outputs": [
        {
          "output_type": "execute_result",
          "data": {
            "text/plain": [
              "Index(['patient_id_', 'HAEMATOCRIT', 'HAEMOGLOBINS', 'ERYTHROCYTE',\n",
              "       'LEUCOCYTE', 'THROMBOCYTE', 'MCH', 'MCHC', 'MCV', 'AGE', 'SEX',\n",
              "       'SOURCE'],\n",
              "      dtype='object')"
            ]
          },
          "metadata": {},
          "execution_count": 19
        }
      ]
    },
    {
      "cell_type": "code",
      "metadata": {
        "colab": {
          "base_uri": "https://localhost:8080/"
        },
        "id": "rzCdKTpZNBV7",
        "outputId": "72d3bbd4-56bd-47ae-8b38-ade383a9d29c"
      },
      "source": [
        "target = [col for col in train.columns if col not in test.columns]\n",
        "target"
      ],
      "execution_count": 20,
      "outputs": [
        {
          "output_type": "execute_result",
          "data": {
            "text/plain": [
              "['SOURCE']"
            ]
          },
          "metadata": {},
          "execution_count": 20
        }
      ]
    },
    {
      "cell_type": "markdown",
      "metadata": {
        "id": "OyCs2yQZNhpS"
      },
      "source": [
        "## Insights\n",
        "\n",
        "- The Source column is the target column.\n",
        "-  The Source column has two categories and it is an int datatype.\n",
        "- From the barchart ,the 'SOURCE' Column is somewhat balanced- 0=59% and 1= 41%\n",
        "- There are no missing values in the dataset"
      ]
    },
    {
      "cell_type": "code",
      "metadata": {
        "colab": {
          "base_uri": "https://localhost:8080/",
          "height": 352
        },
        "id": "WnwlWEsR10cM",
        "outputId": "3a8d83a1-a6f5-4ec1-dbab-0f69a4a604bf"
      },
      "source": [
        "sns.countplot(train['SOURCE'], label = 'counts') # visulaize the value_counts in the target variable \n",
        "# From the barchart below, the 'SOURCE' Column is somewhat balanced."
      ],
      "execution_count": 49,
      "outputs": [
        {
          "output_type": "stream",
          "name": "stderr",
          "text": [
            "/usr/local/lib/python3.7/dist-packages/seaborn/_decorators.py:43: FutureWarning: Pass the following variable as a keyword arg: x. From version 0.12, the only valid positional argument will be `data`, and passing other arguments without an explicit keyword will result in an error or misinterpretation.\n",
            "  FutureWarning\n"
          ]
        },
        {
          "output_type": "execute_result",
          "data": {
            "text/plain": [
              "<matplotlib.axes._subplots.AxesSubplot at 0x7ffa1bf33590>"
            ]
          },
          "metadata": {},
          "execution_count": 49
        },
        {
          "output_type": "display_data",
          "data": {
            "image/png": "[encoded data removed]",
            "text/plain": [
              "<Figure size 432x288 with 1 Axes>"
            ]
          },
          "metadata": {
            "needs_background": "light"
          }
        }
      ]
    },
    {
      "cell_type": "code",
      "metadata": {
        "colab": {
          "base_uri": "https://localhost:8080/"
        },
        "id": "IBo9VxzGP9dM",
        "outputId": "c5d9fdd5-3085-4bee-906f-69e69b0bc6b7"
      },
      "source": [
        "train ['SOURCE'].head(10)"
      ],
      "execution_count": 21,
      "outputs": [
        {
          "output_type": "execute_result",
          "data": {
            "text/plain": [
              "0    0\n",
              "1    0\n",
              "2    0\n",
              "3    0\n",
              "4    1\n",
              "5    1\n",
              "6    1\n",
              "7    1\n",
              "8    1\n",
              "9    1\n",
              "Name: SOURCE, dtype: int64"
            ]
          },
          "metadata": {},
          "execution_count": 21
        }
      ]
    },
    {
      "cell_type": "code",
      "metadata": {
        "colab": {
          "base_uri": "https://localhost:8080/"
        },
        "id": "sw8TdbejNW9K",
        "outputId": "8142b1b4-d8e5-4845-a123-4150d6d712fc"
      },
      "source": [
        "train ['SOURCE'].value_counts() #checking the number of categories present"
      ],
      "execution_count": 22,
      "outputs": [
        {
          "output_type": "execute_result",
          "data": {
            "text/plain": [
              "0    1822\n",
              "1    1266\n",
              "Name: SOURCE, dtype: int64"
            ]
          },
          "metadata": {},
          "execution_count": 22
        }
      ]
    },
    {
      "cell_type": "code",
      "metadata": {
        "colab": {
          "base_uri": "https://localhost:8080/"
        },
        "id": "a9J9qUHqTVbG",
        "outputId": "012e4640-2a65-4a9c-dd4a-79d386b60df1"
      },
      "source": [
        "percent_source = (train ['SOURCE'].value_counts()) / len (train['SOURCE'])  * 100  # checking %number of categories present\n",
        "percent_source"
      ],
      "execution_count": 23,
      "outputs": [
        {
          "output_type": "execute_result",
          "data": {
            "text/plain": [
              "0    59.002591\n",
              "1    40.997409\n",
              "Name: SOURCE, dtype: float64"
            ]
          },
          "metadata": {},
          "execution_count": 23
        }
      ]
    },
    {
      "cell_type": "code",
      "metadata": {
        "id": "Ipqqo3kxTNgo"
      },
      "source": [
        "#sns.kdeplot(train.SOURCE) ### distribution of the 'SOURCE column'"
      ],
      "execution_count": 25,
      "outputs": []
    },
    {
      "cell_type": "code",
      "metadata": {
        "colab": {
          "base_uri": "https://localhost:8080/",
          "height": 294
        },
        "id": "aPoh-IrxPhu7",
        "outputId": "f8602ea4-99e3-4923-8628-ea2ad1294b26"
      },
      "source": [
        "train.describe() # check for the statistics"
      ],
      "execution_count": 26,
      "outputs": [
        {
          "output_type": "execute_result",
          "data": {
            "text/html": [
              "<div>\n",
              "<style scoped>\n",
              "    .dataframe tbody tr th:only-of-type {\n",
              "        vertical-align: middle;\n",
              "    }\n",
              "\n",
              "    .dataframe tbody tr th {\n",
              "        vertical-align: top;\n",
              "    }\n",
              "\n",
              "    .dataframe thead th {\n",
              "        text-align: right;\n",
              "    }\n",
              "</style>\n",
              "<table border=\"1\" class=\"dataframe\">\n",
              "  <thead>\n",
              "    <tr style=\"text-align: right;\">\n",
              "      <th></th>\n",
              "      <th>HAEMATOCRIT</th>\n",
              "      <th>HAEMOGLOBINS</th>\n",
              "      <th>ERYTHROCYTE</th>\n",
              "      <th>LEUCOCYTE</th>\n",
              "      <th>THROMBOCYTE</th>\n",
              "      <th>MCH</th>\n",
              "      <th>MCHC</th>\n",
              "      <th>MCV</th>\n",
              "      <th>AGE</th>\n",
              "      <th>SOURCE</th>\n",
              "    </tr>\n",
              "  </thead>\n",
              "  <tbody>\n",
              "    <tr>\n",
              "      <th>count</th>\n",
              "      <td>3088.000000</td>\n",
              "      <td>3088.000000</td>\n",
              "      <td>3088.000000</td>\n",
              "      <td>3088.000000</td>\n",
              "      <td>3088.000000</td>\n",
              "      <td>3088.000000</td>\n",
              "      <td>3088.000000</td>\n",
              "      <td>3088.000000</td>\n",
              "      <td>3088.000000</td>\n",
              "      <td>3088.000000</td>\n",
              "    </tr>\n",
              "    <tr>\n",
              "      <th>mean</th>\n",
              "      <td>38.381865</td>\n",
              "      <td>12.638472</td>\n",
              "      <td>4.752160</td>\n",
              "      <td>8.788504</td>\n",
              "      <td>260.652850</td>\n",
              "      <td>28.218264</td>\n",
              "      <td>33.352364</td>\n",
              "      <td>84.540026</td>\n",
              "      <td>46.617876</td>\n",
              "      <td>0.409974</td>\n",
              "    </tr>\n",
              "    <tr>\n",
              "      <th>std</th>\n",
              "      <td>6.070420</td>\n",
              "      <td>2.104983</td>\n",
              "      <td>0.792281</td>\n",
              "      <td>5.055580</td>\n",
              "      <td>115.504157</td>\n",
              "      <td>2.658656</td>\n",
              "      <td>1.227691</td>\n",
              "      <td>6.814936</td>\n",
              "      <td>21.684646</td>\n",
              "      <td>0.491908</td>\n",
              "    </tr>\n",
              "    <tr>\n",
              "      <th>min</th>\n",
              "      <td>13.900000</td>\n",
              "      <td>4.300000</td>\n",
              "      <td>1.690000</td>\n",
              "      <td>1.200000</td>\n",
              "      <td>13.000000</td>\n",
              "      <td>14.900000</td>\n",
              "      <td>26.400000</td>\n",
              "      <td>54.000000</td>\n",
              "      <td>1.000000</td>\n",
              "      <td>0.000000</td>\n",
              "    </tr>\n",
              "    <tr>\n",
              "      <th>25%</th>\n",
              "      <td>34.500000</td>\n",
              "      <td>11.275000</td>\n",
              "      <td>4.240000</td>\n",
              "      <td>5.700000</td>\n",
              "      <td>191.000000</td>\n",
              "      <td>27.200000</td>\n",
              "      <td>32.700000</td>\n",
              "      <td>81.500000</td>\n",
              "      <td>29.000000</td>\n",
              "      <td>0.000000</td>\n",
              "    </tr>\n",
              "    <tr>\n",
              "      <th>50%</th>\n",
              "      <td>38.800000</td>\n",
              "      <td>12.800000</td>\n",
              "      <td>4.790000</td>\n",
              "      <td>7.600000</td>\n",
              "      <td>259.000000</td>\n",
              "      <td>28.700000</td>\n",
              "      <td>33.400000</td>\n",
              "      <td>85.400000</td>\n",
              "      <td>47.000000</td>\n",
              "      <td>0.000000</td>\n",
              "    </tr>\n",
              "    <tr>\n",
              "      <th>75%</th>\n",
              "      <td>42.700000</td>\n",
              "      <td>14.200000</td>\n",
              "      <td>5.260000</td>\n",
              "      <td>10.400000</td>\n",
              "      <td>325.000000</td>\n",
              "      <td>29.800000</td>\n",
              "      <td>34.100000</td>\n",
              "      <td>88.700000</td>\n",
              "      <td>64.000000</td>\n",
              "      <td>1.000000</td>\n",
              "    </tr>\n",
              "    <tr>\n",
              "      <th>max</th>\n",
              "      <td>69.200000</td>\n",
              "      <td>18.100000</td>\n",
              "      <td>8.070000</td>\n",
              "      <td>76.700000</td>\n",
              "      <td>1188.000000</td>\n",
              "      <td>36.800000</td>\n",
              "      <td>39.000000</td>\n",
              "      <td>105.300000</td>\n",
              "      <td>99.000000</td>\n",
              "      <td>1.000000</td>\n",
              "    </tr>\n",
              "  </tbody>\n",
              "</table>\n",
              "</div>"
            ],
            "text/plain": [
              "       HAEMATOCRIT  HAEMOGLOBINS  ...          AGE       SOURCE\n",
              "count  3088.000000   3088.000000  ...  3088.000000  3088.000000\n",
              "mean     38.381865     12.638472  ...    46.617876     0.409974\n",
              "std       6.070420      2.104983  ...    21.684646     0.491908\n",
              "min      13.900000      4.300000  ...     1.000000     0.000000\n",
              "25%      34.500000     11.275000  ...    29.000000     0.000000\n",
              "50%      38.800000     12.800000  ...    47.000000     0.000000\n",
              "75%      42.700000     14.200000  ...    64.000000     1.000000\n",
              "max      69.200000     18.100000  ...    99.000000     1.000000\n",
              "\n",
              "[8 rows x 10 columns]"
            ]
          },
          "metadata": {},
          "execution_count": 26
        }
      ]
    },
    {
      "cell_type": "markdown",
      "metadata": {
        "id": "7jPo7FIRRj8v"
      },
      "source": [
        ""
      ]
    },
    {
      "cell_type": "code",
      "metadata": {
        "colab": {
          "base_uri": "https://localhost:8080/"
        },
        "id": "yVi_bQsIQfll",
        "outputId": "daa7dd7a-670b-4fa2-db6a-6b403f0afe52"
      },
      "source": [
        "train.info() ##checking the data details present "
      ],
      "execution_count": 27,
      "outputs": [
        {
          "output_type": "stream",
          "name": "stdout",
          "text": [
            "<class 'pandas.core.frame.DataFrame'>\n",
            "RangeIndex: 3088 entries, 0 to 3087\n",
            "Data columns (total 12 columns):\n",
            " #   Column        Non-Null Count  Dtype  \n",
            "---  ------        --------------  -----  \n",
            " 0   patient_id_   3088 non-null   object \n",
            " 1   HAEMATOCRIT   3088 non-null   float64\n",
            " 2   HAEMOGLOBINS  3088 non-null   float64\n",
            " 3   ERYTHROCYTE   3088 non-null   float64\n",
            " 4   LEUCOCYTE     3088 non-null   float64\n",
            " 5   THROMBOCYTE   3088 non-null   int64  \n",
            " 6   MCH           3088 non-null   float64\n",
            " 7   MCHC          3088 non-null   float64\n",
            " 8   MCV           3088 non-null   float64\n",
            " 9   AGE           3088 non-null   int64  \n",
            " 10  SEX           3088 non-null   object \n",
            " 11  SOURCE        3088 non-null   int64  \n",
            "dtypes: float64(7), int64(3), object(2)\n",
            "memory usage: 289.6+ KB\n"
          ]
        }
      ]
    },
    {
      "cell_type": "markdown",
      "metadata": {
        "id": "ka0FGkR9aeHH"
      },
      "source": [
        "- There are two categorical columns(patient_id, and SEX). We can drop the id since it is not relevant to the model building.\n",
        "\n",
        "We will then encode the SEX column"
      ]
    },
    {
      "cell_type": "markdown",
      "metadata": {
        "id": "dOe_chGnc2Li"
      },
      "source": [
        "## Splitting the dataframe into numerical and categorical columns"
      ]
    },
    {
      "cell_type": "code",
      "metadata": {
        "colab": {
          "base_uri": "https://localhost:8080/"
        },
        "id": "NhNqLZmxdIGL",
        "outputId": "5ef7d2ed-41cc-42a9-9c1f-e39008c554ca"
      },
      "source": [
        "cat_feat= [feat for feat in train.columns if train[feat].dtype =='O']\n",
        "cat_feat"
      ],
      "execution_count": 28,
      "outputs": [
        {
          "output_type": "execute_result",
          "data": {
            "text/plain": [
              "['patient_id_', 'SEX']"
            ]
          },
          "metadata": {},
          "execution_count": 28
        }
      ]
    },
    {
      "cell_type": "code",
      "metadata": {
        "id": "nFdei2uK_l8p"
      },
      "source": [
        "#test_cat_feat= [feat for feat in test.columns if test[feat].dtype =='O']\n",
        "#test_cat_feat"
      ],
      "execution_count": 29,
      "outputs": []
    },
    {
      "cell_type": "code",
      "metadata": {
        "colab": {
          "base_uri": "https://localhost:8080/"
        },
        "id": "VkUU6bbLc0zf",
        "outputId": "48372a09-9d2f-4b75-f705-20ea35d61fad"
      },
      "source": [
        "num_feat= [feat for feat in train.columns if feat not in cat_feat ]\n",
        "num_feat"
      ],
      "execution_count": 30,
      "outputs": [
        {
          "output_type": "execute_result",
          "data": {
            "text/plain": [
              "['HAEMATOCRIT',\n",
              " 'HAEMOGLOBINS',\n",
              " 'ERYTHROCYTE',\n",
              " 'LEUCOCYTE',\n",
              " 'THROMBOCYTE',\n",
              " 'MCH',\n",
              " 'MCHC',\n",
              " 'MCV',\n",
              " 'AGE',\n",
              " 'SOURCE']"
            ]
          },
          "metadata": {},
          "execution_count": 30
        }
      ]
    },
    {
      "cell_type": "code",
      "metadata": {
        "colab": {
          "base_uri": "https://localhost:8080/",
          "height": 414
        },
        "id": "9aiS8ge6K5Rk",
        "outputId": "49936060-af1c-4a4c-8499-f8531488642f"
      },
      "source": [
        "train[num_feat]"
      ],
      "execution_count": 31,
      "outputs": [
        {
          "output_type": "execute_result",
          "data": {
            "text/html": [
              "<div>\n",
              "<style scoped>\n",
              "    .dataframe tbody tr th:only-of-type {\n",
              "        vertical-align: middle;\n",
              "    }\n",
              "\n",
              "    .dataframe tbody tr th {\n",
              "        vertical-align: top;\n",
              "    }\n",
              "\n",
              "    .dataframe thead th {\n",
              "        text-align: right;\n",
              "    }\n",
              "</style>\n",
              "<table border=\"1\" class=\"dataframe\">\n",
              "  <thead>\n",
              "    <tr style=\"text-align: right;\">\n",
              "      <th></th>\n",
              "      <th>HAEMATOCRIT</th>\n",
              "      <th>HAEMOGLOBINS</th>\n",
              "      <th>ERYTHROCYTE</th>\n",
              "      <th>LEUCOCYTE</th>\n",
              "      <th>THROMBOCYTE</th>\n",
              "      <th>MCH</th>\n",
              "      <th>MCHC</th>\n",
              "      <th>MCV</th>\n",
              "      <th>AGE</th>\n",
              "      <th>SOURCE</th>\n",
              "    </tr>\n",
              "  </thead>\n",
              "  <tbody>\n",
              "    <tr>\n",
              "      <th>0</th>\n",
              "      <td>43.6</td>\n",
              "      <td>14.5</td>\n",
              "      <td>5.52</td>\n",
              "      <td>3.0</td>\n",
              "      <td>237</td>\n",
              "      <td>27.5</td>\n",
              "      <td>33.6</td>\n",
              "      <td>81.7</td>\n",
              "      <td>32</td>\n",
              "      <td>0</td>\n",
              "    </tr>\n",
              "    <tr>\n",
              "      <th>1</th>\n",
              "      <td>44.3</td>\n",
              "      <td>14.4</td>\n",
              "      <td>5.09</td>\n",
              "      <td>7.3</td>\n",
              "      <td>255</td>\n",
              "      <td>29.7</td>\n",
              "      <td>32.9</td>\n",
              "      <td>90.4</td>\n",
              "      <td>40</td>\n",
              "      <td>0</td>\n",
              "    </tr>\n",
              "    <tr>\n",
              "      <th>2</th>\n",
              "      <td>36.2</td>\n",
              "      <td>12.5</td>\n",
              "      <td>4.57</td>\n",
              "      <td>7.8</td>\n",
              "      <td>263</td>\n",
              "      <td>28.9</td>\n",
              "      <td>35.0</td>\n",
              "      <td>82.6</td>\n",
              "      <td>65</td>\n",
              "      <td>0</td>\n",
              "    </tr>\n",
              "    <tr>\n",
              "      <th>3</th>\n",
              "      <td>46.1</td>\n",
              "      <td>14.7</td>\n",
              "      <td>5.38</td>\n",
              "      <td>8.5</td>\n",
              "      <td>320</td>\n",
              "      <td>28.6</td>\n",
              "      <td>32.2</td>\n",
              "      <td>88.8</td>\n",
              "      <td>52</td>\n",
              "      <td>0</td>\n",
              "    </tr>\n",
              "    <tr>\n",
              "      <th>4</th>\n",
              "      <td>31.8</td>\n",
              "      <td>10.9</td>\n",
              "      <td>4.05</td>\n",
              "      <td>26.9</td>\n",
              "      <td>220</td>\n",
              "      <td>28.6</td>\n",
              "      <td>34.8</td>\n",
              "      <td>82.3</td>\n",
              "      <td>66</td>\n",
              "      <td>1</td>\n",
              "    </tr>\n",
              "    <tr>\n",
              "      <th>...</th>\n",
              "      <td>...</td>\n",
              "      <td>...</td>\n",
              "      <td>...</td>\n",
              "      <td>...</td>\n",
              "      <td>...</td>\n",
              "      <td>...</td>\n",
              "      <td>...</td>\n",
              "      <td>...</td>\n",
              "      <td>...</td>\n",
              "      <td>...</td>\n",
              "    </tr>\n",
              "    <tr>\n",
              "      <th>3083</th>\n",
              "      <td>40.5</td>\n",
              "      <td>13.8</td>\n",
              "      <td>4.54</td>\n",
              "      <td>10.9</td>\n",
              "      <td>290</td>\n",
              "      <td>32.1</td>\n",
              "      <td>34.5</td>\n",
              "      <td>93.1</td>\n",
              "      <td>79</td>\n",
              "      <td>0</td>\n",
              "    </tr>\n",
              "    <tr>\n",
              "      <th>3084</th>\n",
              "      <td>28.8</td>\n",
              "      <td>10.5</td>\n",
              "      <td>3.49</td>\n",
              "      <td>20.6</td>\n",
              "      <td>735</td>\n",
              "      <td>32.3</td>\n",
              "      <td>37.1</td>\n",
              "      <td>87.2</td>\n",
              "      <td>43</td>\n",
              "      <td>1</td>\n",
              "    </tr>\n",
              "    <tr>\n",
              "      <th>3085</th>\n",
              "      <td>45.9</td>\n",
              "      <td>15.4</td>\n",
              "      <td>5.64</td>\n",
              "      <td>3.9</td>\n",
              "      <td>281</td>\n",
              "      <td>28.5</td>\n",
              "      <td>33.9</td>\n",
              "      <td>84.2</td>\n",
              "      <td>14</td>\n",
              "      <td>0</td>\n",
              "    </tr>\n",
              "    <tr>\n",
              "      <th>3086</th>\n",
              "      <td>32.6</td>\n",
              "      <td>10.2</td>\n",
              "      <td>5.36</td>\n",
              "      <td>4.4</td>\n",
              "      <td>303</td>\n",
              "      <td>20.0</td>\n",
              "      <td>31.8</td>\n",
              "      <td>62.9</td>\n",
              "      <td>3</td>\n",
              "      <td>1</td>\n",
              "    </tr>\n",
              "    <tr>\n",
              "      <th>3087</th>\n",
              "      <td>41.5</td>\n",
              "      <td>14.0</td>\n",
              "      <td>5.23</td>\n",
              "      <td>4.3</td>\n",
              "      <td>176</td>\n",
              "      <td>28.1</td>\n",
              "      <td>34.1</td>\n",
              "      <td>82.3</td>\n",
              "      <td>74</td>\n",
              "      <td>0</td>\n",
              "    </tr>\n",
              "  </tbody>\n",
              "</table>\n",
              "<p>3088 rows × 10 columns</p>\n",
              "</div>"
            ],
            "text/plain": [
              "      HAEMATOCRIT  HAEMOGLOBINS  ERYTHROCYTE  ...   MCV  AGE  SOURCE\n",
              "0            43.6          14.5         5.52  ...  81.7   32       0\n",
              "1            44.3          14.4         5.09  ...  90.4   40       0\n",
              "2            36.2          12.5         4.57  ...  82.6   65       0\n",
              "3            46.1          14.7         5.38  ...  88.8   52       0\n",
              "4            31.8          10.9         4.05  ...  82.3   66       1\n",
              "...           ...           ...          ...  ...   ...  ...     ...\n",
              "3083         40.5          13.8         4.54  ...  93.1   79       0\n",
              "3084         28.8          10.5         3.49  ...  87.2   43       1\n",
              "3085         45.9          15.4         5.64  ...  84.2   14       0\n",
              "3086         32.6          10.2         5.36  ...  62.9    3       1\n",
              "3087         41.5          14.0         5.23  ...  82.3   74       0\n",
              "\n",
              "[3088 rows x 10 columns]"
            ]
          },
          "metadata": {},
          "execution_count": 31
        }
      ]
    },
    {
      "cell_type": "code",
      "metadata": {
        "colab": {
          "base_uri": "https://localhost:8080/"
        },
        "id": "Bv7b7UTJKi5S",
        "outputId": "3f9ab84a-f224-4f18-ae4b-8102870e6f8d"
      },
      "source": [
        "#remove the target feature and the patient_id from the numerical features\n",
        "rem= ['SOURCE']\n",
        "for i in rem:\n",
        "   num_feat.remove(i)\n",
        "num_feat"
      ],
      "execution_count": 32,
      "outputs": [
        {
          "output_type": "execute_result",
          "data": {
            "text/plain": [
              "['HAEMATOCRIT',\n",
              " 'HAEMOGLOBINS',\n",
              " 'ERYTHROCYTE',\n",
              " 'LEUCOCYTE',\n",
              " 'THROMBOCYTE',\n",
              " 'MCH',\n",
              " 'MCHC',\n",
              " 'MCV',\n",
              " 'AGE']"
            ]
          },
          "metadata": {},
          "execution_count": 32
        }
      ]
    },
    {
      "cell_type": "code",
      "metadata": {
        "id": "AtYwNqYEADiJ"
      },
      "source": [
        "#test_num_feat= [feat for feat in test.columns if feat not in cat_feat ]\n",
        "#test_num_feat"
      ],
      "execution_count": 33,
      "outputs": []
    },
    {
      "cell_type": "code",
      "metadata": {
        "colab": {
          "base_uri": "https://localhost:8080/"
        },
        "id": "NafD77EMa3qb",
        "outputId": "a94b2205-ec0b-4a41-bf32-a7c415202b6d"
      },
      "source": [
        "train['SEX'].value_counts() # to check the number of categories present in the 'SEX' column"
      ],
      "execution_count": 34,
      "outputs": [
        {
          "output_type": "execute_result",
          "data": {
            "text/plain": [
              "M    1617\n",
              "F    1471\n",
              "Name: SEX, dtype: int64"
            ]
          },
          "metadata": {},
          "execution_count": 34
        }
      ]
    },
    {
      "cell_type": "code",
      "metadata": {
        "colab": {
          "base_uri": "https://localhost:8080/"
        },
        "id": "uxdGaUnBAP3g",
        "outputId": "5cec876a-9346-4b89-e91e-ba59dc2a7b7c"
      },
      "source": [
        "test['SEX'].value_counts() # to check the number of categories present in the 'SEX' column"
      ],
      "execution_count": 35,
      "outputs": [
        {
          "output_type": "execute_result",
          "data": {
            "text/plain": [
              "M    673\n",
              "F    651\n",
              "Name: SEX, dtype: int64"
            ]
          },
          "metadata": {},
          "execution_count": 35
        }
      ]
    },
    {
      "cell_type": "code",
      "metadata": {
        "colab": {
          "base_uri": "https://localhost:8080/",
          "height": 202
        },
        "id": "_NbLUv1OciaW",
        "outputId": "c1ffc3f5-37a6-44ff-b605-1cef6b9db6b8"
      },
      "source": [
        "train.drop('patient_id_' , axis=1, inplace=True)\n",
        "train.head()\n",
        "# drop patient_id and check the train.head to confirm the drop"
      ],
      "execution_count": 36,
      "outputs": [
        {
          "output_type": "execute_result",
          "data": {
            "text/html": [
              "<div>\n",
              "<style scoped>\n",
              "    .dataframe tbody tr th:only-of-type {\n",
              "        vertical-align: middle;\n",
              "    }\n",
              "\n",
              "    .dataframe tbody tr th {\n",
              "        vertical-align: top;\n",
              "    }\n",
              "\n",
              "    .dataframe thead th {\n",
              "        text-align: right;\n",
              "    }\n",
              "</style>\n",
              "<table border=\"1\" class=\"dataframe\">\n",
              "  <thead>\n",
              "    <tr style=\"text-align: right;\">\n",
              "      <th></th>\n",
              "      <th>HAEMATOCRIT</th>\n",
              "      <th>HAEMOGLOBINS</th>\n",
              "      <th>ERYTHROCYTE</th>\n",
              "      <th>LEUCOCYTE</th>\n",
              "      <th>THROMBOCYTE</th>\n",
              "      <th>MCH</th>\n",
              "      <th>MCHC</th>\n",
              "      <th>MCV</th>\n",
              "      <th>AGE</th>\n",
              "      <th>SEX</th>\n",
              "      <th>SOURCE</th>\n",
              "    </tr>\n",
              "  </thead>\n",
              "  <tbody>\n",
              "    <tr>\n",
              "      <th>0</th>\n",
              "      <td>43.6</td>\n",
              "      <td>14.5</td>\n",
              "      <td>5.52</td>\n",
              "      <td>3.0</td>\n",
              "      <td>237</td>\n",
              "      <td>27.5</td>\n",
              "      <td>33.6</td>\n",
              "      <td>81.7</td>\n",
              "      <td>32</td>\n",
              "      <td>F</td>\n",
              "      <td>0</td>\n",
              "    </tr>\n",
              "    <tr>\n",
              "      <th>1</th>\n",
              "      <td>44.3</td>\n",
              "      <td>14.4</td>\n",
              "      <td>5.09</td>\n",
              "      <td>7.3</td>\n",
              "      <td>255</td>\n",
              "      <td>29.7</td>\n",
              "      <td>32.9</td>\n",
              "      <td>90.4</td>\n",
              "      <td>40</td>\n",
              "      <td>M</td>\n",
              "      <td>0</td>\n",
              "    </tr>\n",
              "    <tr>\n",
              "      <th>2</th>\n",
              "      <td>36.2</td>\n",
              "      <td>12.5</td>\n",
              "      <td>4.57</td>\n",
              "      <td>7.8</td>\n",
              "      <td>263</td>\n",
              "      <td>28.9</td>\n",
              "      <td>35.0</td>\n",
              "      <td>82.6</td>\n",
              "      <td>65</td>\n",
              "      <td>F</td>\n",
              "      <td>0</td>\n",
              "    </tr>\n",
              "    <tr>\n",
              "      <th>3</th>\n",
              "      <td>46.1</td>\n",
              "      <td>14.7</td>\n",
              "      <td>5.38</td>\n",
              "      <td>8.5</td>\n",
              "      <td>320</td>\n",
              "      <td>28.6</td>\n",
              "      <td>32.2</td>\n",
              "      <td>88.8</td>\n",
              "      <td>52</td>\n",
              "      <td>M</td>\n",
              "      <td>0</td>\n",
              "    </tr>\n",
              "    <tr>\n",
              "      <th>4</th>\n",
              "      <td>31.8</td>\n",
              "      <td>10.9</td>\n",
              "      <td>4.05</td>\n",
              "      <td>26.9</td>\n",
              "      <td>220</td>\n",
              "      <td>28.6</td>\n",
              "      <td>34.8</td>\n",
              "      <td>82.3</td>\n",
              "      <td>66</td>\n",
              "      <td>F</td>\n",
              "      <td>1</td>\n",
              "    </tr>\n",
              "  </tbody>\n",
              "</table>\n",
              "</div>"
            ],
            "text/plain": [
              "   HAEMATOCRIT  HAEMOGLOBINS  ERYTHROCYTE  LEUCOCYTE  ...   MCV  AGE  SEX  SOURCE\n",
              "0         43.6          14.5         5.52        3.0  ...  81.7   32    F       0\n",
              "1         44.3          14.4         5.09        7.3  ...  90.4   40    M       0\n",
              "2         36.2          12.5         4.57        7.8  ...  82.6   65    F       0\n",
              "3         46.1          14.7         5.38        8.5  ...  88.8   52    M       0\n",
              "4         31.8          10.9         4.05       26.9  ...  82.3   66    F       1\n",
              "\n",
              "[5 rows x 11 columns]"
            ]
          },
          "metadata": {},
          "execution_count": 36
        }
      ]
    },
    {
      "cell_type": "markdown",
      "metadata": {
        "id": "fBrHWKHRbPw_"
      },
      "source": [
        "- Since the 'SEX' has just two categories, we can use the one-hot encoder or label encoder(on the train and test data)"
      ]
    },
    {
      "cell_type": "code",
      "metadata": {
        "colab": {
          "base_uri": "https://localhost:8080/"
        },
        "id": "-jY4a6roaFIt",
        "outputId": "0974843f-26f7-4263-f4bb-93c6d2ce2f54"
      },
      "source": [
        "train.isna().sum() ##to check for missing values"
      ],
      "execution_count": 37,
      "outputs": [
        {
          "output_type": "execute_result",
          "data": {
            "text/plain": [
              "HAEMATOCRIT     0\n",
              "HAEMOGLOBINS    0\n",
              "ERYTHROCYTE     0\n",
              "LEUCOCYTE       0\n",
              "THROMBOCYTE     0\n",
              "MCH             0\n",
              "MCHC            0\n",
              "MCV             0\n",
              "AGE             0\n",
              "SEX             0\n",
              "SOURCE          0\n",
              "dtype: int64"
            ]
          },
          "metadata": {},
          "execution_count": 37
        }
      ]
    },
    {
      "cell_type": "code",
      "metadata": {
        "colab": {
          "base_uri": "https://localhost:8080/"
        },
        "id": "S0DObcVimeU1",
        "outputId": "99d88317-4c20-4d58-d1c1-4c589aa6318b"
      },
      "source": [
        "test.isna().sum()"
      ],
      "execution_count": 38,
      "outputs": [
        {
          "output_type": "execute_result",
          "data": {
            "text/plain": [
              "patient_id_     0\n",
              "HAEMATOCRIT     0\n",
              "HAEMOGLOBINS    0\n",
              "ERYTHROCYTE     0\n",
              "LEUCOCYTE       0\n",
              "THROMBOCYTE     0\n",
              "MCH             0\n",
              "MCHC            0\n",
              "MCV             0\n",
              "AGE             0\n",
              "SEX             0\n",
              "dtype: int64"
            ]
          },
          "metadata": {},
          "execution_count": 38
        }
      ]
    },
    {
      "cell_type": "markdown",
      "metadata": {
        "id": "9dDATOthpdc5"
      },
      "source": [
        "### Checking for the correlation between the features with reference to the target variable."
      ]
    },
    {
      "cell_type": "code",
      "metadata": {
        "colab": {
          "base_uri": "https://localhost:8080/",
          "height": 466
        },
        "id": "wJquXj73aRHQ",
        "outputId": "da6a2a73-e302-4a30-d9df-40a636baa5e3"
      },
      "source": [
        "plt.figure(figsize=(12, 6))\n",
        "heatmap = sns.heatmap(train.corr(), vmin=-1, vmax=1, annot=True) ### checking the correlation between the features\n",
        "heatmap.set_title('Correlation Heatmap', fontdict={'fontsize':12}, pad=12);"
      ],
      "execution_count": 39,
      "outputs": [
        {
          "output_type": "display_data",
          "data": {
            "image/png": "[encoded data removed]",
            "text/plain": [
              "<Figure size 864x432 with 2 Axes>"
            ]
          },
          "metadata": {
            "needs_background": "light"
          }
        }
      ]
    },
    {
      "cell_type": "markdown",
      "metadata": {
        "id": "tbH23ragrO6E"
      },
      "source": [
        "### QUESTIONS\n",
        "\n",
        "1. Does the age of the patient have an influence on whether the patient will be an incare or outcare?\n",
        "\n",
        "2. Is there a relationship between the LEAUCOCYTE and the SOURCE column?\n",
        "\n",
        "3. Can we make any inference from the sex column? "
      ]
    },
    {
      "cell_type": "code",
      "metadata": {
        "colab": {
          "base_uri": "https://localhost:8080/",
          "height": 878
        },
        "id": "sVEq3ithv8mG",
        "outputId": "c27f5ec8-7464-4940-c5c3-c33a6556910e"
      },
      "source": [
        "train.hist(bins=30, figsize=(20, 15))\n",
        "plt.show()"
      ],
      "execution_count": 40,
      "outputs": [
        {
          "output_type": "display_data",
          "data": {
            "image/png": "[encoded data removed]",
            "text/plain": [
              "<Figure size 1440x1080 with 12 Axes>"
            ]
          },
          "metadata": {
            "needs_background": "light"
          }
        }
      ]
    },
    {
      "cell_type": "code",
      "metadata": {
        "colab": {
          "base_uri": "https://localhost:8080/"
        },
        "id": "1nrXHEth0nUP",
        "outputId": "f0f73937-c8ac-4d59-83f8-98cc08540edb"
      },
      "source": [
        "train.columns"
      ],
      "execution_count": 46,
      "outputs": [
        {
          "output_type": "execute_result",
          "data": {
            "text/plain": [
              "Index(['HAEMATOCRIT', 'HAEMOGLOBINS', 'ERYTHROCYTE', 'LEUCOCYTE',\n",
              "       'THROMBOCYTE', 'MCH', 'MCHC', 'MCV', 'AGE', 'SEX', 'SOURCE'],\n",
              "      dtype='object')"
            ]
          },
          "metadata": {},
          "execution_count": 46
        }
      ]
    },
    {
      "cell_type": "code",
      "metadata": {
        "colab": {
          "base_uri": "https://localhost:8080/"
        },
        "id": "kNY8Dy_bg_Q0",
        "outputId": "1fad575a-707b-4063-8e40-a4f69fef519e"
      },
      "source": [
        "train.SOURCE.value_counts() "
      ],
      "execution_count": 43,
      "outputs": [
        {
          "output_type": "execute_result",
          "data": {
            "text/plain": [
              "0    1822\n",
              "1    1266\n",
              "Name: SOURCE, dtype: int64"
            ]
          },
          "metadata": {},
          "execution_count": 43
        }
      ]
    },
    {
      "cell_type": "markdown",
      "metadata": {
        "id": "MMdS7BvghA8M"
      },
      "source": [
        "- There are 1822 inpatients(0) and 1266 outpatients(1)"
      ]
    },
    {
      "cell_type": "code",
      "metadata": {
        "colab": {
          "base_uri": "https://localhost:8080/",
          "height": 352
        },
        "id": "rbzOnM5I1bOm",
        "outputId": "8b83a636-2ca1-436c-d63a-ed642344aaed"
      },
      "source": [
        "sns.countplot(train['SOURCE'], label = 'counts') # visulaize the value_counts in the target variable \n",
        "# From the barchart below, the 'SOURCE' Column is somewhat balanced."
      ],
      "execution_count": 48,
      "outputs": [
        {
          "output_type": "stream",
          "name": "stderr",
          "text": [
            "/usr/local/lib/python3.7/dist-packages/seaborn/_decorators.py:43: FutureWarning: Pass the following variable as a keyword arg: x. From version 0.12, the only valid positional argument will be `data`, and passing other arguments without an explicit keyword will result in an error or misinterpretation.\n",
            "  FutureWarning\n"
          ]
        },
        {
          "output_type": "execute_result",
          "data": {
            "text/plain": [
              "<matplotlib.axes._subplots.AxesSubplot at 0x7ffa1ba32890>"
            ]
          },
          "metadata": {},
          "execution_count": 48
        },
        {
          "output_type": "display_data",
          "data": {
            "image/png": "[encoded data removed]",
            "text/plain": [
              "<Figure size 432x288 with 1 Axes>"
            ]
          },
          "metadata": {
            "needs_background": "light"
          }
        }
      ]
    },
    {
      "cell_type": "code",
      "metadata": {
        "colab": {
          "base_uri": "https://localhost:8080/",
          "height": 278
        },
        "id": "SM0gtU5guXru",
        "outputId": "d5b65cba-e283-411f-be1b-0c15661b45e5"
      },
      "source": [
        "sns.boxplot (x= 'SOURCE', y= 'AGE', data =train);"
      ],
      "execution_count": 41,
      "outputs": [
        {
          "output_type": "display_data",
          "data": {
            "image/png": "[encoded data removed]",
            "text/plain": [
              "<Figure size 432x288 with 1 Axes>"
            ]
          },
          "metadata": {
            "needs_background": "light"
          }
        }
      ]
    },
    {
      "cell_type": "markdown",
      "metadata": {
        "id": "Cc2MPRaplzzA"
      },
      "source": [
        "\n",
        "- The oldest patient is within the age of 100 and the youngest patient is probably a todler.\n",
        "\n",
        "- Most of the inpatients (blue box plot) fall somewhere around 25-65 years, with the median age of 47.\n",
        "```\n",
        "- The outpatients have a similar distribution , though with the oldest falling around the 90 year mark```\n",
        "\n"
      ]
    },
    {
      "cell_type": "code",
      "metadata": {
        "colab": {
          "base_uri": "https://localhost:8080/",
          "height": 282
        },
        "id": "AMRh_3iHuto3",
        "outputId": "6baa38cd-abca-4197-944b-1406a1e82347"
      },
      "source": [
        "sns.boxplot (x= 'SOURCE', y= 'LEUCOCYTE', data =train);"
      ],
      "execution_count": 44,
      "outputs": [
        {
          "output_type": "display_data",
          "data": {
            "image/png": "[encoded data removed]",
            "text/plain": [
              "<Figure size 432x288 with 1 Axes>"
            ]
          },
          "metadata": {
            "needs_background": "light"
          }
        }
      ]
    },
    {
      "cell_type": "markdown",
      "metadata": {
        "id": "q0Gg4UoR2JJH"
      },
      "source": [
        "- There are some outliers in the Leucocyte column.\n",
        "\n",
        "# Since the leucocyte is main purpose is to defend the body against infection and disease by ingesting foreign materials and cellular debris, then it correlates with the box plot above which shows the inpatients have less leucocytes compared to the outpatients."
      ]
    },
    {
      "cell_type": "code",
      "metadata": {
        "colab": {
          "base_uri": "https://localhost:8080/",
          "height": 278
        },
        "id": "UtOY-Km6qKrM",
        "outputId": "0b57bcb7-046f-4274-c376-4b670acb8bd8"
      },
      "source": [
        "sns.countplot (x= 'SEX', hue= 'SOURCE', data =train);"
      ],
      "execution_count": 49,
      "outputs": [
        {
          "output_type": "display_data",
          "data": {
            "image/png": "[encoded data removed]",
            "text/plain": [
              "<Figure size 432x288 with 1 Axes>"
            ]
          },
          "metadata": {
            "needs_background": "light"
          }
        }
      ]
    },
    {
      "cell_type": "markdown",
      "metadata": {
        "id": "jS07r7Sj5qad"
      },
      "source": [
        "- The number of female and male inpatients are very close.\n",
        "- There are more male outpatients than female outpatients.\n",
        "\n",
        "## Question\n",
        "\n",
        "-- Since there are more male outpatients than females, could it be that the % of females with fewer leucocytes are more??? \n",
        "\n"
      ]
    },
    {
      "cell_type": "markdown",
      "metadata": {
        "id": "G5_ORTn9XMO6"
      },
      "source": [
        "##PREPROCESSING"
      ]
    },
    {
      "cell_type": "markdown",
      "metadata": {
        "id": "0SBPYo1d6oar"
      },
      "source": [
        "## Encoding the categorical variable."
      ]
    },
    {
      "cell_type": "code",
      "metadata": {
        "id": "iBBLJ9NHP-RO"
      },
      "source": [
        "from sklearn import preprocessing\n",
        "\n",
        "le_SEX = preprocessing.LabelEncoder()\n",
        "\n",
        "train.SEX= le_SEX.fit_transform(train.SEX)\n"
      ],
      "execution_count": 59,
      "outputs": []
    },
    {
      "cell_type": "code",
      "metadata": {
        "id": "_xHPDpwGP_p4"
      },
      "source": [
        "test.SEX = le_SEX.transform(test.SEX)"
      ],
      "execution_count": 60,
      "outputs": []
    },
    {
      "cell_type": "code",
      "metadata": {
        "id": "RPEcTs3ORBa9"
      },
      "source": [
        "num_feat.append ('SEX')"
      ],
      "execution_count": 61,
      "outputs": []
    },
    {
      "cell_type": "code",
      "metadata": {
        "id": "to-Hbz6UREHZ"
      },
      "source": [
        "cat_feat.remove ('SEX')"
      ],
      "execution_count": 62,
      "outputs": []
    },
    {
      "cell_type": "markdown",
      "metadata": {
        "id": "0iat_f2DNmX2"
      },
      "source": [
        "### Feature Scaling\n",
        "\n",
        "- It is necessary to do feature scaling to bring all features in the same standing so that one significant number doesn’t impact the model just because of their large magnitude.\n",
        "\n",
        "- In the train data for instance, the maximum in ERYTHROCYTE is 8.07 and the maximum in THROMBOCYTE is 1188, so it will be safe to create scaled values of our features."
      ]
    },
    {
      "cell_type": "code",
      "metadata": {
        "id": "kUqSp_bJMpdl"
      },
      "source": [
        "###instantitiate standard scaler.\n",
        "\n",
        "scaler = StandardScaler()\n",
        "cols = num_feat\n",
        "\n",
        "x = scaler.fit_transform(train[num_feat])\n",
        "testing = scaler.fit_transform(test[num_feat])\n"
      ],
      "execution_count": 63,
      "outputs": []
    },
    {
      "cell_type": "code",
      "metadata": {
        "colab": {
          "base_uri": "https://localhost:8080/",
          "height": 202
        },
        "id": "9HAJhKodMxqH",
        "outputId": "d76f3c38-9cec-4b43-d62b-26e4f8ea1378"
      },
      "source": [
        "# create a dataframe out of the scaled data so we can still have values we can relate with instead of the array values.\n",
        "\n",
        "x= pd.DataFrame(data = x, columns= cols)\n",
        "testing=pd.DataFrame(data = testing, columns= cols)\n",
        "\n",
        "x.head()"
      ],
      "execution_count": 64,
      "outputs": [
        {
          "output_type": "execute_result",
          "data": {
            "text/html": [
              "<div>\n",
              "<style scoped>\n",
              "    .dataframe tbody tr th:only-of-type {\n",
              "        vertical-align: middle;\n",
              "    }\n",
              "\n",
              "    .dataframe tbody tr th {\n",
              "        vertical-align: top;\n",
              "    }\n",
              "\n",
              "    .dataframe thead th {\n",
              "        text-align: right;\n",
              "    }\n",
              "</style>\n",
              "<table border=\"1\" class=\"dataframe\">\n",
              "  <thead>\n",
              "    <tr style=\"text-align: right;\">\n",
              "      <th></th>\n",
              "      <th>HAEMATOCRIT</th>\n",
              "      <th>HAEMOGLOBINS</th>\n",
              "      <th>ERYTHROCYTE</th>\n",
              "      <th>LEUCOCYTE</th>\n",
              "      <th>THROMBOCYTE</th>\n",
              "      <th>MCH</th>\n",
              "      <th>MCHC</th>\n",
              "      <th>MCV</th>\n",
              "      <th>AGE</th>\n",
              "      <th>SEX</th>\n",
              "      <th>SEX</th>\n",
              "    </tr>\n",
              "  </thead>\n",
              "  <tbody>\n",
              "    <tr>\n",
              "      <th>0</th>\n",
              "      <td>0.859740</td>\n",
              "      <td>0.884487</td>\n",
              "      <td>0.969308</td>\n",
              "      <td>-1.145159</td>\n",
              "      <td>-0.204812</td>\n",
              "      <td>-0.270204</td>\n",
              "      <td>0.201741</td>\n",
              "      <td>-0.416803</td>\n",
              "      <td>-0.674221</td>\n",
              "      <td>-1.048452</td>\n",
              "      <td>-1.048452</td>\n",
              "    </tr>\n",
              "    <tr>\n",
              "      <th>1</th>\n",
              "      <td>0.975071</td>\n",
              "      <td>0.836973</td>\n",
              "      <td>0.426484</td>\n",
              "      <td>-0.294476</td>\n",
              "      <td>-0.048949</td>\n",
              "      <td>0.557415</td>\n",
              "      <td>-0.368527</td>\n",
              "      <td>0.860011</td>\n",
              "      <td>-0.305237</td>\n",
              "      <td>0.953787</td>\n",
              "      <td>0.953787</td>\n",
              "    </tr>\n",
              "    <tr>\n",
              "      <th>2</th>\n",
              "      <td>-0.359484</td>\n",
              "      <td>-0.065793</td>\n",
              "      <td>-0.229956</td>\n",
              "      <td>-0.195559</td>\n",
              "      <td>0.020324</td>\n",
              "      <td>0.256463</td>\n",
              "      <td>1.342278</td>\n",
              "      <td>-0.284719</td>\n",
              "      <td>0.847840</td>\n",
              "      <td>-1.048452</td>\n",
              "      <td>-1.048452</td>\n",
              "    </tr>\n",
              "    <tr>\n",
              "      <th>3</th>\n",
              "      <td>1.271639</td>\n",
              "      <td>0.979515</td>\n",
              "      <td>0.792575</td>\n",
              "      <td>-0.057076</td>\n",
              "      <td>0.513893</td>\n",
              "      <td>0.143605</td>\n",
              "      <td>-0.938796</td>\n",
              "      <td>0.625195</td>\n",
              "      <td>0.248240</td>\n",
              "      <td>0.953787</td>\n",
              "      <td>0.953787</td>\n",
              "    </tr>\n",
              "    <tr>\n",
              "      <th>4</th>\n",
              "      <td>-1.084428</td>\n",
              "      <td>-0.826018</td>\n",
              "      <td>-0.886395</td>\n",
              "      <td>3.583056</td>\n",
              "      <td>-0.352017</td>\n",
              "      <td>0.143605</td>\n",
              "      <td>1.179345</td>\n",
              "      <td>-0.328747</td>\n",
              "      <td>0.893963</td>\n",
              "      <td>-1.048452</td>\n",
              "      <td>-1.048452</td>\n",
              "    </tr>\n",
              "  </tbody>\n",
              "</table>\n",
              "</div>"
            ],
            "text/plain": [
              "   HAEMATOCRIT  HAEMOGLOBINS  ERYTHROCYTE  ...       AGE       SEX       SEX\n",
              "0     0.859740      0.884487     0.969308  ... -0.674221 -1.048452 -1.048452\n",
              "1     0.975071      0.836973     0.426484  ... -0.305237  0.953787  0.953787\n",
              "2    -0.359484     -0.065793    -0.229956  ...  0.847840 -1.048452 -1.048452\n",
              "3     1.271639      0.979515     0.792575  ...  0.248240  0.953787  0.953787\n",
              "4    -1.084428     -0.826018    -0.886395  ...  0.893963 -1.048452 -1.048452\n",
              "\n",
              "[5 rows x 11 columns]"
            ]
          },
          "metadata": {},
          "execution_count": 64
        }
      ]
    },
    {
      "cell_type": "code",
      "metadata": {
        "id": "zHfPDAUMEEQa"
      },
      "source": [
        "y= train.SOURCE\n",
        "\n",
        "x_train,x_test,y_train,y_test = train_test_split(x,y,test_size=0.33, random_state = 42)"
      ],
      "execution_count": 65,
      "outputs": []
    },
    {
      "cell_type": "code",
      "metadata": {
        "colab": {
          "base_uri": "https://localhost:8080/",
          "height": 414
        },
        "id": "vKMZFhpwOUo9",
        "outputId": "0f653b5c-fbd4-40aa-9513-43bc7ec64aa0"
      },
      "source": [
        "x_train"
      ],
      "execution_count": 66,
      "outputs": [
        {
          "output_type": "execute_result",
          "data": {
            "text/html": [
              "<div>\n",
              "<style scoped>\n",
              "    .dataframe tbody tr th:only-of-type {\n",
              "        vertical-align: middle;\n",
              "    }\n",
              "\n",
              "    .dataframe tbody tr th {\n",
              "        vertical-align: top;\n",
              "    }\n",
              "\n",
              "    .dataframe thead th {\n",
              "        text-align: right;\n",
              "    }\n",
              "</style>\n",
              "<table border=\"1\" class=\"dataframe\">\n",
              "  <thead>\n",
              "    <tr style=\"text-align: right;\">\n",
              "      <th></th>\n",
              "      <th>HAEMATOCRIT</th>\n",
              "      <th>HAEMOGLOBINS</th>\n",
              "      <th>ERYTHROCYTE</th>\n",
              "      <th>LEUCOCYTE</th>\n",
              "      <th>THROMBOCYTE</th>\n",
              "      <th>MCH</th>\n",
              "      <th>MCHC</th>\n",
              "      <th>MCV</th>\n",
              "      <th>AGE</th>\n",
              "      <th>SEX</th>\n",
              "      <th>SEX</th>\n",
              "    </tr>\n",
              "  </thead>\n",
              "  <tbody>\n",
              "    <tr>\n",
              "      <th>438</th>\n",
              "      <td>1.535255</td>\n",
              "      <td>1.834768</td>\n",
              "      <td>1.348023</td>\n",
              "      <td>-0.254909</td>\n",
              "      <td>0.713052</td>\n",
              "      <td>0.519796</td>\n",
              "      <td>1.260811</td>\n",
              "      <td>0.023478</td>\n",
              "      <td>-1.043205</td>\n",
              "      <td>0.953787</td>\n",
              "      <td>0.953787</td>\n",
              "    </tr>\n",
              "    <tr>\n",
              "      <th>2149</th>\n",
              "      <td>0.579648</td>\n",
              "      <td>0.646917</td>\n",
              "      <td>0.312869</td>\n",
              "      <td>-0.136209</td>\n",
              "      <td>-0.178835</td>\n",
              "      <td>0.444558</td>\n",
              "      <td>0.364675</td>\n",
              "      <td>0.375703</td>\n",
              "      <td>-0.259114</td>\n",
              "      <td>0.953787</td>\n",
              "      <td>0.953787</td>\n",
              "    </tr>\n",
              "    <tr>\n",
              "      <th>969</th>\n",
              "      <td>-0.079392</td>\n",
              "      <td>-0.018279</td>\n",
              "      <td>-0.065846</td>\n",
              "      <td>-0.076859</td>\n",
              "      <td>-0.559835</td>\n",
              "      <td>0.030748</td>\n",
              "      <td>0.283208</td>\n",
              "      <td>-0.079254</td>\n",
              "      <td>-2.011789</td>\n",
              "      <td>-1.048452</td>\n",
              "      <td>-1.048452</td>\n",
              "    </tr>\n",
              "    <tr>\n",
              "      <th>2501</th>\n",
              "      <td>-2.270699</td>\n",
              "      <td>-2.536523</td>\n",
              "      <td>-1.871054</td>\n",
              "      <td>-0.274692</td>\n",
              "      <td>-0.074926</td>\n",
              "      <td>-1.511634</td>\n",
              "      <td>-2.486667</td>\n",
              "      <td>-0.710324</td>\n",
              "      <td>-0.443606</td>\n",
              "      <td>-1.048452</td>\n",
              "      <td>-1.048452</td>\n",
              "    </tr>\n",
              "    <tr>\n",
              "      <th>1945</th>\n",
              "      <td>1.189259</td>\n",
              "      <td>1.217085</td>\n",
              "      <td>0.325493</td>\n",
              "      <td>-0.492309</td>\n",
              "      <td>0.020324</td>\n",
              "      <td>1.385035</td>\n",
              "      <td>0.283208</td>\n",
              "      <td>1.476405</td>\n",
              "      <td>0.571101</td>\n",
              "      <td>0.953787</td>\n",
              "      <td>0.953787</td>\n",
              "    </tr>\n",
              "    <tr>\n",
              "      <th>...</th>\n",
              "      <td>...</td>\n",
              "      <td>...</td>\n",
              "      <td>...</td>\n",
              "      <td>...</td>\n",
              "      <td>...</td>\n",
              "      <td>...</td>\n",
              "      <td>...</td>\n",
              "      <td>...</td>\n",
              "      <td>...</td>\n",
              "      <td>...</td>\n",
              "      <td>...</td>\n",
              "    </tr>\n",
              "    <tr>\n",
              "      <th>1638</th>\n",
              "      <td>0.530220</td>\n",
              "      <td>0.314319</td>\n",
              "      <td>0.615841</td>\n",
              "      <td>-0.175776</td>\n",
              "      <td>-0.213471</td>\n",
              "      <td>-0.608776</td>\n",
              "      <td>-0.775862</td>\n",
              "      <td>-0.328747</td>\n",
              "      <td>-0.351360</td>\n",
              "      <td>-1.048452</td>\n",
              "      <td>-1.048452</td>\n",
              "    </tr>\n",
              "    <tr>\n",
              "      <th>1095</th>\n",
              "      <td>-0.194724</td>\n",
              "      <td>-0.065793</td>\n",
              "      <td>-0.495056</td>\n",
              "      <td>0.259458</td>\n",
              "      <td>1.726167</td>\n",
              "      <td>0.820749</td>\n",
              "      <td>0.609076</td>\n",
              "      <td>0.683899</td>\n",
              "      <td>0.663347</td>\n",
              "      <td>-1.048452</td>\n",
              "      <td>-1.048452</td>\n",
              "    </tr>\n",
              "    <tr>\n",
              "      <th>1130</th>\n",
              "      <td>-2.682599</td>\n",
              "      <td>-2.061382</td>\n",
              "      <td>-2.716851</td>\n",
              "      <td>0.022058</td>\n",
              "      <td>-1.936632</td>\n",
              "      <td>2.588846</td>\n",
              "      <td>4.112154</td>\n",
              "      <td>1.036124</td>\n",
              "      <td>0.847840</td>\n",
              "      <td>-1.048452</td>\n",
              "      <td>-1.048452</td>\n",
              "    </tr>\n",
              "    <tr>\n",
              "      <th>1294</th>\n",
              "      <td>0.200700</td>\n",
              "      <td>0.266805</td>\n",
              "      <td>0.035145</td>\n",
              "      <td>-0.254909</td>\n",
              "      <td>0.496575</td>\n",
              "      <td>0.331701</td>\n",
              "      <td>0.364675</td>\n",
              "      <td>0.243618</td>\n",
              "      <td>-1.089328</td>\n",
              "      <td>-1.048452</td>\n",
              "      <td>-1.048452</td>\n",
              "    </tr>\n",
              "    <tr>\n",
              "      <th>860</th>\n",
              "      <td>-0.310056</td>\n",
              "      <td>-0.065793</td>\n",
              "      <td>0.691584</td>\n",
              "      <td>-0.353826</td>\n",
              "      <td>-1.746132</td>\n",
              "      <td>-1.285920</td>\n",
              "      <td>1.097878</td>\n",
              "      <td>-1.943110</td>\n",
              "      <td>-1.827297</td>\n",
              "      <td>0.953787</td>\n",
              "      <td>0.953787</td>\n",
              "    </tr>\n",
              "  </tbody>\n",
              "</table>\n",
              "<p>2068 rows × 11 columns</p>\n",
              "</div>"
            ],
            "text/plain": [
              "      HAEMATOCRIT  HAEMOGLOBINS  ERYTHROCYTE  ...       AGE       SEX       SEX\n",
              "438      1.535255      1.834768     1.348023  ... -1.043205  0.953787  0.953787\n",
              "2149     0.579648      0.646917     0.312869  ... -0.259114  0.953787  0.953787\n",
              "969     -0.079392     -0.018279    -0.065846  ... -2.011789 -1.048452 -1.048452\n",
              "2501    -2.270699     -2.536523    -1.871054  ... -0.443606 -1.048452 -1.048452\n",
              "1945     1.189259      1.217085     0.325493  ...  0.571101  0.953787  0.953787\n",
              "...           ...           ...          ...  ...       ...       ...       ...\n",
              "1638     0.530220      0.314319     0.615841  ... -0.351360 -1.048452 -1.048452\n",
              "1095    -0.194724     -0.065793    -0.495056  ...  0.663347 -1.048452 -1.048452\n",
              "1130    -2.682599     -2.061382    -2.716851  ...  0.847840 -1.048452 -1.048452\n",
              "1294     0.200700      0.266805     0.035145  ... -1.089328 -1.048452 -1.048452\n",
              "860     -0.310056     -0.065793     0.691584  ... -1.827297  0.953787  0.953787\n",
              "\n",
              "[2068 rows x 11 columns]"
            ]
          },
          "metadata": {},
          "execution_count": 66
        }
      ]
    },
    {
      "cell_type": "markdown",
      "metadata": {
        "id": "nyi1IEJ-YqkK"
      },
      "source": [
        "###UPSAMPLING\n",
        "\n",
        "- I tried to upsample the target column so as to improve my F1- score, but it gave me a lower value instead. \n",
        "\n",
        "- Why??"
      ]
    },
    {
      "cell_type": "code",
      "metadata": {
        "id": "My_nYseBYpoO"
      },
      "source": [
        "#x_upsampled = x_train.copy()  #create a copy so as not to disrupt the x_train\n",
        "\n",
        "#x_upsampled['SOURCE'] = y_train   #joining the copied y_train to the x_upsampled \n",
        "\n",
        "#x_zero = x_upsampled[x_upsampled.SOURCE == 0] #sorting out the categories, i.e 1 and 0\n",
        "#x_1= x_upsampled[x_upsampled.SOURCE == 1]"
      ],
      "execution_count": 67,
      "outputs": []
    },
    {
      "cell_type": "code",
      "metadata": {
        "id": "QeRqSNSGZNsV"
      },
      "source": [
        "#from sklearn.utils import resample #upsample the small category , i.e x_promo_upsampled\n",
        "\n",
        "#x_zero_upsampled = resample(x_1,n_samples = x_zero.shape[0], random_state=42)"
      ],
      "execution_count": 68,
      "outputs": []
    },
    {
      "cell_type": "code",
      "metadata": {
        "id": "xyJN5N_3ZS8_"
      },
      "source": [
        "\n",
        "#x_upsampled_new = pd.concat([x_zero,x_zero_upsampled])\n"
      ],
      "execution_count": 69,
      "outputs": []
    },
    {
      "cell_type": "code",
      "metadata": {
        "id": "Oa04OrwTbFkf"
      },
      "source": [
        "#x_upsampled_new"
      ],
      "execution_count": 70,
      "outputs": []
    },
    {
      "cell_type": "code",
      "metadata": {
        "id": "oLlkaEcUavYz"
      },
      "source": [
        "#y_train = x_upsampled_new.SOURCE\n",
        "#x_train = x_upsampled_new.drop(['SOURCE'],axis=1)"
      ],
      "execution_count": 71,
      "outputs": []
    },
    {
      "cell_type": "code",
      "metadata": {
        "id": "f6ElJ_0nZYoB"
      },
      "source": [
        "#sns.countplot(x_upsampled_new.SOURCE, label = 'counts') # visulaize the value_counts in the dependent variable , i.e Promoted_or_Not column.\n",
        "\n",
        "# From the barchart below, it is obvious that the Promoted_or_Not column is not balanced."
      ],
      "execution_count": 72,
      "outputs": []
    },
    {
      "cell_type": "markdown",
      "metadata": {
        "id": "XuXqvPZXNK7J"
      },
      "source": [
        "### BUILDING A BASE MODEL"
      ]
    },
    {
      "cell_type": "code",
      "metadata": {
        "colab": {
          "base_uri": "https://localhost:8080/"
        },
        "id": "m7_q_cAZCcuv",
        "outputId": "120c8f3d-5c7a-4934-b337-6104aa95c7bd"
      },
      "source": [
        "lr = LogisticRegression()\n",
        "lr.fit(x_train, y_train)"
      ],
      "execution_count": 73,
      "outputs": [
        {
          "output_type": "execute_result",
          "data": {
            "text/plain": [
              "LogisticRegression(C=1.0, class_weight=None, dual=False, fit_intercept=True,\n",
              "                   intercept_scaling=1, l1_ratio=None, max_iter=100,\n",
              "                   multi_class='auto', n_jobs=None, penalty='l2',\n",
              "                   random_state=None, solver='lbfgs', tol=0.0001, verbose=0,\n",
              "                   warm_start=False)"
            ]
          },
          "metadata": {},
          "execution_count": 73
        }
      ]
    },
    {
      "cell_type": "code",
      "metadata": {
        "id": "41UWBqGWNkzJ"
      },
      "source": [
        "lr_pred = lr.predict(x_test)"
      ],
      "execution_count": 74,
      "outputs": []
    },
    {
      "cell_type": "markdown",
      "metadata": {
        "id": "4XrovUMX-bFH"
      },
      "source": [
        "## Model Evaluation\n",
        "\n",
        "- Using the confusion matrix for evaluation."
      ]
    },
    {
      "cell_type": "code",
      "metadata": {
        "id": "8FQMOIen-Ot0"
      },
      "source": [
        "def ConfusionMatrix (ytest,ypred, label = ['Negative', 'Positive']):\n",
        "\n",
        "  \" This function creates a confusion matrix to check the model performance\"\n",
        "  from sklearn.metrics import confusion_matrix\n",
        "  import seaborn as sns\n",
        "  cm= confusion_matrix(ytest, ypred)\n",
        "  plt.figure(figsize=(6, 4))\n",
        "  sns.heatmap(cm, annot= True, cbar = False , fmt= 'd', cmap= 'YlGn')\n",
        "  plt.xlabel('Predicted', fontsize= 12)\n",
        "  plt.xticks([0.5, 1.0], label)\n",
        "  plt.yticks([0.5, 1.0], label)\n",
        "  plt.ylabel('Actual', fontsize= 12)\n",
        "  plt.title('Confusion Matrix');\n",
        "  "
      ],
      "execution_count": 87,
      "outputs": []
    },
    {
      "cell_type": "code",
      "metadata": {
        "colab": {
          "base_uri": "https://localhost:8080/",
          "height": 297
        },
        "id": "4oGOrGHSDeZz",
        "outputId": "2d4a7838-ad12-42fd-970f-3924562957ce"
      },
      "source": [
        "ConfusionMatrix(y_test, lr_pred, label= ['inpatient', 'outpatient'])"
      ],
      "execution_count": 88,
      "outputs": [
        {
          "output_type": "display_data",
          "data": {
            "image/png": "[encoded data removed]",
            "text/plain": [
              "<Figure size 432x288 with 1 Axes>"
            ]
          },
          "metadata": {
            "needs_background": "light"
          }
        }
      ]
    },
    {
      "cell_type": "markdown",
      "metadata": {
        "id": "TCTzTo7DaLWH"
      },
      "source": [
        "## Interpretation\n",
        "\n",
        "- There are 514 True Positives (TP): predicting the patient is an inpatient, and truly is.\n",
        "\n",
        "- 232 True Negatives(TN) : predicting that the patient is an outpatient , and truly is.\n",
        "\n",
        "- 190 False Positives(FP): predicting the patient is an inpatient, and is incorrect.\n",
        "\n",
        "- 84 False Negatives (FN): predicting the patient is an outpatient, and is incorrect."
      ]
    },
    {
      "cell_type": "markdown",
      "metadata": {
        "id": "Iz7Gv19_FSYP"
      },
      "source": [
        "# NB\n",
        "\n",
        "- y_test = The orignal labels that came with dataset values.\n",
        "- y_pred = The preducted values."
      ]
    },
    {
      "cell_type": "markdown",
      "metadata": {
        "id": "YLq-ZgRGL3XN"
      },
      "source": [
        "### Evaluation Metrics"
      ]
    },
    {
      "cell_type": "code",
      "metadata": {
        "id": "HTznz4INVmwc"
      },
      "source": [
        "from sklearn.metrics import f1_score"
      ],
      "execution_count": 75,
      "outputs": []
    },
    {
      "cell_type": "code",
      "metadata": {
        "id": "nu4ygpHkLbQu"
      },
      "source": [
        "from sklearn.metrics import accuracy_score"
      ],
      "execution_count": 117,
      "outputs": []
    },
    {
      "cell_type": "code",
      "metadata": {
        "colab": {
          "base_uri": "https://localhost:8080/"
        },
        "id": "_Vl0_NPRWu2e",
        "outputId": "696ea7ed-7efb-4c88-eeba-7322f502cf8f"
      },
      "source": [
        "f1_score(y_test, lr_pred, average= 'micro')"
      ],
      "execution_count": 76,
      "outputs": [
        {
          "output_type": "execute_result",
          "data": {
            "text/plain": [
              "0.7313725490196079"
            ]
          },
          "metadata": {},
          "execution_count": 76
        }
      ]
    },
    {
      "cell_type": "code",
      "metadata": {
        "colab": {
          "base_uri": "https://localhost:8080/"
        },
        "id": "qg8lGvTILiPJ",
        "outputId": "e693f607-6ca6-4dd9-df05-23eb1be19095"
      },
      "source": [
        "accuracy_score(y_test, lr_pred)"
      ],
      "execution_count": 119,
      "outputs": [
        {
          "output_type": "execute_result",
          "data": {
            "text/plain": [
              "0.7313725490196078"
            ]
          },
          "metadata": {},
          "execution_count": 119
        }
      ]
    },
    {
      "cell_type": "code",
      "metadata": {
        "colab": {
          "base_uri": "https://localhost:8080/",
          "height": 414
        },
        "id": "XpUTHS2s0Imx",
        "outputId": "54a2d183-178c-41ee-91d3-408ac3dc1b01"
      },
      "source": [
        "sample"
      ],
      "execution_count": 77,
      "outputs": [
        {
          "output_type": "execute_result",
          "data": {
            "text/html": [
              "<div>\n",
              "<style scoped>\n",
              "    .dataframe tbody tr th:only-of-type {\n",
              "        vertical-align: middle;\n",
              "    }\n",
              "\n",
              "    .dataframe tbody tr th {\n",
              "        vertical-align: top;\n",
              "    }\n",
              "\n",
              "    .dataframe thead th {\n",
              "        text-align: right;\n",
              "    }\n",
              "</style>\n",
              "<table border=\"1\" class=\"dataframe\">\n",
              "  <thead>\n",
              "    <tr style=\"text-align: right;\">\n",
              "      <th></th>\n",
              "      <th>patient_id_</th>\n",
              "      <th>SOURCE</th>\n",
              "    </tr>\n",
              "  </thead>\n",
              "  <tbody>\n",
              "    <tr>\n",
              "      <th>0</th>\n",
              "      <td>patient_id_4373</td>\n",
              "      <td>1</td>\n",
              "    </tr>\n",
              "    <tr>\n",
              "      <th>1</th>\n",
              "      <td>patient_id_2204</td>\n",
              "      <td>1</td>\n",
              "    </tr>\n",
              "    <tr>\n",
              "      <th>2</th>\n",
              "      <td>patient_id_93</td>\n",
              "      <td>1</td>\n",
              "    </tr>\n",
              "    <tr>\n",
              "      <th>3</th>\n",
              "      <td>patient_id_798</td>\n",
              "      <td>1</td>\n",
              "    </tr>\n",
              "    <tr>\n",
              "      <th>4</th>\n",
              "      <td>patient_id_789</td>\n",
              "      <td>1</td>\n",
              "    </tr>\n",
              "    <tr>\n",
              "      <th>...</th>\n",
              "      <td>...</td>\n",
              "      <td>...</td>\n",
              "    </tr>\n",
              "    <tr>\n",
              "      <th>1319</th>\n",
              "      <td>patient_id_2070</td>\n",
              "      <td>1</td>\n",
              "    </tr>\n",
              "    <tr>\n",
              "      <th>1320</th>\n",
              "      <td>patient_id_1789</td>\n",
              "      <td>1</td>\n",
              "    </tr>\n",
              "    <tr>\n",
              "      <th>1321</th>\n",
              "      <td>patient_id_1725</td>\n",
              "      <td>1</td>\n",
              "    </tr>\n",
              "    <tr>\n",
              "      <th>1322</th>\n",
              "      <td>patient_id_3707</td>\n",
              "      <td>1</td>\n",
              "    </tr>\n",
              "    <tr>\n",
              "      <th>1323</th>\n",
              "      <td>patient_id_3001</td>\n",
              "      <td>1</td>\n",
              "    </tr>\n",
              "  </tbody>\n",
              "</table>\n",
              "<p>1324 rows × 2 columns</p>\n",
              "</div>"
            ],
            "text/plain": [
              "          patient_id_  SOURCE\n",
              "0     patient_id_4373       1\n",
              "1     patient_id_2204       1\n",
              "2       patient_id_93       1\n",
              "3      patient_id_798       1\n",
              "4      patient_id_789       1\n",
              "...               ...     ...\n",
              "1319  patient_id_2070       1\n",
              "1320  patient_id_1789       1\n",
              "1321  patient_id_1725       1\n",
              "1322  patient_id_3707       1\n",
              "1323  patient_id_3001       1\n",
              "\n",
              "[1324 rows x 2 columns]"
            ]
          },
          "metadata": {},
          "execution_count": 77
        }
      ]
    },
    {
      "cell_type": "code",
      "metadata": {
        "id": "ms8vSb0b0FMS"
      },
      "source": [
        "\n",
        "submission_file= sample.copy()"
      ],
      "execution_count": 71,
      "outputs": []
    },
    {
      "cell_type": "code",
      "metadata": {
        "id": "D3GiOX4VBHj1"
      },
      "source": [
        "submission_file.SOURCE = lr.predict(testing)"
      ],
      "execution_count": 72,
      "outputs": []
    },
    {
      "cell_type": "code",
      "metadata": {
        "colab": {
          "base_uri": "https://localhost:8080/",
          "height": 414
        },
        "id": "D6Hfk9PgBoHa",
        "outputId": "5cd9cc23-bf1b-47cc-e118-af551ba2fcae"
      },
      "source": [
        "submission_file\n"
      ],
      "execution_count": 73,
      "outputs": [
        {
          "output_type": "execute_result",
          "data": {
            "text/html": [
              "<div>\n",
              "<style scoped>\n",
              "    .dataframe tbody tr th:only-of-type {\n",
              "        vertical-align: middle;\n",
              "    }\n",
              "\n",
              "    .dataframe tbody tr th {\n",
              "        vertical-align: top;\n",
              "    }\n",
              "\n",
              "    .dataframe thead th {\n",
              "        text-align: right;\n",
              "    }\n",
              "</style>\n",
              "<table border=\"1\" class=\"dataframe\">\n",
              "  <thead>\n",
              "    <tr style=\"text-align: right;\">\n",
              "      <th></th>\n",
              "      <th>patient_id_</th>\n",
              "      <th>SOURCE</th>\n",
              "    </tr>\n",
              "  </thead>\n",
              "  <tbody>\n",
              "    <tr>\n",
              "      <th>0</th>\n",
              "      <td>patient_id_4373</td>\n",
              "      <td>0</td>\n",
              "    </tr>\n",
              "    <tr>\n",
              "      <th>1</th>\n",
              "      <td>patient_id_2204</td>\n",
              "      <td>1</td>\n",
              "    </tr>\n",
              "    <tr>\n",
              "      <th>2</th>\n",
              "      <td>patient_id_93</td>\n",
              "      <td>0</td>\n",
              "    </tr>\n",
              "    <tr>\n",
              "      <th>3</th>\n",
              "      <td>patient_id_798</td>\n",
              "      <td>0</td>\n",
              "    </tr>\n",
              "    <tr>\n",
              "      <th>4</th>\n",
              "      <td>patient_id_789</td>\n",
              "      <td>1</td>\n",
              "    </tr>\n",
              "    <tr>\n",
              "      <th>...</th>\n",
              "      <td>...</td>\n",
              "      <td>...</td>\n",
              "    </tr>\n",
              "    <tr>\n",
              "      <th>1319</th>\n",
              "      <td>patient_id_2070</td>\n",
              "      <td>0</td>\n",
              "    </tr>\n",
              "    <tr>\n",
              "      <th>1320</th>\n",
              "      <td>patient_id_1789</td>\n",
              "      <td>1</td>\n",
              "    </tr>\n",
              "    <tr>\n",
              "      <th>1321</th>\n",
              "      <td>patient_id_1725</td>\n",
              "      <td>0</td>\n",
              "    </tr>\n",
              "    <tr>\n",
              "      <th>1322</th>\n",
              "      <td>patient_id_3707</td>\n",
              "      <td>0</td>\n",
              "    </tr>\n",
              "    <tr>\n",
              "      <th>1323</th>\n",
              "      <td>patient_id_3001</td>\n",
              "      <td>1</td>\n",
              "    </tr>\n",
              "  </tbody>\n",
              "</table>\n",
              "<p>1324 rows × 2 columns</p>\n",
              "</div>"
            ],
            "text/plain": [
              "          patient_id_  SOURCE\n",
              "0     patient_id_4373       0\n",
              "1     patient_id_2204       1\n",
              "2       patient_id_93       0\n",
              "3      patient_id_798       0\n",
              "4      patient_id_789       1\n",
              "...               ...     ...\n",
              "1319  patient_id_2070       0\n",
              "1320  patient_id_1789       1\n",
              "1321  patient_id_1725       0\n",
              "1322  patient_id_3707       0\n",
              "1323  patient_id_3001       1\n",
              "\n",
              "[1324 rows x 2 columns]"
            ]
          },
          "metadata": {},
          "execution_count": 73
        }
      ]
    },
    {
      "cell_type": "code",
      "metadata": {
        "colab": {
          "base_uri": "https://localhost:8080/",
          "height": 352
        },
        "id": "GHkICiT8CFMm",
        "outputId": "8c811b9c-e597-4cd4-b700-a1135b6b8e4a"
      },
      "source": [
        "sns.countplot(submission_file.SOURCE)"
      ],
      "execution_count": 74,
      "outputs": [
        {
          "output_type": "stream",
          "name": "stderr",
          "text": [
            "/usr/local/lib/python3.7/dist-packages/seaborn/_decorators.py:43: FutureWarning: Pass the following variable as a keyword arg: x. From version 0.12, the only valid positional argument will be `data`, and passing other arguments without an explicit keyword will result in an error or misinterpretation.\n",
            "  FutureWarning\n"
          ]
        },
        {
          "output_type": "execute_result",
          "data": {
            "text/plain": [
              "<matplotlib.axes._subplots.AxesSubplot at 0x7fd98210f9d0>"
            ]
          },
          "metadata": {},
          "execution_count": 74
        },
        {
          "output_type": "display_data",
          "data": {
            "image/png": "[encoded data removed]",
            "text/plain": [
              "<Figure size 432x288 with 1 Axes>"
            ]
          },
          "metadata": {
            "needs_background": "light"
          }
        }
      ]
    },
    {
      "cell_type": "code",
      "metadata": {
        "id": "ru-tRP-ECTPh"
      },
      "source": [
        "submission_file.to_csv('my_second_submission.csv', index= False)"
      ],
      "execution_count": 75,
      "outputs": []
    },
    {
      "cell_type": "markdown",
      "metadata": {
        "id": "nRKLD581CCwY"
      },
      "source": [
        "### Using Decision Tree"
      ]
    },
    {
      "cell_type": "code",
      "metadata": {
        "colab": {
          "base_uri": "https://localhost:8080/"
        },
        "id": "Nz_wfeKzW7UJ",
        "outputId": "58453330-2ab4-4d9e-e54b-fb4eee44363d"
      },
      "source": [
        "\n",
        "from sklearn.tree import DecisionTreeClassifier\n",
        "dc = DecisionTreeClassifier (criterion = 'entropy', random_state= 42)\n",
        "dc.fit (x_train, y_train)\n",
        "\n",
        "   "
      ],
      "execution_count": 89,
      "outputs": [
        {
          "output_type": "execute_result",
          "data": {
            "text/plain": [
              "DecisionTreeClassifier(ccp_alpha=0.0, class_weight=None, criterion='entropy',\n",
              "                       max_depth=None, max_features=None, max_leaf_nodes=None,\n",
              "                       min_impurity_decrease=0.0, min_impurity_split=None,\n",
              "                       min_samples_leaf=1, min_samples_split=2,\n",
              "                       min_weight_fraction_leaf=0.0, presort='deprecated',\n",
              "                       random_state=42, splitter='best')"
            ]
          },
          "metadata": {},
          "execution_count": 89
        }
      ]
    },
    {
      "cell_type": "code",
      "metadata": {
        "id": "CJCYhw-4jMT7"
      },
      "source": [
        "dc_pred = dc.predict(x_test)"
      ],
      "execution_count": 90,
      "outputs": []
    },
    {
      "cell_type": "markdown",
      "metadata": {
        "id": "hgnl_4B3HFvW"
      },
      "source": [
        "## Model Evaluation"
      ]
    },
    {
      "cell_type": "code",
      "metadata": {
        "colab": {
          "base_uri": "https://localhost:8080/",
          "height": 297
        },
        "id": "szKJSwvvHDch",
        "outputId": "be8a1b03-8565-4581-b3f9-656c2a785733"
      },
      "source": [
        "ConfusionMatrix(y_test, dc_pred, label= ['inpatient', 'outpatient'])"
      ],
      "execution_count": 91,
      "outputs": [
        {
          "output_type": "display_data",
          "data": {
            "image/png": "[encoded data removed]",
            "text/plain": [
              "<Figure size 432x288 with 1 Axes>"
            ]
          },
          "metadata": {
            "needs_background": "light"
          }
        }
      ]
    },
    {
      "cell_type": "markdown",
      "metadata": {
        "id": "TD-WjmSdNNhA"
      },
      "source": [
        "## Interpretation\n",
        "\n",
        "- There are 431 True Positives (TP): predicting the patient is an inpatient, and truly is.\n",
        "\n",
        "- 254 True True Negatives(TN) : predicting that the patient is an outpatient , and truly is.\n",
        "\n",
        "- 168 False Positives(FP): predicting the patient is an inpatient, and is incorrect.\n",
        "\n",
        "- 167 False Negatives (FN): predicting the patient is an outpatient, and is incorrect."
      ]
    },
    {
      "cell_type": "markdown",
      "metadata": {
        "id": "U0sOqoJtL-df"
      },
      "source": [
        "### Evaluation Metrics"
      ]
    },
    {
      "cell_type": "code",
      "metadata": {
        "colab": {
          "base_uri": "https://localhost:8080/"
        },
        "id": "z4c9InqIjf7b",
        "outputId": "a1efb858-b0cd-41be-cd21-bfe44d121763"
      },
      "source": [
        "f1_score(y_test, dc_pred, average= 'micro')"
      ],
      "execution_count": 78,
      "outputs": [
        {
          "output_type": "execute_result",
          "data": {
            "text/plain": [
              "0.6647058823529411"
            ]
          },
          "metadata": {},
          "execution_count": 78
        }
      ]
    },
    {
      "cell_type": "code",
      "metadata": {
        "colab": {
          "base_uri": "https://localhost:8080/"
        },
        "id": "Z8Gnw9r5MCQy",
        "outputId": "25295fd8-5e11-4fa1-a3aa-579788605fbb"
      },
      "source": [
        "accuracy_score(y_test, dc_pred)"
      ],
      "execution_count": 120,
      "outputs": [
        {
          "output_type": "execute_result",
          "data": {
            "text/plain": [
              "0.6715686274509803"
            ]
          },
          "metadata": {},
          "execution_count": 120
        }
      ]
    },
    {
      "cell_type": "markdown",
      "metadata": {
        "id": "d-XkH9OFHT0g"
      },
      "source": [
        "## Using Naive Bayes Model"
      ]
    },
    {
      "cell_type": "code",
      "metadata": {
        "colab": {
          "base_uri": "https://localhost:8080/"
        },
        "id": "_5J5BWcldpp5",
        "outputId": "46f54c07-3ab3-404c-fc8d-131c1b072dbd"
      },
      "source": [
        "from sklearn.naive_bayes import GaussianNB\n",
        "naivemodel= GaussianNB()\n",
        "naivemodel.fit(x_train, y_train)"
      ],
      "execution_count": 92,
      "outputs": [
        {
          "output_type": "execute_result",
          "data": {
            "text/plain": [
              "GaussianNB(priors=None, var_smoothing=1e-09)"
            ]
          },
          "metadata": {},
          "execution_count": 92
        }
      ]
    },
    {
      "cell_type": "code",
      "metadata": {
        "colab": {
          "base_uri": "https://localhost:8080/"
        },
        "id": "YLKZ1hJ7fjD-",
        "outputId": "4d570d8b-30a5-4fb0-ba23-a29ab9faa360"
      },
      "source": [
        "GaussianNB()"
      ],
      "execution_count": 93,
      "outputs": [
        {
          "output_type": "execute_result",
          "data": {
            "text/plain": [
              "GaussianNB(priors=None, var_smoothing=1e-09)"
            ]
          },
          "metadata": {},
          "execution_count": 93
        }
      ]
    },
    {
      "cell_type": "code",
      "metadata": {
        "id": "vHnjKtLtf1WK"
      },
      "source": [
        "naivemodel_prediction = naivemodel.predict(x_test)"
      ],
      "execution_count": 94,
      "outputs": []
    },
    {
      "cell_type": "code",
      "metadata": {
        "id": "t9KQ3bkxgOTM",
        "colab": {
          "base_uri": "https://localhost:8080/",
          "height": 297
        },
        "outputId": "bb4366b6-ca5b-401a-f5bc-5c0005d818cd"
      },
      "source": [
        "ConfusionMatrix(y_test, naivemodel_prediction, label= ['inpatient', 'outpatient'])"
      ],
      "execution_count": 96,
      "outputs": [
        {
          "output_type": "display_data",
          "data": {
            "image/png": "[encoded data removed]",
            "text/plain": [
              "<Figure size 432x288 with 1 Axes>"
            ]
          },
          "metadata": {
            "needs_background": "light"
          }
        }
      ]
    },
    {
      "cell_type": "markdown",
      "metadata": {
        "id": "napcoxi5ZibD"
      },
      "source": [
        "## Interpretation\n",
        "\n",
        "- There are 501 True Positives (TP): predicting the patient is an inpatient, and truly is.\n",
        "\n",
        "- 228 True Negatives(TN) : predicting that the patient is an outpatient , and truly is.\n",
        "\n",
        "- 194 False Positives(FP): predicting the patient is an inpatient, and is incorrect.\n",
        "\n",
        "- 97 False Negatives (FN): predicting the patient is an outpatient, and is incorrect."
      ]
    },
    {
      "cell_type": "markdown",
      "metadata": {
        "id": "01Xd7KhWMIEU"
      },
      "source": [
        "## Evaluation Metrics"
      ]
    },
    {
      "cell_type": "code",
      "metadata": {
        "colab": {
          "base_uri": "https://localhost:8080/"
        },
        "id": "cupTMko2goq5",
        "outputId": "58835b46-6b40-4e08-ca70-d232b929d23c"
      },
      "source": [
        "f1_score(y_test, naivemodel_prediction, average= 'micro')"
      ],
      "execution_count": 83,
      "outputs": [
        {
          "output_type": "execute_result",
          "data": {
            "text/plain": [
              "0.7127450980392156"
            ]
          },
          "metadata": {},
          "execution_count": 83
        }
      ]
    },
    {
      "cell_type": "code",
      "metadata": {
        "colab": {
          "base_uri": "https://localhost:8080/"
        },
        "id": "fcybzwYvML8H",
        "outputId": "02a57e1d-6270-4331-b673-7d1558c71245"
      },
      "source": [
        "accuracy_score(y_test, naivemodel_prediction)"
      ],
      "execution_count": 121,
      "outputs": [
        {
          "output_type": "execute_result",
          "data": {
            "text/plain": [
              "0.7147058823529412"
            ]
          },
          "metadata": {},
          "execution_count": 121
        }
      ]
    },
    {
      "cell_type": "markdown",
      "metadata": {
        "id": "v0Zzx61xHn9F"
      },
      "source": [
        "## Random Forest"
      ]
    },
    {
      "cell_type": "code",
      "metadata": {
        "colab": {
          "base_uri": "https://localhost:8080/"
        },
        "id": "Wd-6xxCehgE4",
        "outputId": "db20b79f-a896-4abb-f4cf-fb1048ad732a"
      },
      "source": [
        "from sklearn.ensemble import RandomForestClassifier\n",
        "\n",
        "rf =RandomForestClassifier()\n",
        "\n",
        "rf.fit(x_train, y_train)"
      ],
      "execution_count": 97,
      "outputs": [
        {
          "output_type": "execute_result",
          "data": {
            "text/plain": [
              "RandomForestClassifier(bootstrap=True, ccp_alpha=0.0, class_weight=None,\n",
              "                       criterion='gini', max_depth=None, max_features='auto',\n",
              "                       max_leaf_nodes=None, max_samples=None,\n",
              "                       min_impurity_decrease=0.0, min_impurity_split=None,\n",
              "                       min_samples_leaf=1, min_samples_split=2,\n",
              "                       min_weight_fraction_leaf=0.0, n_estimators=100,\n",
              "                       n_jobs=None, oob_score=False, random_state=None,\n",
              "                       verbose=0, warm_start=False)"
            ]
          },
          "metadata": {},
          "execution_count": 97
        }
      ]
    },
    {
      "cell_type": "code",
      "metadata": {
        "id": "q1l0OClahyYR"
      },
      "source": [
        "rf_predict = rf.predict(x_test)\n"
      ],
      "execution_count": 98,
      "outputs": []
    },
    {
      "cell_type": "markdown",
      "metadata": {
        "id": "Lgz4nAQRHyE1"
      },
      "source": [
        "## Model Evaluation"
      ]
    },
    {
      "cell_type": "code",
      "metadata": {
        "colab": {
          "base_uri": "https://localhost:8080/",
          "height": 297
        },
        "id": "8hD80jX-HxgZ",
        "outputId": "a63eee36-6a2d-4d01-af81-cf79641a615c"
      },
      "source": [
        "ConfusionMatrix(y_test, rf_predict, label= ['inpatient', 'outpatient'])"
      ],
      "execution_count": 99,
      "outputs": [
        {
          "output_type": "display_data",
          "data": {
            "image/png": "[encoded data removed]",
            "text/plain": [
              "<Figure size 432x288 with 1 Axes>"
            ]
          },
          "metadata": {
            "needs_background": "light"
          }
        }
      ]
    },
    {
      "cell_type": "markdown",
      "metadata": {
        "id": "_zaQj88GZqdu"
      },
      "source": [
        "## Interpretation\n",
        "\n",
        "- There are 503 True Positives (TP): predicting the patient is an inpatient, and truly is.\n",
        "\n",
        "- 249 True Negatives(TN) : predicting that the patient is an outpatient , and truly is.\n",
        "\n",
        "- 173 False Positives(FP): predicting the patient is an inpatient, and is incorrect.\n",
        "\n",
        "- 95 False Negatives (FN): predicting the patient is an outpatient, and is incorrect."
      ]
    },
    {
      "cell_type": "markdown",
      "metadata": {
        "id": "dkj1HbcxMWoS"
      },
      "source": [
        "## Evaluation Metrics"
      ]
    },
    {
      "cell_type": "code",
      "metadata": {
        "colab": {
          "base_uri": "https://localhost:8080/"
        },
        "id": "VkCTyn3aiAnq",
        "outputId": "943f9ed9-0ab7-4c10-9183-399f802b06a5"
      },
      "source": [
        "f1_score(y_test,rf_predict, average= 'micro')"
      ],
      "execution_count": 100,
      "outputs": [
        {
          "output_type": "execute_result",
          "data": {
            "text/plain": [
              "0.7372549019607844"
            ]
          },
          "metadata": {},
          "execution_count": 100
        }
      ]
    },
    {
      "cell_type": "code",
      "metadata": {
        "colab": {
          "base_uri": "https://localhost:8080/"
        },
        "id": "CVvSKU-5Mc4C",
        "outputId": "c37065fa-188a-4703-e9f2-94eb6bc81b7a"
      },
      "source": [
        "accuracy_score(y_test,rf_predict )"
      ],
      "execution_count": 122,
      "outputs": [
        {
          "output_type": "execute_result",
          "data": {
            "text/plain": [
              "0.7372549019607844"
            ]
          },
          "metadata": {},
          "execution_count": 122
        }
      ]
    },
    {
      "cell_type": "markdown",
      "metadata": {
        "id": "Qz2-lI5tIFvR"
      },
      "source": [
        "### XGBoost"
      ]
    },
    {
      "cell_type": "code",
      "metadata": {
        "colab": {
          "base_uri": "https://localhost:8080/"
        },
        "id": "PJffch8GkGbY",
        "outputId": "b0cf72f4-9125-4696-bdca-7c9a955fe0dd"
      },
      "source": [
        "pip install xgboost"
      ],
      "execution_count": 104,
      "outputs": [
        {
          "output_type": "stream",
          "name": "stdout",
          "text": [
            "Requirement already satisfied: xgboost in /usr/local/lib/python3.7/dist-packages (0.90)\n",
            "Requirement already satisfied: scipy in /usr/local/lib/python3.7/dist-packages (from xgboost) (1.4.1)\n",
            "Requirement already satisfied: numpy in /usr/local/lib/python3.7/dist-packages (from xgboost) (1.19.5)\n"
          ]
        }
      ]
    },
    {
      "cell_type": "code",
      "metadata": {
        "id": "4Lc-g9XnoRnN",
        "colab": {
          "base_uri": "https://localhost:8080/",
          "height": 352
        },
        "outputId": "d00ea585-4a7b-4ce1-be87-9e26e8b59022"
      },
      "source": [
        "from xgboost import XGBClassifier\n",
        "\n",
        "xgboost_model = XGBClassifier(use_label_encoder =False)\n",
        "xgboost_model = xgboost_model.fit(x_train, y_train)"
      ],
      "execution_count": 127,
      "outputs": [
        {
          "output_type": "error",
          "ename": "ValueError",
          "evalue": "ignored",
          "traceback": [
            "\u001b[0;31m---------------------------------------------------------------------------\u001b[0m",
            "\u001b[0;31mValueError\u001b[0m                                Traceback (most recent call last)",
            "\u001b[0;32m<ipython-input-127-7f3d8d54161d>\u001b[0m in \u001b[0;36m<module>\u001b[0;34m()\u001b[0m\n\u001b[1;32m      2\u001b[0m \u001b[0;34m\u001b[0m\u001b[0m\n\u001b[1;32m      3\u001b[0m \u001b[0mxgboost_model\u001b[0m \u001b[0;34m=\u001b[0m \u001b[0mXGBClassifier\u001b[0m\u001b[0;34m(\u001b[0m\u001b[0muse_label_encoder\u001b[0m \u001b[0;34m=\u001b[0m\u001b[0;32mFalse\u001b[0m\u001b[0;34m)\u001b[0m\u001b[0;34m\u001b[0m\u001b[0;34m\u001b[0m\u001b[0m\n\u001b[0;32m----> 4\u001b[0;31m \u001b[0mxgboost_model\u001b[0m \u001b[0;34m=\u001b[0m \u001b[0mxgboost_model\u001b[0m\u001b[0;34m.\u001b[0m\u001b[0mfit\u001b[0m\u001b[0;34m(\u001b[0m\u001b[0mx_train\u001b[0m\u001b[0;34m,\u001b[0m \u001b[0my_train\u001b[0m\u001b[0;34m)\u001b[0m\u001b[0;34m\u001b[0m\u001b[0;34m\u001b[0m\u001b[0m\n\u001b[0m",
            "\u001b[0;32m/usr/local/lib/python3.7/dist-packages/xgboost/sklearn.py\u001b[0m in \u001b[0;36mfit\u001b[0;34m(self, X, y, sample_weight, eval_set, eval_metric, early_stopping_rounds, verbose, xgb_model, sample_weight_eval_set, callbacks)\u001b[0m\n\u001b[1;32m    724\u001b[0m         \u001b[0;32melse\u001b[0m\u001b[0;34m:\u001b[0m\u001b[0;34m\u001b[0m\u001b[0;34m\u001b[0m\u001b[0m\n\u001b[1;32m    725\u001b[0m             train_dmatrix = DMatrix(X, label=training_labels,\n\u001b[0;32m--> 726\u001b[0;31m                                     missing=self.missing, nthread=self.n_jobs)\n\u001b[0m\u001b[1;32m    727\u001b[0m \u001b[0;34m\u001b[0m\u001b[0m\n\u001b[1;32m    728\u001b[0m         self._Booster = train(xgb_options, train_dmatrix, self.get_num_boosting_rounds(),\n",
            "\u001b[0;32m/usr/local/lib/python3.7/dist-packages/xgboost/core.py\u001b[0m in \u001b[0;36m__init__\u001b[0;34m(self, data, label, missing, weight, silent, feature_names, feature_types, nthread)\u001b[0m\n\u001b[1;32m    424\u001b[0m                 \u001b[0mself\u001b[0m\u001b[0;34m.\u001b[0m\u001b[0mset_weight\u001b[0m\u001b[0;34m(\u001b[0m\u001b[0mweight\u001b[0m\u001b[0;34m)\u001b[0m\u001b[0;34m\u001b[0m\u001b[0;34m\u001b[0m\u001b[0m\n\u001b[1;32m    425\u001b[0m \u001b[0;34m\u001b[0m\u001b[0m\n\u001b[0;32m--> 426\u001b[0;31m         \u001b[0mself\u001b[0m\u001b[0;34m.\u001b[0m\u001b[0mfeature_names\u001b[0m \u001b[0;34m=\u001b[0m \u001b[0mfeature_names\u001b[0m\u001b[0;34m\u001b[0m\u001b[0;34m\u001b[0m\u001b[0m\n\u001b[0m\u001b[1;32m    427\u001b[0m         \u001b[0mself\u001b[0m\u001b[0;34m.\u001b[0m\u001b[0mfeature_types\u001b[0m \u001b[0;34m=\u001b[0m \u001b[0mfeature_types\u001b[0m\u001b[0;34m\u001b[0m\u001b[0;34m\u001b[0m\u001b[0m\n\u001b[1;32m    428\u001b[0m \u001b[0;34m\u001b[0m\u001b[0m\n",
            "\u001b[0;32m/usr/local/lib/python3.7/dist-packages/xgboost/core.py\u001b[0m in \u001b[0;36mfeature_names\u001b[0;34m(self, feature_names)\u001b[0m\n\u001b[1;32m    860\u001b[0m \u001b[0;34m\u001b[0m\u001b[0m\n\u001b[1;32m    861\u001b[0m             \u001b[0;32mif\u001b[0m \u001b[0mlen\u001b[0m\u001b[0;34m(\u001b[0m\u001b[0mfeature_names\u001b[0m\u001b[0;34m)\u001b[0m \u001b[0;34m!=\u001b[0m \u001b[0mlen\u001b[0m\u001b[0;34m(\u001b[0m\u001b[0mset\u001b[0m\u001b[0;34m(\u001b[0m\u001b[0mfeature_names\u001b[0m\u001b[0;34m)\u001b[0m\u001b[0;34m)\u001b[0m\u001b[0;34m:\u001b[0m\u001b[0;34m\u001b[0m\u001b[0;34m\u001b[0m\u001b[0m\n\u001b[0;32m--> 862\u001b[0;31m                 \u001b[0;32mraise\u001b[0m \u001b[0mValueError\u001b[0m\u001b[0;34m(\u001b[0m\u001b[0;34m'feature_names must be unique'\u001b[0m\u001b[0;34m)\u001b[0m\u001b[0;34m\u001b[0m\u001b[0;34m\u001b[0m\u001b[0m\n\u001b[0m\u001b[1;32m    863\u001b[0m             \u001b[0;32mif\u001b[0m \u001b[0mlen\u001b[0m\u001b[0;34m(\u001b[0m\u001b[0mfeature_names\u001b[0m\u001b[0;34m)\u001b[0m \u001b[0;34m!=\u001b[0m \u001b[0mself\u001b[0m\u001b[0;34m.\u001b[0m\u001b[0mnum_col\u001b[0m\u001b[0;34m(\u001b[0m\u001b[0;34m)\u001b[0m\u001b[0;34m:\u001b[0m\u001b[0;34m\u001b[0m\u001b[0;34m\u001b[0m\u001b[0m\n\u001b[1;32m    864\u001b[0m                 \u001b[0mmsg\u001b[0m \u001b[0;34m=\u001b[0m \u001b[0;34m'feature_names must have the same length as data'\u001b[0m\u001b[0;34m\u001b[0m\u001b[0;34m\u001b[0m\u001b[0m\n",
            "\u001b[0;31mValueError\u001b[0m: feature_names must be unique"
          ]
        }
      ]
    },
    {
      "cell_type": "markdown",
      "metadata": {
        "id": "KNVQDTVmOeke"
      },
      "source": [
        "## psssssttt....\n",
        "\n",
        "- XGBC ran well the first few times, but while re-runing before submitting my Jupyter notebook, then it showed this error."
      ]
    },
    {
      "cell_type": "code",
      "metadata": {
        "id": "aA7pRX9XttIN"
      },
      "source": [
        "xgb_predict= xgboost_model.predict(x_test)"
      ],
      "execution_count": 89,
      "outputs": []
    },
    {
      "cell_type": "code",
      "metadata": {
        "colab": {
          "base_uri": "https://localhost:8080/"
        },
        "id": "F2OeaOFnt4t2",
        "outputId": "5e9c085c-be43-4f6b-d985-47cb3b3d9261"
      },
      "source": [
        "f1_score(y_test,xgb_predict, average= 'micro')"
      ],
      "execution_count": 90,
      "outputs": [
        {
          "output_type": "execute_result",
          "data": {
            "text/plain": [
              "0.7441176470588236"
            ]
          },
          "metadata": {},
          "execution_count": 90
        }
      ]
    },
    {
      "cell_type": "code",
      "metadata": {
        "colab": {
          "base_uri": "https://localhost:8080/",
          "height": 202
        },
        "id": "BjdgTeiRyJsc",
        "outputId": "ed0e6976-1fb2-4fc7-be02-850fd06ffea3"
      },
      "source": [
        "sample.head()"
      ],
      "execution_count": 92,
      "outputs": [
        {
          "output_type": "execute_result",
          "data": {
            "text/html": [
              "<div>\n",
              "<style scoped>\n",
              "    .dataframe tbody tr th:only-of-type {\n",
              "        vertical-align: middle;\n",
              "    }\n",
              "\n",
              "    .dataframe tbody tr th {\n",
              "        vertical-align: top;\n",
              "    }\n",
              "\n",
              "    .dataframe thead th {\n",
              "        text-align: right;\n",
              "    }\n",
              "</style>\n",
              "<table border=\"1\" class=\"dataframe\">\n",
              "  <thead>\n",
              "    <tr style=\"text-align: right;\">\n",
              "      <th></th>\n",
              "      <th>patient_id_</th>\n",
              "      <th>SOURCE</th>\n",
              "    </tr>\n",
              "  </thead>\n",
              "  <tbody>\n",
              "    <tr>\n",
              "      <th>0</th>\n",
              "      <td>patient_id_4373</td>\n",
              "      <td>1</td>\n",
              "    </tr>\n",
              "    <tr>\n",
              "      <th>1</th>\n",
              "      <td>patient_id_2204</td>\n",
              "      <td>1</td>\n",
              "    </tr>\n",
              "    <tr>\n",
              "      <th>2</th>\n",
              "      <td>patient_id_93</td>\n",
              "      <td>1</td>\n",
              "    </tr>\n",
              "    <tr>\n",
              "      <th>3</th>\n",
              "      <td>patient_id_798</td>\n",
              "      <td>1</td>\n",
              "    </tr>\n",
              "    <tr>\n",
              "      <th>4</th>\n",
              "      <td>patient_id_789</td>\n",
              "      <td>1</td>\n",
              "    </tr>\n",
              "  </tbody>\n",
              "</table>\n",
              "</div>"
            ],
            "text/plain": [
              "       patient_id_  SOURCE\n",
              "0  patient_id_4373       1\n",
              "1  patient_id_2204       1\n",
              "2    patient_id_93       1\n",
              "3   patient_id_798       1\n",
              "4   patient_id_789       1"
            ]
          },
          "metadata": {},
          "execution_count": 92
        }
      ]
    },
    {
      "cell_type": "code",
      "metadata": {
        "colab": {
          "base_uri": "https://localhost:8080/",
          "height": 414
        },
        "id": "DC_bD4u5yfyZ",
        "outputId": "d2252772-6e8a-4ee9-ab04-4ef62382c191"
      },
      "source": [
        "submission_file = sample.copy()\n",
        "submission_file"
      ],
      "execution_count": 93,
      "outputs": [
        {
          "output_type": "execute_result",
          "data": {
            "text/html": [
              "<div>\n",
              "<style scoped>\n",
              "    .dataframe tbody tr th:only-of-type {\n",
              "        vertical-align: middle;\n",
              "    }\n",
              "\n",
              "    .dataframe tbody tr th {\n",
              "        vertical-align: top;\n",
              "    }\n",
              "\n",
              "    .dataframe thead th {\n",
              "        text-align: right;\n",
              "    }\n",
              "</style>\n",
              "<table border=\"1\" class=\"dataframe\">\n",
              "  <thead>\n",
              "    <tr style=\"text-align: right;\">\n",
              "      <th></th>\n",
              "      <th>patient_id_</th>\n",
              "      <th>SOURCE</th>\n",
              "    </tr>\n",
              "  </thead>\n",
              "  <tbody>\n",
              "    <tr>\n",
              "      <th>0</th>\n",
              "      <td>patient_id_4373</td>\n",
              "      <td>1</td>\n",
              "    </tr>\n",
              "    <tr>\n",
              "      <th>1</th>\n",
              "      <td>patient_id_2204</td>\n",
              "      <td>1</td>\n",
              "    </tr>\n",
              "    <tr>\n",
              "      <th>2</th>\n",
              "      <td>patient_id_93</td>\n",
              "      <td>1</td>\n",
              "    </tr>\n",
              "    <tr>\n",
              "      <th>3</th>\n",
              "      <td>patient_id_798</td>\n",
              "      <td>1</td>\n",
              "    </tr>\n",
              "    <tr>\n",
              "      <th>4</th>\n",
              "      <td>patient_id_789</td>\n",
              "      <td>1</td>\n",
              "    </tr>\n",
              "    <tr>\n",
              "      <th>...</th>\n",
              "      <td>...</td>\n",
              "      <td>...</td>\n",
              "    </tr>\n",
              "    <tr>\n",
              "      <th>1319</th>\n",
              "      <td>patient_id_2070</td>\n",
              "      <td>1</td>\n",
              "    </tr>\n",
              "    <tr>\n",
              "      <th>1320</th>\n",
              "      <td>patient_id_1789</td>\n",
              "      <td>1</td>\n",
              "    </tr>\n",
              "    <tr>\n",
              "      <th>1321</th>\n",
              "      <td>patient_id_1725</td>\n",
              "      <td>1</td>\n",
              "    </tr>\n",
              "    <tr>\n",
              "      <th>1322</th>\n",
              "      <td>patient_id_3707</td>\n",
              "      <td>1</td>\n",
              "    </tr>\n",
              "    <tr>\n",
              "      <th>1323</th>\n",
              "      <td>patient_id_3001</td>\n",
              "      <td>1</td>\n",
              "    </tr>\n",
              "  </tbody>\n",
              "</table>\n",
              "<p>1324 rows × 2 columns</p>\n",
              "</div>"
            ],
            "text/plain": [
              "          patient_id_  SOURCE\n",
              "0     patient_id_4373       1\n",
              "1     patient_id_2204       1\n",
              "2       patient_id_93       1\n",
              "3      patient_id_798       1\n",
              "4      patient_id_789       1\n",
              "...               ...     ...\n",
              "1319  patient_id_2070       1\n",
              "1320  patient_id_1789       1\n",
              "1321  patient_id_1725       1\n",
              "1322  patient_id_3707       1\n",
              "1323  patient_id_3001       1\n",
              "\n",
              "[1324 rows x 2 columns]"
            ]
          },
          "metadata": {},
          "execution_count": 93
        }
      ]
    },
    {
      "cell_type": "markdown",
      "metadata": {
        "id": "7LU8pjOcIvhO"
      },
      "source": [
        "### SVM"
      ]
    },
    {
      "cell_type": "code",
      "metadata": {
        "colab": {
          "base_uri": "https://localhost:8080/"
        },
        "id": "AMNPukRYuTDz",
        "outputId": "d6e26f9e-2999-4e12-a8b7-e7b5e42b06d1"
      },
      "source": [
        "from sklearn.svm import SVC \n",
        "svm_model= SVC()\n",
        "\n",
        "svm_model.fit(x_train, y_train)"
      ],
      "execution_count": 106,
      "outputs": [
        {
          "output_type": "execute_result",
          "data": {
            "text/plain": [
              "SVC(C=1.0, break_ties=False, cache_size=200, class_weight=None, coef0=0.0,\n",
              "    decision_function_shape='ovr', degree=3, gamma='scale', kernel='rbf',\n",
              "    max_iter=-1, probability=False, random_state=None, shrinking=True,\n",
              "    tol=0.001, verbose=False)"
            ]
          },
          "metadata": {},
          "execution_count": 106
        }
      ]
    },
    {
      "cell_type": "code",
      "metadata": {
        "id": "ztSgjidzuhI3"
      },
      "source": [
        "svm_predict = svm_model.predict(x_test)"
      ],
      "execution_count": 107,
      "outputs": []
    },
    {
      "cell_type": "markdown",
      "metadata": {
        "id": "zdLzEUW8I0JU"
      },
      "source": [
        "## Model Evaluation"
      ]
    },
    {
      "cell_type": "code",
      "metadata": {
        "colab": {
          "base_uri": "https://localhost:8080/",
          "height": 297
        },
        "id": "S5rR1jj8I5WD",
        "outputId": "d4aa7f40-f141-4268-9fcd-788f1bf564c2"
      },
      "source": [
        "ConfusionMatrix(y_test, svm_predict, label= ['inpatient', 'outpatient'])"
      ],
      "execution_count": 108,
      "outputs": [
        {
          "output_type": "display_data",
          "data": {
            "image/png": "[encoded data removed]",
            "text/plain": [
              "<Figure size 432x288 with 1 Axes>"
            ]
          },
          "metadata": {
            "needs_background": "light"
          }
        }
      ]
    },
    {
      "cell_type": "markdown",
      "metadata": {
        "id": "CyUTTNU_ZzMv"
      },
      "source": [
        "## Interpretation\n",
        "\n",
        "- There are 515 True Positives (TP): predicting the patient is an inpatient, and truly is.\n",
        "\n",
        "- 244 True Negatives(TN) : predicting that the patient is an outpatient , and truly is.\n",
        "\n",
        "- 178 False Positives(FP): predicting the patient is an inpatient, and is incorrect.\n",
        "\n",
        "- 83 False Negatives (FN): predicting the patient is an outpatient, and is incorrect."
      ]
    },
    {
      "cell_type": "markdown",
      "metadata": {
        "id": "OEy6ZrtXMt91"
      },
      "source": [
        "## Evaluation Metrics"
      ]
    },
    {
      "cell_type": "code",
      "metadata": {
        "colab": {
          "base_uri": "https://localhost:8080/"
        },
        "id": "veQwqwimu9Ha",
        "outputId": "5e201a80-a817-49b0-9500-794c4f9b0297"
      },
      "source": [
        "f1_score(y_test,svm_predict, average= 'micro')"
      ],
      "execution_count": 109,
      "outputs": [
        {
          "output_type": "execute_result",
          "data": {
            "text/plain": [
              "0.7441176470588236"
            ]
          },
          "metadata": {},
          "execution_count": 109
        }
      ]
    },
    {
      "cell_type": "code",
      "metadata": {
        "colab": {
          "base_uri": "https://localhost:8080/"
        },
        "id": "G2Bj3-DJMz3P",
        "outputId": "dfe429b0-bdb4-44ce-cb18-dc73a93a1e06"
      },
      "source": [
        "accuracy_score(y_test,svm_predict )"
      ],
      "execution_count": 123,
      "outputs": [
        {
          "output_type": "execute_result",
          "data": {
            "text/plain": [
              "0.7441176470588236"
            ]
          },
          "metadata": {},
          "execution_count": 123
        }
      ]
    },
    {
      "cell_type": "code",
      "metadata": {
        "colab": {
          "base_uri": "https://localhost:8080/",
          "height": 414
        },
        "id": "AnfD1_E3TTE7",
        "outputId": "2861afd4-60e9-408c-8457-95e8d289b2ce"
      },
      "source": [
        "submission_file3 = sample.copy()\n",
        "submission_file3"
      ],
      "execution_count": 110,
      "outputs": [
        {
          "output_type": "execute_result",
          "data": {
            "text/html": [
              "<div>\n",
              "<style scoped>\n",
              "    .dataframe tbody tr th:only-of-type {\n",
              "        vertical-align: middle;\n",
              "    }\n",
              "\n",
              "    .dataframe tbody tr th {\n",
              "        vertical-align: top;\n",
              "    }\n",
              "\n",
              "    .dataframe thead th {\n",
              "        text-align: right;\n",
              "    }\n",
              "</style>\n",
              "<table border=\"1\" class=\"dataframe\">\n",
              "  <thead>\n",
              "    <tr style=\"text-align: right;\">\n",
              "      <th></th>\n",
              "      <th>patient_id_</th>\n",
              "      <th>SOURCE</th>\n",
              "    </tr>\n",
              "  </thead>\n",
              "  <tbody>\n",
              "    <tr>\n",
              "      <th>0</th>\n",
              "      <td>patient_id_4373</td>\n",
              "      <td>1</td>\n",
              "    </tr>\n",
              "    <tr>\n",
              "      <th>1</th>\n",
              "      <td>patient_id_2204</td>\n",
              "      <td>1</td>\n",
              "    </tr>\n",
              "    <tr>\n",
              "      <th>2</th>\n",
              "      <td>patient_id_93</td>\n",
              "      <td>1</td>\n",
              "    </tr>\n",
              "    <tr>\n",
              "      <th>3</th>\n",
              "      <td>patient_id_798</td>\n",
              "      <td>1</td>\n",
              "    </tr>\n",
              "    <tr>\n",
              "      <th>4</th>\n",
              "      <td>patient_id_789</td>\n",
              "      <td>1</td>\n",
              "    </tr>\n",
              "    <tr>\n",
              "      <th>...</th>\n",
              "      <td>...</td>\n",
              "      <td>...</td>\n",
              "    </tr>\n",
              "    <tr>\n",
              "      <th>1319</th>\n",
              "      <td>patient_id_2070</td>\n",
              "      <td>1</td>\n",
              "    </tr>\n",
              "    <tr>\n",
              "      <th>1320</th>\n",
              "      <td>patient_id_1789</td>\n",
              "      <td>1</td>\n",
              "    </tr>\n",
              "    <tr>\n",
              "      <th>1321</th>\n",
              "      <td>patient_id_1725</td>\n",
              "      <td>1</td>\n",
              "    </tr>\n",
              "    <tr>\n",
              "      <th>1322</th>\n",
              "      <td>patient_id_3707</td>\n",
              "      <td>1</td>\n",
              "    </tr>\n",
              "    <tr>\n",
              "      <th>1323</th>\n",
              "      <td>patient_id_3001</td>\n",
              "      <td>1</td>\n",
              "    </tr>\n",
              "  </tbody>\n",
              "</table>\n",
              "<p>1324 rows × 2 columns</p>\n",
              "</div>"
            ],
            "text/plain": [
              "          patient_id_  SOURCE\n",
              "0     patient_id_4373       1\n",
              "1     patient_id_2204       1\n",
              "2       patient_id_93       1\n",
              "3      patient_id_798       1\n",
              "4      patient_id_789       1\n",
              "...               ...     ...\n",
              "1319  patient_id_2070       1\n",
              "1320  patient_id_1789       1\n",
              "1321  patient_id_1725       1\n",
              "1322  patient_id_3707       1\n",
              "1323  patient_id_3001       1\n",
              "\n",
              "[1324 rows x 2 columns]"
            ]
          },
          "metadata": {},
          "execution_count": 110
        }
      ]
    },
    {
      "cell_type": "code",
      "metadata": {
        "id": "57VFZ05YSpAd"
      },
      "source": [
        "submission_file3.SOURCE = svm_model.predict(testing)"
      ],
      "execution_count": 111,
      "outputs": []
    },
    {
      "cell_type": "code",
      "metadata": {
        "id": "iU990V1iS_qR"
      },
      "source": [
        "#submission_file.to_csv('my_third_submission.csv', index= False)"
      ],
      "execution_count": 113,
      "outputs": []
    },
    {
      "cell_type": "code",
      "metadata": {
        "id": "RiT2coQHSZqE"
      },
      "source": [
        "from sklearn.neighbors import KNeighborsClassifier"
      ],
      "execution_count": 130,
      "outputs": []
    },
    {
      "cell_type": "code",
      "metadata": {
        "colab": {
          "base_uri": "https://localhost:8080/"
        },
        "id": "vpKL_Xh8UH_O",
        "outputId": "ee113640-d521-489f-bce0-0374a6597b56"
      },
      "source": [
        "neigh = KNeighborsClassifier(n_neighbors=3)\n",
        "neigh.fit(x, y)"
      ],
      "execution_count": 131,
      "outputs": [
        {
          "output_type": "execute_result",
          "data": {
            "text/plain": [
              "KNeighborsClassifier(algorithm='auto', leaf_size=30, metric='minkowski',\n",
              "                     metric_params=None, n_jobs=None, n_neighbors=3, p=2,\n",
              "                     weights='uniform')"
            ]
          },
          "metadata": {},
          "execution_count": 131
        }
      ]
    },
    {
      "cell_type": "code",
      "metadata": {
        "id": "xZ_buuh8Udc8"
      },
      "source": [
        " samples = [[0., 0., 0.], [0., .5, 0.], [1., 1., .5]]\n",
        ">>> from sklearn.neighbors import NearestNeighbors\n",
        ">>> neigh = NearestNeighbors(n_neighbors=1)\n",
        ">>> neigh.fit(samples)\n",
        "NearestNeighbors(n_neighbors=1)\n",
        ">>> print(neigh.kneighbors([[1., 1., 1.]]))\n",
        "(array([[0.5]]), array([[2]]))"
      ],
      "execution_count": null,
      "outputs": []
    },
    {
      "cell_type": "markdown",
      "metadata": {
        "id": "gbM3OfEePG9_"
      },
      "source": [
        "### MODEL SUMMARY"
      ]
    },
    {
      "cell_type": "code",
      "metadata": {
        "colab": {
          "base_uri": "https://localhost:8080/",
          "height": 232
        },
        "id": "7kNl1lt7PJUs",
        "outputId": "b15cd923-53fb-4bf0-90b9-dc129e75fec9"
      },
      "source": [
        "# initialise data of lists.\n",
        "data = {'Models':['Logistic Regression', 'Decision Tree' ,'Naive Bayes','Random Forest', 'XGBoost', 'SVM'],\n",
        "        'F1_Score':[0.7314,0.6647, 0.7127,0.7373,  0.7441, 0.7441]}\n",
        " \n",
        "# Create DataFrame\n",
        "Model_Sum = pd.DataFrame(data, index= [1,2,3,4,5,6 ])\n",
        "Model_Sum"
      ],
      "execution_count": 129,
      "outputs": [
        {
          "output_type": "execute_result",
          "data": {
            "text/html": [
              "<div>\n",
              "<style scoped>\n",
              "    .dataframe tbody tr th:only-of-type {\n",
              "        vertical-align: middle;\n",
              "    }\n",
              "\n",
              "    .dataframe tbody tr th {\n",
              "        vertical-align: top;\n",
              "    }\n",
              "\n",
              "    .dataframe thead th {\n",
              "        text-align: right;\n",
              "    }\n",
              "</style>\n",
              "<table border=\"1\" class=\"dataframe\">\n",
              "  <thead>\n",
              "    <tr style=\"text-align: right;\">\n",
              "      <th></th>\n",
              "      <th>Models</th>\n",
              "      <th>F1_Score</th>\n",
              "    </tr>\n",
              "  </thead>\n",
              "  <tbody>\n",
              "    <tr>\n",
              "      <th>1</th>\n",
              "      <td>Logistic Regression</td>\n",
              "      <td>0.7314</td>\n",
              "    </tr>\n",
              "    <tr>\n",
              "      <th>2</th>\n",
              "      <td>Decision Tree</td>\n",
              "      <td>0.6647</td>\n",
              "    </tr>\n",
              "    <tr>\n",
              "      <th>3</th>\n",
              "      <td>Naive Bayes</td>\n",
              "      <td>0.7127</td>\n",
              "    </tr>\n",
              "    <tr>\n",
              "      <th>4</th>\n",
              "      <td>Random Forest</td>\n",
              "      <td>0.7373</td>\n",
              "    </tr>\n",
              "    <tr>\n",
              "      <th>5</th>\n",
              "      <td>XGBoost</td>\n",
              "      <td>0.7441</td>\n",
              "    </tr>\n",
              "    <tr>\n",
              "      <th>6</th>\n",
              "      <td>SVM</td>\n",
              "      <td>0.7441</td>\n",
              "    </tr>\n",
              "  </tbody>\n",
              "</table>\n",
              "</div>"
            ],
            "text/plain": [
              "                Models  F1_Score\n",
              "1  Logistic Regression    0.7314\n",
              "2        Decision Tree    0.6647\n",
              "3          Naive Bayes    0.7127\n",
              "4        Random Forest    0.7373\n",
              "5              XGBoost    0.7441\n",
              "6                  SVM    0.7441"
            ]
          },
          "metadata": {},
          "execution_count": 129
        }
      ]
    },
    {
      "cell_type": "markdown",
      "metadata": {
        "id": "M1ux6z75aukH"
      },
      "source": [
        "## CONCLUSION\n",
        "\n",
        "Having trained all 6 models,XGBoost and the SVM models produced the best prediction; i.e whether a patient should be categorized as an inpatient or an outpatient.\n",
        "\n",
        "Hence, with further feature slection and engineering, it is possible to get a higher F1_score with XGBoost and SVM."
      ]
    },
    {
      "cell_type": "code",
      "metadata": {
        "id": "WkpLPh1dTdMy"
      },
      "source": [
        ""
      ],
      "execution_count": null,
      "outputs": []
    }
  ]
}