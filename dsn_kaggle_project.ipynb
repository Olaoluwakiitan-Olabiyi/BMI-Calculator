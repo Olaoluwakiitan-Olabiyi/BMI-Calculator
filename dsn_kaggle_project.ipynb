{
  "nbformat": 4,
  "nbformat_minor": 0,
  "metadata": {
    "colab": {
      "name": "dsn-kaggle-project.ipynb",
      "provenance": [],
      "collapsed_sections": [],
      "toc_visible": true,
      "include_colab_link": true
    },
    "kernelspec": {
      "display_name": "Python 3",
      "language": "python",
      "name": "python3"
    },
    "language_info": {
      "codemirror_mode": {
        "name": "ipython",
        "version": 3
      },
      "file_extension": ".py",
      "mimetype": "text/x-python",
      "name": "python",
      "nbconvert_exporter": "python",
      "pygments_lexer": "ipython3",
      "version": "3.7.6"
    }
  },
  "cells": [
    {
      "cell_type": "markdown",
      "metadata": {
        "id": "view-in-github",
        "colab_type": "text"
      },
      "source": [
        "<a href=\"https://colab.research.google.com/github/Olaoluwakiitan-Olabiyi/BMI-Calculator/blob/master/dsn_kaggle_project.ipynb\" target=\"_parent\"><img src=\"https://colab.research.google.com/assets/colab-badge.svg\" alt=\"Open In Colab\"/></a>"
      ]
    },
    {
      "cell_type": "code",
      "metadata": {
        "id": "QCHexcV6JEiv"
      },
      "source": [
        ""
      ],
      "execution_count": null,
      "outputs": []
    },
    {
      "cell_type": "code",
      "metadata": {
        "id": "QVHc1WB3IDeW"
      },
      "source": [
        "# Jovian Commit Essentials\n",
        "# Please retain and execute this cell without modifying the contents for `jovian.commit` to work\n",
        "!pip install jovian --upgrade -q\n",
        "import jovian\n",
        "jovian.set_project('dsn-kaggle-project')\n",
        "jovian.set_colab_id('155nLY-ddz0yv2rx-AjUY7TYK5AS0q_86')"
      ],
      "execution_count": 623,
      "outputs": []
    },
    {
      "cell_type": "markdown",
      "metadata": {
        "id": "bx8VyGPy2s1M"
      },
      "source": [
        "# dsn-kaggle-project\n",
        "\n",
        "Use the \"Run\" button to execute the code."
      ]
    },
    {
      "cell_type": "code",
      "metadata": {
        "id": "UKwxf8Iq2s1T"
      },
      "source": [
        "!pip install jovian --upgrade --quiet"
      ],
      "execution_count": 3,
      "outputs": []
    },
    {
      "cell_type": "code",
      "metadata": {
        "id": "ZpKT9tn_2s1X"
      },
      "source": [
        "import jovian"
      ],
      "execution_count": 4,
      "outputs": []
    },
    {
      "cell_type": "code",
      "metadata": {
        "colab": {
          "base_uri": "https://localhost:8080/",
          "height": 120
        },
        "id": "H6NqGr3O2s1Y",
        "outputId": "1e96de10-6c6d-49fd-ef62-ca512563e4ea"
      },
      "source": [
        "# Execute this to save new versions of the notebook\n",
        "jovian.commit(project=\"dsn-kaggle-project\")"
      ],
      "execution_count": 5,
      "outputs": [
        {
          "output_type": "stream",
          "name": "stdout",
          "text": [
            "[jovian] Detected Colab notebook...\u001b[0m\n",
            "[jovian] Please enter your API key ( from https://jovian.ai/ ):\u001b[0m\n",
            "API KEY: ··········\n",
            "[jovian] Uploading colab notebook to Jovian...\u001b[0m\n",
            "Committed successfully! https://jovian.ai/olaoluwakiitan-olabiyi/dsn-kaggle-project\n"
          ]
        },
        {
          "output_type": "execute_result",
          "data": {
            "application/vnd.google.colaboratory.intrinsic+json": {
              "type": "string"
            },
            "text/plain": [
              "'https://jovian.ai/olaoluwakiitan-olabiyi/dsn-kaggle-project'"
            ]
          },
          "metadata": {},
          "execution_count": 5
        }
      ]
    },
    {
      "cell_type": "markdown",
      "metadata": {
        "id": "osc1CG_rEhM9"
      },
      "source": [
        "## PROBLEM STATEMENT\n",
        "\n",
        "In today’s world of automation, the skills and knowledge of a person could be utilized at the best places possible by automating tasks wherever possible.\n",
        "\n",
        " As a part of the HealthIsWealth hospital automation system, you have been contracted as a professional data scientist who will build a system that would predict and estimate whether the patient should be categorized as an incare patient or an outcare patient with the help of several data points about the patients, their conditions and lab tests.\n",
        "\n",
        "\n",
        "The difference between an inpatient and outpatient care is how long a patient must remain in the facility where they have the procedure done.\n",
        "\n",
        "\n",
        "Inpatient care requires overnight hospitalization. Patients must stay at the medical facility where their procedure was done (which is usually a hospital) for at least one night. During this time, they remain under the supervision of a nurse or doctor.\n",
        "\n",
        "\n",
        "Patients receiving outpatient care do not need to spend a night in a hospital. They are free to leave the hospital once the procedure is over. In some exceptional cases, they need to wait while anesthesia wears off or to make sure there are not any complications. As long as there are not any serious complications, patients do not have to spend the night being supervised.\n",
        "\n"
      ]
    },
    {
      "cell_type": "code",
      "metadata": {
        "id": "9YSz4zAjJHJk"
      },
      "source": [
        "pip install opendatasets --upgrade --quiet"
      ],
      "execution_count": 7,
      "outputs": []
    },
    {
      "cell_type": "code",
      "metadata": {
        "id": "Dfr9EuO52s1Z",
        "colab": {
          "base_uri": "https://localhost:8080/"
        },
        "outputId": "4b3b8a72-86ec-4817-c1d2-383836a483a9"
      },
      "source": [
        "import opendatasets as od\n",
        "\n",
        "DSN_hackathon ='https://www.kaggle.com/c/data-science-nigeria-patient-treatment/data'\n",
        "\n",
        "od.download(DSN_hackathon)\n",
        "\n"
      ],
      "execution_count": 8,
      "outputs": [
        {
          "output_type": "stream",
          "name": "stdout",
          "text": [
            "Please provide your Kaggle credentials to download this dataset. Learn more: http://bit.ly/kaggle-creds\n",
            "Your Kaggle username: olaoluwakiitan\n",
            "Your Kaggle Key: ··········\n",
            "Downloading data-science-nigeria-patient-treatment.zip to ./data-science-nigeria-patient-treatment\n"
          ]
        },
        {
          "output_type": "stream",
          "name": "stderr",
          "text": [
            "100%|██████████| 91.0k/91.0k [00:00<00:00, 28.6MB/s]"
          ]
        },
        {
          "output_type": "stream",
          "name": "stdout",
          "text": [
            "\n",
            "Extracting archive ./data-science-nigeria-patient-treatment/data-science-nigeria-patient-treatment.zip to ./data-science-nigeria-patient-treatment\n"
          ]
        },
        {
          "output_type": "stream",
          "name": "stderr",
          "text": [
            "\n"
          ]
        }
      ]
    },
    {
      "cell_type": "markdown",
      "metadata": {
        "id": "DRCXP1iUKdaT"
      },
      "source": [
        "###IMPORT LIBRARIES"
      ]
    },
    {
      "cell_type": "code",
      "metadata": {
        "id": "HgkAdHqHKcsm"
      },
      "source": [
        "import pandas as pd\n",
        "import numpy as np\n",
        "import matplotlib.pyplot as plt\n",
        "import seaborn as sns\n",
        "\n",
        "from sklearn.model_selection import train_test_split\n",
        "\n",
        "from sklearn.preprocessing import StandardScaler\n",
        "\n",
        "from sklearn.linear_model import LogisticRegression"
      ],
      "execution_count": 543,
      "outputs": []
    },
    {
      "cell_type": "markdown",
      "metadata": {
        "id": "DthidbrmKyDE"
      },
      "source": [
        "### Import Datasets"
      ]
    },
    {
      "cell_type": "code",
      "metadata": {
        "id": "UDHqlNygJth_"
      },
      "source": [
        "in_out_train =  '/content/data-science-nigeria-patient-treatment/train.csv'\n",
        "in_out_test = '/content/data-science-nigeria-patient-treatment/test.csv'\n",
        "sample_submission = '/content/data-science-nigeria-patient-treatment/sample_submission.csv'\n"
      ],
      "execution_count": 544,
      "outputs": []
    },
    {
      "cell_type": "code",
      "metadata": {
        "id": "60WNLuioFAkB"
      },
      "source": [
        "train=pd.read_csv(in_out_train)\n",
        "test=pd.read_csv(in_out_test)\n",
        "sample = pd.read_csv (sample_submission)"
      ],
      "execution_count": 545,
      "outputs": []
    },
    {
      "cell_type": "code",
      "metadata": {
        "colab": {
          "base_uri": "https://localhost:8080/",
          "height": 359
        },
        "id": "YisCtaEnKXoT",
        "outputId": "8cc97aa5-3613-4972-93c8-faa90006ba11"
      },
      "source": [
        "train.head(10)"
      ],
      "execution_count": 546,
      "outputs": [
        {
          "output_type": "execute_result",
          "data": {
            "text/html": [
              "<div>\n",
              "<style scoped>\n",
              "    .dataframe tbody tr th:only-of-type {\n",
              "        vertical-align: middle;\n",
              "    }\n",
              "\n",
              "    .dataframe tbody tr th {\n",
              "        vertical-align: top;\n",
              "    }\n",
              "\n",
              "    .dataframe thead th {\n",
              "        text-align: right;\n",
              "    }\n",
              "</style>\n",
              "<table border=\"1\" class=\"dataframe\">\n",
              "  <thead>\n",
              "    <tr style=\"text-align: right;\">\n",
              "      <th></th>\n",
              "      <th>patient_id_</th>\n",
              "      <th>HAEMATOCRIT</th>\n",
              "      <th>HAEMOGLOBINS</th>\n",
              "      <th>ERYTHROCYTE</th>\n",
              "      <th>LEUCOCYTE</th>\n",
              "      <th>THROMBOCYTE</th>\n",
              "      <th>MCH</th>\n",
              "      <th>MCHC</th>\n",
              "      <th>MCV</th>\n",
              "      <th>AGE</th>\n",
              "      <th>SEX</th>\n",
              "      <th>SOURCE</th>\n",
              "    </tr>\n",
              "  </thead>\n",
              "  <tbody>\n",
              "    <tr>\n",
              "      <th>0</th>\n",
              "      <td>patient_id_1270</td>\n",
              "      <td>43.6</td>\n",
              "      <td>14.5</td>\n",
              "      <td>5.52</td>\n",
              "      <td>3.0</td>\n",
              "      <td>237</td>\n",
              "      <td>27.5</td>\n",
              "      <td>33.6</td>\n",
              "      <td>81.7</td>\n",
              "      <td>32</td>\n",
              "      <td>F</td>\n",
              "      <td>0</td>\n",
              "    </tr>\n",
              "    <tr>\n",
              "      <th>1</th>\n",
              "      <td>patient_id_1762</td>\n",
              "      <td>44.3</td>\n",
              "      <td>14.4</td>\n",
              "      <td>5.09</td>\n",
              "      <td>7.3</td>\n",
              "      <td>255</td>\n",
              "      <td>29.7</td>\n",
              "      <td>32.9</td>\n",
              "      <td>90.4</td>\n",
              "      <td>40</td>\n",
              "      <td>M</td>\n",
              "      <td>0</td>\n",
              "    </tr>\n",
              "    <tr>\n",
              "      <th>2</th>\n",
              "      <td>patient_id_3355</td>\n",
              "      <td>36.2</td>\n",
              "      <td>12.5</td>\n",
              "      <td>4.57</td>\n",
              "      <td>7.8</td>\n",
              "      <td>263</td>\n",
              "      <td>28.9</td>\n",
              "      <td>35.0</td>\n",
              "      <td>82.6</td>\n",
              "      <td>65</td>\n",
              "      <td>F</td>\n",
              "      <td>0</td>\n",
              "    </tr>\n",
              "    <tr>\n",
              "      <th>3</th>\n",
              "      <td>patient_id_2443</td>\n",
              "      <td>46.1</td>\n",
              "      <td>14.7</td>\n",
              "      <td>5.38</td>\n",
              "      <td>8.5</td>\n",
              "      <td>320</td>\n",
              "      <td>28.6</td>\n",
              "      <td>32.2</td>\n",
              "      <td>88.8</td>\n",
              "      <td>52</td>\n",
              "      <td>M</td>\n",
              "      <td>0</td>\n",
              "    </tr>\n",
              "    <tr>\n",
              "      <th>4</th>\n",
              "      <td>patient_id_3414</td>\n",
              "      <td>31.8</td>\n",
              "      <td>10.9</td>\n",
              "      <td>4.05</td>\n",
              "      <td>26.9</td>\n",
              "      <td>220</td>\n",
              "      <td>28.6</td>\n",
              "      <td>34.8</td>\n",
              "      <td>82.3</td>\n",
              "      <td>66</td>\n",
              "      <td>F</td>\n",
              "      <td>1</td>\n",
              "    </tr>\n",
              "    <tr>\n",
              "      <th>5</th>\n",
              "      <td>patient_id_1921</td>\n",
              "      <td>36.3</td>\n",
              "      <td>12.4</td>\n",
              "      <td>4.35</td>\n",
              "      <td>5.3</td>\n",
              "      <td>258</td>\n",
              "      <td>30.2</td>\n",
              "      <td>34.6</td>\n",
              "      <td>87.2</td>\n",
              "      <td>43</td>\n",
              "      <td>F</td>\n",
              "      <td>1</td>\n",
              "    </tr>\n",
              "    <tr>\n",
              "      <th>6</th>\n",
              "      <td>patient_id_537</td>\n",
              "      <td>46.8</td>\n",
              "      <td>15.5</td>\n",
              "      <td>5.65</td>\n",
              "      <td>3.8</td>\n",
              "      <td>35</td>\n",
              "      <td>28.7</td>\n",
              "      <td>33.5</td>\n",
              "      <td>85.7</td>\n",
              "      <td>21</td>\n",
              "      <td>M</td>\n",
              "      <td>1</td>\n",
              "    </tr>\n",
              "    <tr>\n",
              "      <th>7</th>\n",
              "      <td>patient_id_1589</td>\n",
              "      <td>34.5</td>\n",
              "      <td>11.3</td>\n",
              "      <td>4.20</td>\n",
              "      <td>13.8</td>\n",
              "      <td>286</td>\n",
              "      <td>28.6</td>\n",
              "      <td>33.2</td>\n",
              "      <td>86.0</td>\n",
              "      <td>37</td>\n",
              "      <td>F</td>\n",
              "      <td>1</td>\n",
              "    </tr>\n",
              "    <tr>\n",
              "      <th>8</th>\n",
              "      <td>patient_id_2039</td>\n",
              "      <td>36.7</td>\n",
              "      <td>12.5</td>\n",
              "      <td>4.44</td>\n",
              "      <td>19.4</td>\n",
              "      <td>87</td>\n",
              "      <td>29.8</td>\n",
              "      <td>34.5</td>\n",
              "      <td>86.3</td>\n",
              "      <td>45</td>\n",
              "      <td>F</td>\n",
              "      <td>1</td>\n",
              "    </tr>\n",
              "    <tr>\n",
              "      <th>9</th>\n",
              "      <td>patient_id_3624</td>\n",
              "      <td>38.8</td>\n",
              "      <td>12.6</td>\n",
              "      <td>4.93</td>\n",
              "      <td>15.5</td>\n",
              "      <td>389</td>\n",
              "      <td>26.9</td>\n",
              "      <td>32.9</td>\n",
              "      <td>81.8</td>\n",
              "      <td>68</td>\n",
              "      <td>F</td>\n",
              "      <td>1</td>\n",
              "    </tr>\n",
              "  </tbody>\n",
              "</table>\n",
              "</div>"
            ],
            "text/plain": [
              "       patient_id_  HAEMATOCRIT  HAEMOGLOBINS  ...  AGE  SEX  SOURCE\n",
              "0  patient_id_1270         43.6          14.5  ...   32    F       0\n",
              "1  patient_id_1762         44.3          14.4  ...   40    M       0\n",
              "2  patient_id_3355         36.2          12.5  ...   65    F       0\n",
              "3  patient_id_2443         46.1          14.7  ...   52    M       0\n",
              "4  patient_id_3414         31.8          10.9  ...   66    F       1\n",
              "5  patient_id_1921         36.3          12.4  ...   43    F       1\n",
              "6   patient_id_537         46.8          15.5  ...   21    M       1\n",
              "7  patient_id_1589         34.5          11.3  ...   37    F       1\n",
              "8  patient_id_2039         36.7          12.5  ...   45    F       1\n",
              "9  patient_id_3624         38.8          12.6  ...   68    F       1\n",
              "\n",
              "[10 rows x 12 columns]"
            ]
          },
          "metadata": {},
          "execution_count": 546
        }
      ]
    },
    {
      "cell_type": "code",
      "metadata": {
        "colab": {
          "base_uri": "https://localhost:8080/",
          "height": 204
        },
        "id": "JI-I7_fYLBZF",
        "outputId": "4bbae012-a1c5-4fde-e225-a10421c41dd9"
      },
      "source": [
        "train.tail(5)"
      ],
      "execution_count": 547,
      "outputs": [
        {
          "output_type": "execute_result",
          "data": {
            "text/html": [
              "<div>\n",
              "<style scoped>\n",
              "    .dataframe tbody tr th:only-of-type {\n",
              "        vertical-align: middle;\n",
              "    }\n",
              "\n",
              "    .dataframe tbody tr th {\n",
              "        vertical-align: top;\n",
              "    }\n",
              "\n",
              "    .dataframe thead th {\n",
              "        text-align: right;\n",
              "    }\n",
              "</style>\n",
              "<table border=\"1\" class=\"dataframe\">\n",
              "  <thead>\n",
              "    <tr style=\"text-align: right;\">\n",
              "      <th></th>\n",
              "      <th>patient_id_</th>\n",
              "      <th>HAEMATOCRIT</th>\n",
              "      <th>HAEMOGLOBINS</th>\n",
              "      <th>ERYTHROCYTE</th>\n",
              "      <th>LEUCOCYTE</th>\n",
              "      <th>THROMBOCYTE</th>\n",
              "      <th>MCH</th>\n",
              "      <th>MCHC</th>\n",
              "      <th>MCV</th>\n",
              "      <th>AGE</th>\n",
              "      <th>SEX</th>\n",
              "      <th>SOURCE</th>\n",
              "    </tr>\n",
              "  </thead>\n",
              "  <tbody>\n",
              "    <tr>\n",
              "      <th>3083</th>\n",
              "      <td>patient_id_4149</td>\n",
              "      <td>40.5</td>\n",
              "      <td>13.8</td>\n",
              "      <td>4.54</td>\n",
              "      <td>10.9</td>\n",
              "      <td>290</td>\n",
              "      <td>32.1</td>\n",
              "      <td>34.5</td>\n",
              "      <td>93.1</td>\n",
              "      <td>79</td>\n",
              "      <td>M</td>\n",
              "      <td>0</td>\n",
              "    </tr>\n",
              "    <tr>\n",
              "      <th>3084</th>\n",
              "      <td>patient_id_1890</td>\n",
              "      <td>28.8</td>\n",
              "      <td>10.5</td>\n",
              "      <td>3.49</td>\n",
              "      <td>20.6</td>\n",
              "      <td>735</td>\n",
              "      <td>32.3</td>\n",
              "      <td>37.1</td>\n",
              "      <td>87.2</td>\n",
              "      <td>43</td>\n",
              "      <td>F</td>\n",
              "      <td>1</td>\n",
              "    </tr>\n",
              "    <tr>\n",
              "      <th>3085</th>\n",
              "      <td>patient_id_350</td>\n",
              "      <td>45.9</td>\n",
              "      <td>15.4</td>\n",
              "      <td>5.64</td>\n",
              "      <td>3.9</td>\n",
              "      <td>281</td>\n",
              "      <td>28.5</td>\n",
              "      <td>33.9</td>\n",
              "      <td>84.2</td>\n",
              "      <td>14</td>\n",
              "      <td>M</td>\n",
              "      <td>0</td>\n",
              "    </tr>\n",
              "    <tr>\n",
              "      <th>3086</th>\n",
              "      <td>patient_id_79</td>\n",
              "      <td>32.6</td>\n",
              "      <td>10.2</td>\n",
              "      <td>5.36</td>\n",
              "      <td>4.4</td>\n",
              "      <td>303</td>\n",
              "      <td>20.0</td>\n",
              "      <td>31.8</td>\n",
              "      <td>62.9</td>\n",
              "      <td>3</td>\n",
              "      <td>M</td>\n",
              "      <td>1</td>\n",
              "    </tr>\n",
              "    <tr>\n",
              "      <th>3087</th>\n",
              "      <td>patient_id_3927</td>\n",
              "      <td>41.5</td>\n",
              "      <td>14.0</td>\n",
              "      <td>5.23</td>\n",
              "      <td>4.3</td>\n",
              "      <td>176</td>\n",
              "      <td>28.1</td>\n",
              "      <td>34.1</td>\n",
              "      <td>82.3</td>\n",
              "      <td>74</td>\n",
              "      <td>F</td>\n",
              "      <td>0</td>\n",
              "    </tr>\n",
              "  </tbody>\n",
              "</table>\n",
              "</div>"
            ],
            "text/plain": [
              "          patient_id_  HAEMATOCRIT  HAEMOGLOBINS  ...  AGE  SEX  SOURCE\n",
              "3083  patient_id_4149         40.5          13.8  ...   79    M       0\n",
              "3084  patient_id_1890         28.8          10.5  ...   43    F       1\n",
              "3085   patient_id_350         45.9          15.4  ...   14    M       0\n",
              "3086    patient_id_79         32.6          10.2  ...    3    M       1\n",
              "3087  patient_id_3927         41.5          14.0  ...   74    F       0\n",
              "\n",
              "[5 rows x 12 columns]"
            ]
          },
          "metadata": {},
          "execution_count": 547
        }
      ]
    },
    {
      "cell_type": "code",
      "metadata": {
        "colab": {
          "base_uri": "https://localhost:8080/",
          "height": 204
        },
        "id": "CP7gKGdmMkDM",
        "outputId": "dcacd357-6bf3-4e5c-b82c-e549a9d0f6a0"
      },
      "source": [
        "test.head()"
      ],
      "execution_count": 548,
      "outputs": [
        {
          "output_type": "execute_result",
          "data": {
            "text/html": [
              "<div>\n",
              "<style scoped>\n",
              "    .dataframe tbody tr th:only-of-type {\n",
              "        vertical-align: middle;\n",
              "    }\n",
              "\n",
              "    .dataframe tbody tr th {\n",
              "        vertical-align: top;\n",
              "    }\n",
              "\n",
              "    .dataframe thead th {\n",
              "        text-align: right;\n",
              "    }\n",
              "</style>\n",
              "<table border=\"1\" class=\"dataframe\">\n",
              "  <thead>\n",
              "    <tr style=\"text-align: right;\">\n",
              "      <th></th>\n",
              "      <th>patient_id_</th>\n",
              "      <th>HAEMATOCRIT</th>\n",
              "      <th>HAEMOGLOBINS</th>\n",
              "      <th>ERYTHROCYTE</th>\n",
              "      <th>LEUCOCYTE</th>\n",
              "      <th>THROMBOCYTE</th>\n",
              "      <th>MCH</th>\n",
              "      <th>MCHC</th>\n",
              "      <th>MCV</th>\n",
              "      <th>AGE</th>\n",
              "      <th>SEX</th>\n",
              "    </tr>\n",
              "  </thead>\n",
              "  <tbody>\n",
              "    <tr>\n",
              "      <th>0</th>\n",
              "      <td>patient_id_4373</td>\n",
              "      <td>33.0</td>\n",
              "      <td>11.1</td>\n",
              "      <td>4.15</td>\n",
              "      <td>11.1</td>\n",
              "      <td>329</td>\n",
              "      <td>28.4</td>\n",
              "      <td>34.1</td>\n",
              "      <td>83.2</td>\n",
              "      <td>89</td>\n",
              "      <td>F</td>\n",
              "    </tr>\n",
              "    <tr>\n",
              "      <th>1</th>\n",
              "      <td>patient_id_2204</td>\n",
              "      <td>34.0</td>\n",
              "      <td>11.1</td>\n",
              "      <td>4.23</td>\n",
              "      <td>9.7</td>\n",
              "      <td>120</td>\n",
              "      <td>27.9</td>\n",
              "      <td>33.1</td>\n",
              "      <td>84.1</td>\n",
              "      <td>47</td>\n",
              "      <td>F</td>\n",
              "    </tr>\n",
              "    <tr>\n",
              "      <th>2</th>\n",
              "      <td>patient_id_93</td>\n",
              "      <td>42.4</td>\n",
              "      <td>14.1</td>\n",
              "      <td>5.71</td>\n",
              "      <td>4.3</td>\n",
              "      <td>239</td>\n",
              "      <td>25.8</td>\n",
              "      <td>33.6</td>\n",
              "      <td>76.7</td>\n",
              "      <td>3</td>\n",
              "      <td>M</td>\n",
              "    </tr>\n",
              "    <tr>\n",
              "      <th>3</th>\n",
              "      <td>patient_id_798</td>\n",
              "      <td>40.3</td>\n",
              "      <td>13.4</td>\n",
              "      <td>5.19</td>\n",
              "      <td>4.7</td>\n",
              "      <td>208</td>\n",
              "      <td>27.1</td>\n",
              "      <td>33.7</td>\n",
              "      <td>80.5</td>\n",
              "      <td>25</td>\n",
              "      <td>F</td>\n",
              "    </tr>\n",
              "    <tr>\n",
              "      <th>4</th>\n",
              "      <td>patient_id_789</td>\n",
              "      <td>33.3</td>\n",
              "      <td>11.4</td>\n",
              "      <td>4.28</td>\n",
              "      <td>7.5</td>\n",
              "      <td>206</td>\n",
              "      <td>28.3</td>\n",
              "      <td>34.7</td>\n",
              "      <td>81.3</td>\n",
              "      <td>25</td>\n",
              "      <td>F</td>\n",
              "    </tr>\n",
              "  </tbody>\n",
              "</table>\n",
              "</div>"
            ],
            "text/plain": [
              "       patient_id_  HAEMATOCRIT  HAEMOGLOBINS  ERYTHROCYTE  ...  MCHC   MCV  AGE  SEX\n",
              "0  patient_id_4373         33.0          11.1         4.15  ...  34.1  83.2   89    F\n",
              "1  patient_id_2204         34.0          11.1         4.23  ...  33.1  84.1   47    F\n",
              "2    patient_id_93         42.4          14.1         5.71  ...  33.6  76.7    3    M\n",
              "3   patient_id_798         40.3          13.4         5.19  ...  33.7  80.5   25    F\n",
              "4   patient_id_789         33.3          11.4         4.28  ...  34.7  81.3   25    F\n",
              "\n",
              "[5 rows x 11 columns]"
            ]
          },
          "metadata": {},
          "execution_count": 548
        }
      ]
    },
    {
      "cell_type": "code",
      "metadata": {
        "colab": {
          "base_uri": "https://localhost:8080/",
          "height": 419
        },
        "id": "7xWdu7zJMtP4",
        "outputId": "9a478f64-7047-4d35-bdb8-36947bccdc4e"
      },
      "source": [
        "\n",
        "sample"
      ],
      "execution_count": 549,
      "outputs": [
        {
          "output_type": "execute_result",
          "data": {
            "text/html": [
              "<div>\n",
              "<style scoped>\n",
              "    .dataframe tbody tr th:only-of-type {\n",
              "        vertical-align: middle;\n",
              "    }\n",
              "\n",
              "    .dataframe tbody tr th {\n",
              "        vertical-align: top;\n",
              "    }\n",
              "\n",
              "    .dataframe thead th {\n",
              "        text-align: right;\n",
              "    }\n",
              "</style>\n",
              "<table border=\"1\" class=\"dataframe\">\n",
              "  <thead>\n",
              "    <tr style=\"text-align: right;\">\n",
              "      <th></th>\n",
              "      <th>patient_id_</th>\n",
              "      <th>SOURCE</th>\n",
              "    </tr>\n",
              "  </thead>\n",
              "  <tbody>\n",
              "    <tr>\n",
              "      <th>0</th>\n",
              "      <td>patient_id_4373</td>\n",
              "      <td>1</td>\n",
              "    </tr>\n",
              "    <tr>\n",
              "      <th>1</th>\n",
              "      <td>patient_id_2204</td>\n",
              "      <td>1</td>\n",
              "    </tr>\n",
              "    <tr>\n",
              "      <th>2</th>\n",
              "      <td>patient_id_93</td>\n",
              "      <td>1</td>\n",
              "    </tr>\n",
              "    <tr>\n",
              "      <th>3</th>\n",
              "      <td>patient_id_798</td>\n",
              "      <td>1</td>\n",
              "    </tr>\n",
              "    <tr>\n",
              "      <th>4</th>\n",
              "      <td>patient_id_789</td>\n",
              "      <td>1</td>\n",
              "    </tr>\n",
              "    <tr>\n",
              "      <th>...</th>\n",
              "      <td>...</td>\n",
              "      <td>...</td>\n",
              "    </tr>\n",
              "    <tr>\n",
              "      <th>1319</th>\n",
              "      <td>patient_id_2070</td>\n",
              "      <td>1</td>\n",
              "    </tr>\n",
              "    <tr>\n",
              "      <th>1320</th>\n",
              "      <td>patient_id_1789</td>\n",
              "      <td>1</td>\n",
              "    </tr>\n",
              "    <tr>\n",
              "      <th>1321</th>\n",
              "      <td>patient_id_1725</td>\n",
              "      <td>1</td>\n",
              "    </tr>\n",
              "    <tr>\n",
              "      <th>1322</th>\n",
              "      <td>patient_id_3707</td>\n",
              "      <td>1</td>\n",
              "    </tr>\n",
              "    <tr>\n",
              "      <th>1323</th>\n",
              "      <td>patient_id_3001</td>\n",
              "      <td>1</td>\n",
              "    </tr>\n",
              "  </tbody>\n",
              "</table>\n",
              "<p>1324 rows × 2 columns</p>\n",
              "</div>"
            ],
            "text/plain": [
              "          patient_id_  SOURCE\n",
              "0     patient_id_4373       1\n",
              "1     patient_id_2204       1\n",
              "2       patient_id_93       1\n",
              "3      patient_id_798       1\n",
              "4      patient_id_789       1\n",
              "...               ...     ...\n",
              "1319  patient_id_2070       1\n",
              "1320  patient_id_1789       1\n",
              "1321  patient_id_1725       1\n",
              "1322  patient_id_3707       1\n",
              "1323  patient_id_3001       1\n",
              "\n",
              "[1324 rows x 2 columns]"
            ]
          },
          "metadata": {},
          "execution_count": 549
        }
      ]
    },
    {
      "cell_type": "markdown",
      "metadata": {
        "id": "qrBiAF0xM1G2"
      },
      "source": [
        "### Exploratory Data Analysis\n",
        "\n",
        "- NB:\n",
        "Whatever cleaning or preprocessing performed on the train data should also be done on the test data."
      ]
    },
    {
      "cell_type": "code",
      "metadata": {
        "colab": {
          "base_uri": "https://localhost:8080/"
        },
        "id": "0KmrkDK3MxZ0",
        "outputId": "e4067a60-4c5a-4019-eaef-df8f4939b918"
      },
      "source": [
        "\n",
        "train.shape\n"
      ],
      "execution_count": 550,
      "outputs": [
        {
          "output_type": "execute_result",
          "data": {
            "text/plain": [
              "(3088, 12)"
            ]
          },
          "metadata": {},
          "execution_count": 550
        }
      ]
    },
    {
      "cell_type": "code",
      "metadata": {
        "colab": {
          "base_uri": "https://localhost:8080/"
        },
        "id": "9kf6crm6M90O",
        "outputId": "342e864e-fe1a-4954-909f-7c27ffb659ed"
      },
      "source": [
        "test.shape\n"
      ],
      "execution_count": 551,
      "outputs": [
        {
          "output_type": "execute_result",
          "data": {
            "text/plain": [
              "(1324, 11)"
            ]
          },
          "metadata": {},
          "execution_count": 551
        }
      ]
    },
    {
      "cell_type": "code",
      "metadata": {
        "colab": {
          "base_uri": "https://localhost:8080/"
        },
        "id": "ZDSUjxcq1SGb",
        "outputId": "ecc9381e-9bea-4b46-ab4f-8a309f2328eb"
      },
      "source": [
        "\n",
        "\n",
        "sample.shape"
      ],
      "execution_count": 552,
      "outputs": [
        {
          "output_type": "execute_result",
          "data": {
            "text/plain": [
              "(1324, 2)"
            ]
          },
          "metadata": {},
          "execution_count": 552
        }
      ]
    },
    {
      "cell_type": "code",
      "metadata": {
        "colab": {
          "base_uri": "https://localhost:8080/"
        },
        "id": "Z5jPk1h3O6BQ",
        "outputId": "d7c80810-ea23-4d9d-b9bb-5eb3e082a85d"
      },
      "source": [
        "train.columns"
      ],
      "execution_count": 553,
      "outputs": [
        {
          "output_type": "execute_result",
          "data": {
            "text/plain": [
              "Index(['patient_id_', 'HAEMATOCRIT', 'HAEMOGLOBINS', 'ERYTHROCYTE',\n",
              "       'LEUCOCYTE', 'THROMBOCYTE', 'MCH', 'MCHC', 'MCV', 'AGE', 'SEX',\n",
              "       'SOURCE'],\n",
              "      dtype='object')"
            ]
          },
          "metadata": {},
          "execution_count": 553
        }
      ]
    },
    {
      "cell_type": "code",
      "metadata": {
        "colab": {
          "base_uri": "https://localhost:8080/"
        },
        "id": "rzCdKTpZNBV7",
        "outputId": "b74e379c-1570-4938-fbe7-964efa0c6809"
      },
      "source": [
        "target = [col for col in train.columns if col not in test.columns]\n",
        "target"
      ],
      "execution_count": 554,
      "outputs": [
        {
          "output_type": "execute_result",
          "data": {
            "text/plain": [
              "['SOURCE']"
            ]
          },
          "metadata": {},
          "execution_count": 554
        }
      ]
    },
    {
      "cell_type": "markdown",
      "metadata": {
        "id": "OyCs2yQZNhpS"
      },
      "source": [
        "## Insights\n",
        "\n",
        "- The Source column is the target column.\n",
        "-  The Source column has two categories and it is an int datatype.\n",
        "- From the barchart ,the 'SOURCE' Column is somewhat balanced- 0=59% and 1= 41%\n",
        "- There are no missing values in the dataset"
      ]
    },
    {
      "cell_type": "code",
      "metadata": {
        "colab": {
          "base_uri": "https://localhost:8080/"
        },
        "id": "IBo9VxzGP9dM",
        "outputId": "3566c56c-9840-4b76-a52a-44092d6056e1"
      },
      "source": [
        "\n",
        "\n",
        "\n",
        "train ['SOURCE'].head(10)"
      ],
      "execution_count": 555,
      "outputs": [
        {
          "output_type": "execute_result",
          "data": {
            "text/plain": [
              "0    0\n",
              "1    0\n",
              "2    0\n",
              "3    0\n",
              "4    1\n",
              "5    1\n",
              "6    1\n",
              "7    1\n",
              "8    1\n",
              "9    1\n",
              "Name: SOURCE, dtype: int64"
            ]
          },
          "metadata": {},
          "execution_count": 555
        }
      ]
    },
    {
      "cell_type": "code",
      "metadata": {
        "colab": {
          "base_uri": "https://localhost:8080/"
        },
        "id": "sw8TdbejNW9K",
        "outputId": "2239dfdd-e18d-4079-dd48-9ef5417d0c7a"
      },
      "source": [
        "\n",
        "train ['SOURCE'].value_counts() #checking the number of categories present\n"
      ],
      "execution_count": 556,
      "outputs": [
        {
          "output_type": "execute_result",
          "data": {
            "text/plain": [
              "0    1822\n",
              "1    1266\n",
              "Name: SOURCE, dtype: int64"
            ]
          },
          "metadata": {},
          "execution_count": 556
        }
      ]
    },
    {
      "cell_type": "code",
      "metadata": {
        "colab": {
          "base_uri": "https://localhost:8080/"
        },
        "id": "a9J9qUHqTVbG",
        "outputId": "f4e5ef55-4f55-451d-f875-df9624e7bd8f"
      },
      "source": [
        "\n",
        "percent_source = (train ['SOURCE'].value_counts()) / len (train['SOURCE'])  * 100  # checking %number of categories present\n",
        "percent_source"
      ],
      "execution_count": 557,
      "outputs": [
        {
          "output_type": "execute_result",
          "data": {
            "text/plain": [
              "0    59.002591\n",
              "1    40.997409\n",
              "Name: SOURCE, dtype: float64"
            ]
          },
          "metadata": {},
          "execution_count": 557
        }
      ]
    },
    {
      "cell_type": "code",
      "metadata": {
        "colab": {
          "base_uri": "https://localhost:8080/",
          "height": 350
        },
        "id": "teBupIpvQiFf",
        "outputId": "ed92cf46-1f57-438b-d429-77eaba8fc385"
      },
      "source": [
        "sns.countplot(train['SOURCE'], label = 'counts') # visulaize the value_counts in the target variable \n",
        "# From the barchart below, the 'SOURCE' Column is somewhat balanced."
      ],
      "execution_count": 558,
      "outputs": [
        {
          "output_type": "stream",
          "name": "stderr",
          "text": [
            "/usr/local/lib/python3.7/dist-packages/seaborn/_decorators.py:43: FutureWarning: Pass the following variable as a keyword arg: x. From version 0.12, the only valid positional argument will be `data`, and passing other arguments without an explicit keyword will result in an error or misinterpretation.\n",
            "  FutureWarning\n"
          ]
        },
        {
          "output_type": "execute_result",
          "data": {
            "text/plain": [
              "<matplotlib.axes._subplots.AxesSubplot at 0x7f2fd6ed8250>"
            ]
          },
          "metadata": {},
          "execution_count": 558
        },
        {
          "output_type": "display_data",
          "data": {
            "image/png": "[encoded data removed]",
            "text/plain": [
              "<Figure size 432x288 with 1 Axes>"
            ]
          },
          "metadata": {
            "needs_background": "light"
          }
        }
      ]
    },
    {
      "cell_type": "code",
      "metadata": {
        "id": "Ipqqo3kxTNgo"
      },
      "source": [
        "#sns.kdeplot(train.SOURCE) ### distribution of the 'SOURCE column'"
      ],
      "execution_count": 559,
      "outputs": []
    },
    {
      "cell_type": "code",
      "metadata": {
        "colab": {
          "base_uri": "https://localhost:8080/",
          "height": 297
        },
        "id": "aPoh-IrxPhu7",
        "outputId": "113f7176-754c-4603-935a-cfdee1c57828"
      },
      "source": [
        "train.describe() # check for the statistics"
      ],
      "execution_count": 560,
      "outputs": [
        {
          "output_type": "execute_result",
          "data": {
            "text/html": [
              "<div>\n",
              "<style scoped>\n",
              "    .dataframe tbody tr th:only-of-type {\n",
              "        vertical-align: middle;\n",
              "    }\n",
              "\n",
              "    .dataframe tbody tr th {\n",
              "        vertical-align: top;\n",
              "    }\n",
              "\n",
              "    .dataframe thead th {\n",
              "        text-align: right;\n",
              "    }\n",
              "</style>\n",
              "<table border=\"1\" class=\"dataframe\">\n",
              "  <thead>\n",
              "    <tr style=\"text-align: right;\">\n",
              "      <th></th>\n",
              "      <th>HAEMATOCRIT</th>\n",
              "      <th>HAEMOGLOBINS</th>\n",
              "      <th>ERYTHROCYTE</th>\n",
              "      <th>LEUCOCYTE</th>\n",
              "      <th>THROMBOCYTE</th>\n",
              "      <th>MCH</th>\n",
              "      <th>MCHC</th>\n",
              "      <th>MCV</th>\n",
              "      <th>AGE</th>\n",
              "      <th>SOURCE</th>\n",
              "    </tr>\n",
              "  </thead>\n",
              "  <tbody>\n",
              "    <tr>\n",
              "      <th>count</th>\n",
              "      <td>3088.000000</td>\n",
              "      <td>3088.000000</td>\n",
              "      <td>3088.000000</td>\n",
              "      <td>3088.000000</td>\n",
              "      <td>3088.000000</td>\n",
              "      <td>3088.000000</td>\n",
              "      <td>3088.000000</td>\n",
              "      <td>3088.000000</td>\n",
              "      <td>3088.000000</td>\n",
              "      <td>3088.000000</td>\n",
              "    </tr>\n",
              "    <tr>\n",
              "      <th>mean</th>\n",
              "      <td>38.381865</td>\n",
              "      <td>12.638472</td>\n",
              "      <td>4.752160</td>\n",
              "      <td>8.788504</td>\n",
              "      <td>260.652850</td>\n",
              "      <td>28.218264</td>\n",
              "      <td>33.352364</td>\n",
              "      <td>84.540026</td>\n",
              "      <td>46.617876</td>\n",
              "      <td>0.409974</td>\n",
              "    </tr>\n",
              "    <tr>\n",
              "      <th>std</th>\n",
              "      <td>6.070420</td>\n",
              "      <td>2.104983</td>\n",
              "      <td>0.792281</td>\n",
              "      <td>5.055580</td>\n",
              "      <td>115.504157</td>\n",
              "      <td>2.658656</td>\n",
              "      <td>1.227691</td>\n",
              "      <td>6.814936</td>\n",
              "      <td>21.684646</td>\n",
              "      <td>0.491908</td>\n",
              "    </tr>\n",
              "    <tr>\n",
              "      <th>min</th>\n",
              "      <td>13.900000</td>\n",
              "      <td>4.300000</td>\n",
              "      <td>1.690000</td>\n",
              "      <td>1.200000</td>\n",
              "      <td>13.000000</td>\n",
              "      <td>14.900000</td>\n",
              "      <td>26.400000</td>\n",
              "      <td>54.000000</td>\n",
              "      <td>1.000000</td>\n",
              "      <td>0.000000</td>\n",
              "    </tr>\n",
              "    <tr>\n",
              "      <th>25%</th>\n",
              "      <td>34.500000</td>\n",
              "      <td>11.275000</td>\n",
              "      <td>4.240000</td>\n",
              "      <td>5.700000</td>\n",
              "      <td>191.000000</td>\n",
              "      <td>27.200000</td>\n",
              "      <td>32.700000</td>\n",
              "      <td>81.500000</td>\n",
              "      <td>29.000000</td>\n",
              "      <td>0.000000</td>\n",
              "    </tr>\n",
              "    <tr>\n",
              "      <th>50%</th>\n",
              "      <td>38.800000</td>\n",
              "      <td>12.800000</td>\n",
              "      <td>4.790000</td>\n",
              "      <td>7.600000</td>\n",
              "      <td>259.000000</td>\n",
              "      <td>28.700000</td>\n",
              "      <td>33.400000</td>\n",
              "      <td>85.400000</td>\n",
              "      <td>47.000000</td>\n",
              "      <td>0.000000</td>\n",
              "    </tr>\n",
              "    <tr>\n",
              "      <th>75%</th>\n",
              "      <td>42.700000</td>\n",
              "      <td>14.200000</td>\n",
              "      <td>5.260000</td>\n",
              "      <td>10.400000</td>\n",
              "      <td>325.000000</td>\n",
              "      <td>29.800000</td>\n",
              "      <td>34.100000</td>\n",
              "      <td>88.700000</td>\n",
              "      <td>64.000000</td>\n",
              "      <td>1.000000</td>\n",
              "    </tr>\n",
              "    <tr>\n",
              "      <th>max</th>\n",
              "      <td>69.200000</td>\n",
              "      <td>18.100000</td>\n",
              "      <td>8.070000</td>\n",
              "      <td>76.700000</td>\n",
              "      <td>1188.000000</td>\n",
              "      <td>36.800000</td>\n",
              "      <td>39.000000</td>\n",
              "      <td>105.300000</td>\n",
              "      <td>99.000000</td>\n",
              "      <td>1.000000</td>\n",
              "    </tr>\n",
              "  </tbody>\n",
              "</table>\n",
              "</div>"
            ],
            "text/plain": [
              "       HAEMATOCRIT  HAEMOGLOBINS  ...          AGE       SOURCE\n",
              "count  3088.000000   3088.000000  ...  3088.000000  3088.000000\n",
              "mean     38.381865     12.638472  ...    46.617876     0.409974\n",
              "std       6.070420      2.104983  ...    21.684646     0.491908\n",
              "min      13.900000      4.300000  ...     1.000000     0.000000\n",
              "25%      34.500000     11.275000  ...    29.000000     0.000000\n",
              "50%      38.800000     12.800000  ...    47.000000     0.000000\n",
              "75%      42.700000     14.200000  ...    64.000000     1.000000\n",
              "max      69.200000     18.100000  ...    99.000000     1.000000\n",
              "\n",
              "[8 rows x 10 columns]"
            ]
          },
          "metadata": {},
          "execution_count": 560
        }
      ]
    },
    {
      "cell_type": "markdown",
      "metadata": {
        "id": "7jPo7FIRRj8v"
      },
      "source": [
        ""
      ]
    },
    {
      "cell_type": "code",
      "metadata": {
        "colab": {
          "base_uri": "https://localhost:8080/"
        },
        "id": "yVi_bQsIQfll",
        "outputId": "8daa7407-cbe8-4288-b42d-a5a4633bd742"
      },
      "source": [
        "train.info() ##checking the data details present "
      ],
      "execution_count": 561,
      "outputs": [
        {
          "output_type": "stream",
          "name": "stdout",
          "text": [
            "<class 'pandas.core.frame.DataFrame'>\n",
            "RangeIndex: 3088 entries, 0 to 3087\n",
            "Data columns (total 12 columns):\n",
            " #   Column        Non-Null Count  Dtype  \n",
            "---  ------        --------------  -----  \n",
            " 0   patient_id_   3088 non-null   object \n",
            " 1   HAEMATOCRIT   3088 non-null   float64\n",
            " 2   HAEMOGLOBINS  3088 non-null   float64\n",
            " 3   ERYTHROCYTE   3088 non-null   float64\n",
            " 4   LEUCOCYTE     3088 non-null   float64\n",
            " 5   THROMBOCYTE   3088 non-null   int64  \n",
            " 6   MCH           3088 non-null   float64\n",
            " 7   MCHC          3088 non-null   float64\n",
            " 8   MCV           3088 non-null   float64\n",
            " 9   AGE           3088 non-null   int64  \n",
            " 10  SEX           3088 non-null   object \n",
            " 11  SOURCE        3088 non-null   int64  \n",
            "dtypes: float64(7), int64(3), object(2)\n",
            "memory usage: 289.6+ KB\n"
          ]
        }
      ]
    },
    {
      "cell_type": "markdown",
      "metadata": {
        "id": "ka0FGkR9aeHH"
      },
      "source": [
        "- There are two categorical columns(patient_id, and SEX). We can drop the id since it is not relevant to the model building.\n",
        "\n",
        "We will then encode the SEX column"
      ]
    },
    {
      "cell_type": "markdown",
      "metadata": {
        "id": "dOe_chGnc2Li"
      },
      "source": [
        "## Splitting the dataframe into numerical and categorical columns"
      ]
    },
    {
      "cell_type": "code",
      "metadata": {
        "colab": {
          "base_uri": "https://localhost:8080/"
        },
        "id": "NhNqLZmxdIGL",
        "outputId": "f71e9a29-2e43-4ad0-fb3b-5bf6e50d0566"
      },
      "source": [
        "cat_feat= [feat for feat in train.columns if train[feat].dtype =='O']\n",
        "cat_feat"
      ],
      "execution_count": 562,
      "outputs": [
        {
          "output_type": "execute_result",
          "data": {
            "text/plain": [
              "['patient_id_', 'SEX']"
            ]
          },
          "metadata": {},
          "execution_count": 562
        }
      ]
    },
    {
      "cell_type": "code",
      "metadata": {
        "id": "nFdei2uK_l8p"
      },
      "source": [
        "#test_cat_feat= [feat for feat in test.columns if test[feat].dtype =='O']\n",
        "#test_cat_feat"
      ],
      "execution_count": 563,
      "outputs": []
    },
    {
      "cell_type": "code",
      "metadata": {
        "colab": {
          "base_uri": "https://localhost:8080/"
        },
        "id": "VkUU6bbLc0zf",
        "outputId": "9e778d46-744e-42f2-cf11-8e9d6c7f4f24"
      },
      "source": [
        "\n",
        "num_feat= [feat for feat in train.columns if feat not in cat_feat ]\n",
        "num_feat"
      ],
      "execution_count": 564,
      "outputs": [
        {
          "output_type": "execute_result",
          "data": {
            "text/plain": [
              "['HAEMATOCRIT',\n",
              " 'HAEMOGLOBINS',\n",
              " 'ERYTHROCYTE',\n",
              " 'LEUCOCYTE',\n",
              " 'THROMBOCYTE',\n",
              " 'MCH',\n",
              " 'MCHC',\n",
              " 'MCV',\n",
              " 'AGE',\n",
              " 'SOURCE']"
            ]
          },
          "metadata": {},
          "execution_count": 564
        }
      ]
    },
    {
      "cell_type": "code",
      "metadata": {
        "colab": {
          "base_uri": "https://localhost:8080/",
          "height": 419
        },
        "id": "9aiS8ge6K5Rk",
        "outputId": "70a9fb3d-82a9-4059-9012-bea22a1d9299"
      },
      "source": [
        "\n",
        "train[num_feat]"
      ],
      "execution_count": 565,
      "outputs": [
        {
          "output_type": "execute_result",
          "data": {
            "text/html": [
              "<div>\n",
              "<style scoped>\n",
              "    .dataframe tbody tr th:only-of-type {\n",
              "        vertical-align: middle;\n",
              "    }\n",
              "\n",
              "    .dataframe tbody tr th {\n",
              "        vertical-align: top;\n",
              "    }\n",
              "\n",
              "    .dataframe thead th {\n",
              "        text-align: right;\n",
              "    }\n",
              "</style>\n",
              "<table border=\"1\" class=\"dataframe\">\n",
              "  <thead>\n",
              "    <tr style=\"text-align: right;\">\n",
              "      <th></th>\n",
              "      <th>HAEMATOCRIT</th>\n",
              "      <th>HAEMOGLOBINS</th>\n",
              "      <th>ERYTHROCYTE</th>\n",
              "      <th>LEUCOCYTE</th>\n",
              "      <th>THROMBOCYTE</th>\n",
              "      <th>MCH</th>\n",
              "      <th>MCHC</th>\n",
              "      <th>MCV</th>\n",
              "      <th>AGE</th>\n",
              "      <th>SOURCE</th>\n",
              "    </tr>\n",
              "  </thead>\n",
              "  <tbody>\n",
              "    <tr>\n",
              "      <th>0</th>\n",
              "      <td>43.6</td>\n",
              "      <td>14.5</td>\n",
              "      <td>5.52</td>\n",
              "      <td>3.0</td>\n",
              "      <td>237</td>\n",
              "      <td>27.5</td>\n",
              "      <td>33.6</td>\n",
              "      <td>81.7</td>\n",
              "      <td>32</td>\n",
              "      <td>0</td>\n",
              "    </tr>\n",
              "    <tr>\n",
              "      <th>1</th>\n",
              "      <td>44.3</td>\n",
              "      <td>14.4</td>\n",
              "      <td>5.09</td>\n",
              "      <td>7.3</td>\n",
              "      <td>255</td>\n",
              "      <td>29.7</td>\n",
              "      <td>32.9</td>\n",
              "      <td>90.4</td>\n",
              "      <td>40</td>\n",
              "      <td>0</td>\n",
              "    </tr>\n",
              "    <tr>\n",
              "      <th>2</th>\n",
              "      <td>36.2</td>\n",
              "      <td>12.5</td>\n",
              "      <td>4.57</td>\n",
              "      <td>7.8</td>\n",
              "      <td>263</td>\n",
              "      <td>28.9</td>\n",
              "      <td>35.0</td>\n",
              "      <td>82.6</td>\n",
              "      <td>65</td>\n",
              "      <td>0</td>\n",
              "    </tr>\n",
              "    <tr>\n",
              "      <th>3</th>\n",
              "      <td>46.1</td>\n",
              "      <td>14.7</td>\n",
              "      <td>5.38</td>\n",
              "      <td>8.5</td>\n",
              "      <td>320</td>\n",
              "      <td>28.6</td>\n",
              "      <td>32.2</td>\n",
              "      <td>88.8</td>\n",
              "      <td>52</td>\n",
              "      <td>0</td>\n",
              "    </tr>\n",
              "    <tr>\n",
              "      <th>4</th>\n",
              "      <td>31.8</td>\n",
              "      <td>10.9</td>\n",
              "      <td>4.05</td>\n",
              "      <td>26.9</td>\n",
              "      <td>220</td>\n",
              "      <td>28.6</td>\n",
              "      <td>34.8</td>\n",
              "      <td>82.3</td>\n",
              "      <td>66</td>\n",
              "      <td>1</td>\n",
              "    </tr>\n",
              "    <tr>\n",
              "      <th>...</th>\n",
              "      <td>...</td>\n",
              "      <td>...</td>\n",
              "      <td>...</td>\n",
              "      <td>...</td>\n",
              "      <td>...</td>\n",
              "      <td>...</td>\n",
              "      <td>...</td>\n",
              "      <td>...</td>\n",
              "      <td>...</td>\n",
              "      <td>...</td>\n",
              "    </tr>\n",
              "    <tr>\n",
              "      <th>3083</th>\n",
              "      <td>40.5</td>\n",
              "      <td>13.8</td>\n",
              "      <td>4.54</td>\n",
              "      <td>10.9</td>\n",
              "      <td>290</td>\n",
              "      <td>32.1</td>\n",
              "      <td>34.5</td>\n",
              "      <td>93.1</td>\n",
              "      <td>79</td>\n",
              "      <td>0</td>\n",
              "    </tr>\n",
              "    <tr>\n",
              "      <th>3084</th>\n",
              "      <td>28.8</td>\n",
              "      <td>10.5</td>\n",
              "      <td>3.49</td>\n",
              "      <td>20.6</td>\n",
              "      <td>735</td>\n",
              "      <td>32.3</td>\n",
              "      <td>37.1</td>\n",
              "      <td>87.2</td>\n",
              "      <td>43</td>\n",
              "      <td>1</td>\n",
              "    </tr>\n",
              "    <tr>\n",
              "      <th>3085</th>\n",
              "      <td>45.9</td>\n",
              "      <td>15.4</td>\n",
              "      <td>5.64</td>\n",
              "      <td>3.9</td>\n",
              "      <td>281</td>\n",
              "      <td>28.5</td>\n",
              "      <td>33.9</td>\n",
              "      <td>84.2</td>\n",
              "      <td>14</td>\n",
              "      <td>0</td>\n",
              "    </tr>\n",
              "    <tr>\n",
              "      <th>3086</th>\n",
              "      <td>32.6</td>\n",
              "      <td>10.2</td>\n",
              "      <td>5.36</td>\n",
              "      <td>4.4</td>\n",
              "      <td>303</td>\n",
              "      <td>20.0</td>\n",
              "      <td>31.8</td>\n",
              "      <td>62.9</td>\n",
              "      <td>3</td>\n",
              "      <td>1</td>\n",
              "    </tr>\n",
              "    <tr>\n",
              "      <th>3087</th>\n",
              "      <td>41.5</td>\n",
              "      <td>14.0</td>\n",
              "      <td>5.23</td>\n",
              "      <td>4.3</td>\n",
              "      <td>176</td>\n",
              "      <td>28.1</td>\n",
              "      <td>34.1</td>\n",
              "      <td>82.3</td>\n",
              "      <td>74</td>\n",
              "      <td>0</td>\n",
              "    </tr>\n",
              "  </tbody>\n",
              "</table>\n",
              "<p>3088 rows × 10 columns</p>\n",
              "</div>"
            ],
            "text/plain": [
              "      HAEMATOCRIT  HAEMOGLOBINS  ERYTHROCYTE  ...   MCV  AGE  SOURCE\n",
              "0            43.6          14.5         5.52  ...  81.7   32       0\n",
              "1            44.3          14.4         5.09  ...  90.4   40       0\n",
              "2            36.2          12.5         4.57  ...  82.6   65       0\n",
              "3            46.1          14.7         5.38  ...  88.8   52       0\n",
              "4            31.8          10.9         4.05  ...  82.3   66       1\n",
              "...           ...           ...          ...  ...   ...  ...     ...\n",
              "3083         40.5          13.8         4.54  ...  93.1   79       0\n",
              "3084         28.8          10.5         3.49  ...  87.2   43       1\n",
              "3085         45.9          15.4         5.64  ...  84.2   14       0\n",
              "3086         32.6          10.2         5.36  ...  62.9    3       1\n",
              "3087         41.5          14.0         5.23  ...  82.3   74       0\n",
              "\n",
              "[3088 rows x 10 columns]"
            ]
          },
          "metadata": {},
          "execution_count": 565
        }
      ]
    },
    {
      "cell_type": "code",
      "metadata": {
        "colab": {
          "base_uri": "https://localhost:8080/"
        },
        "id": "Bv7b7UTJKi5S",
        "outputId": "d2fd7e29-24ff-4ed1-89d8-e5a4994d982f"
      },
      "source": [
        "\n",
        "#remove the target feature and the patient_id from the numerical features\n",
        "\n",
        "rem= ['SOURCE']\n",
        "for i in rem:\n",
        "   num_feat.remove(i)\n",
        "num_feat"
      ],
      "execution_count": 566,
      "outputs": [
        {
          "output_type": "execute_result",
          "data": {
            "text/plain": [
              "['HAEMATOCRIT',\n",
              " 'HAEMOGLOBINS',\n",
              " 'ERYTHROCYTE',\n",
              " 'LEUCOCYTE',\n",
              " 'THROMBOCYTE',\n",
              " 'MCH',\n",
              " 'MCHC',\n",
              " 'MCV',\n",
              " 'AGE']"
            ]
          },
          "metadata": {},
          "execution_count": 566
        }
      ]
    },
    {
      "cell_type": "code",
      "metadata": {
        "colab": {
          "base_uri": "https://localhost:8080/"
        },
        "id": "AtYwNqYEADiJ",
        "outputId": "3232b6a8-1587-48a8-c7a7-b71c92909a9c"
      },
      "source": [
        "#test_num_feat= [feat for feat in test.columns if feat not in cat_feat ]\n",
        "test_num_feat"
      ],
      "execution_count": 567,
      "outputs": [
        {
          "output_type": "execute_result",
          "data": {
            "text/plain": [
              "['HAEMATOCRIT',\n",
              " 'HAEMOGLOBINS',\n",
              " 'ERYTHROCYTE',\n",
              " 'LEUCOCYTE',\n",
              " 'THROMBOCYTE',\n",
              " 'MCH',\n",
              " 'MCHC',\n",
              " 'MCV',\n",
              " 'AGE']"
            ]
          },
          "metadata": {},
          "execution_count": 567
        }
      ]
    },
    {
      "cell_type": "code",
      "metadata": {
        "colab": {
          "base_uri": "https://localhost:8080/"
        },
        "id": "NafD77EMa3qb",
        "outputId": "440de073-748d-4cd0-c884-98849c20bff6"
      },
      "source": [
        "\n",
        "train['SEX'].value_counts() # to check the number of categories present in the 'SEX' column"
      ],
      "execution_count": 568,
      "outputs": [
        {
          "output_type": "execute_result",
          "data": {
            "text/plain": [
              "M    1617\n",
              "F    1471\n",
              "Name: SEX, dtype: int64"
            ]
          },
          "metadata": {},
          "execution_count": 568
        }
      ]
    },
    {
      "cell_type": "code",
      "metadata": {
        "colab": {
          "base_uri": "https://localhost:8080/"
        },
        "id": "uxdGaUnBAP3g",
        "outputId": "c74c9ad8-28ef-444e-a9f9-1a20a7e297c3"
      },
      "source": [
        "\n",
        "test['SEX'].value_counts() # to check the number of categories present in the 'SEX' column"
      ],
      "execution_count": 569,
      "outputs": [
        {
          "output_type": "execute_result",
          "data": {
            "text/plain": [
              "M    673\n",
              "F    651\n",
              "Name: SEX, dtype: int64"
            ]
          },
          "metadata": {},
          "execution_count": 569
        }
      ]
    },
    {
      "cell_type": "code",
      "metadata": {
        "colab": {
          "base_uri": "https://localhost:8080/",
          "height": 204
        },
        "id": "_NbLUv1OciaW",
        "outputId": "bcc3027d-7437-4c58-fa3f-02f967c89f8d"
      },
      "source": [
        "\n",
        "\n",
        "train.drop('patient_id_' , axis=1, inplace=True)\n",
        "train.head()\n",
        "# drop patient_id and check the train.head to confirm the drop"
      ],
      "execution_count": 570,
      "outputs": [
        {
          "output_type": "execute_result",
          "data": {
            "text/html": [
              "<div>\n",
              "<style scoped>\n",
              "    .dataframe tbody tr th:only-of-type {\n",
              "        vertical-align: middle;\n",
              "    }\n",
              "\n",
              "    .dataframe tbody tr th {\n",
              "        vertical-align: top;\n",
              "    }\n",
              "\n",
              "    .dataframe thead th {\n",
              "        text-align: right;\n",
              "    }\n",
              "</style>\n",
              "<table border=\"1\" class=\"dataframe\">\n",
              "  <thead>\n",
              "    <tr style=\"text-align: right;\">\n",
              "      <th></th>\n",
              "      <th>HAEMATOCRIT</th>\n",
              "      <th>HAEMOGLOBINS</th>\n",
              "      <th>ERYTHROCYTE</th>\n",
              "      <th>LEUCOCYTE</th>\n",
              "      <th>THROMBOCYTE</th>\n",
              "      <th>MCH</th>\n",
              "      <th>MCHC</th>\n",
              "      <th>MCV</th>\n",
              "      <th>AGE</th>\n",
              "      <th>SEX</th>\n",
              "      <th>SOURCE</th>\n",
              "    </tr>\n",
              "  </thead>\n",
              "  <tbody>\n",
              "    <tr>\n",
              "      <th>0</th>\n",
              "      <td>43.6</td>\n",
              "      <td>14.5</td>\n",
              "      <td>5.52</td>\n",
              "      <td>3.0</td>\n",
              "      <td>237</td>\n",
              "      <td>27.5</td>\n",
              "      <td>33.6</td>\n",
              "      <td>81.7</td>\n",
              "      <td>32</td>\n",
              "      <td>F</td>\n",
              "      <td>0</td>\n",
              "    </tr>\n",
              "    <tr>\n",
              "      <th>1</th>\n",
              "      <td>44.3</td>\n",
              "      <td>14.4</td>\n",
              "      <td>5.09</td>\n",
              "      <td>7.3</td>\n",
              "      <td>255</td>\n",
              "      <td>29.7</td>\n",
              "      <td>32.9</td>\n",
              "      <td>90.4</td>\n",
              "      <td>40</td>\n",
              "      <td>M</td>\n",
              "      <td>0</td>\n",
              "    </tr>\n",
              "    <tr>\n",
              "      <th>2</th>\n",
              "      <td>36.2</td>\n",
              "      <td>12.5</td>\n",
              "      <td>4.57</td>\n",
              "      <td>7.8</td>\n",
              "      <td>263</td>\n",
              "      <td>28.9</td>\n",
              "      <td>35.0</td>\n",
              "      <td>82.6</td>\n",
              "      <td>65</td>\n",
              "      <td>F</td>\n",
              "      <td>0</td>\n",
              "    </tr>\n",
              "    <tr>\n",
              "      <th>3</th>\n",
              "      <td>46.1</td>\n",
              "      <td>14.7</td>\n",
              "      <td>5.38</td>\n",
              "      <td>8.5</td>\n",
              "      <td>320</td>\n",
              "      <td>28.6</td>\n",
              "      <td>32.2</td>\n",
              "      <td>88.8</td>\n",
              "      <td>52</td>\n",
              "      <td>M</td>\n",
              "      <td>0</td>\n",
              "    </tr>\n",
              "    <tr>\n",
              "      <th>4</th>\n",
              "      <td>31.8</td>\n",
              "      <td>10.9</td>\n",
              "      <td>4.05</td>\n",
              "      <td>26.9</td>\n",
              "      <td>220</td>\n",
              "      <td>28.6</td>\n",
              "      <td>34.8</td>\n",
              "      <td>82.3</td>\n",
              "      <td>66</td>\n",
              "      <td>F</td>\n",
              "      <td>1</td>\n",
              "    </tr>\n",
              "  </tbody>\n",
              "</table>\n",
              "</div>"
            ],
            "text/plain": [
              "   HAEMATOCRIT  HAEMOGLOBINS  ERYTHROCYTE  LEUCOCYTE  ...   MCV  AGE  SEX  SOURCE\n",
              "0         43.6          14.5         5.52        3.0  ...  81.7   32    F       0\n",
              "1         44.3          14.4         5.09        7.3  ...  90.4   40    M       0\n",
              "2         36.2          12.5         4.57        7.8  ...  82.6   65    F       0\n",
              "3         46.1          14.7         5.38        8.5  ...  88.8   52    M       0\n",
              "4         31.8          10.9         4.05       26.9  ...  82.3   66    F       1\n",
              "\n",
              "[5 rows x 11 columns]"
            ]
          },
          "metadata": {},
          "execution_count": 570
        }
      ]
    },
    {
      "cell_type": "markdown",
      "metadata": {
        "id": "fBrHWKHRbPw_"
      },
      "source": [
        "- Since the 'SEX' has just two categories, we can use the one-hot encoder or label encoder(on the train and test data)"
      ]
    },
    {
      "cell_type": "code",
      "metadata": {
        "colab": {
          "base_uri": "https://localhost:8080/"
        },
        "id": "-jY4a6roaFIt",
        "outputId": "bf065ff6-96eb-4e9d-b04e-d290a68f32f3"
      },
      "source": [
        "train.isna().sum() ##to check for missing values"
      ],
      "execution_count": 571,
      "outputs": [
        {
          "output_type": "execute_result",
          "data": {
            "text/plain": [
              "HAEMATOCRIT     0\n",
              "HAEMOGLOBINS    0\n",
              "ERYTHROCYTE     0\n",
              "LEUCOCYTE       0\n",
              "THROMBOCYTE     0\n",
              "MCH             0\n",
              "MCHC            0\n",
              "MCV             0\n",
              "AGE             0\n",
              "SEX             0\n",
              "SOURCE          0\n",
              "dtype: int64"
            ]
          },
          "metadata": {},
          "execution_count": 571
        }
      ]
    },
    {
      "cell_type": "code",
      "metadata": {
        "colab": {
          "base_uri": "https://localhost:8080/"
        },
        "id": "S0DObcVimeU1",
        "outputId": "7c7cd5d3-a4db-42bc-8d8d-7cbccd568165"
      },
      "source": [
        "\n",
        "test.isna().sum()\n"
      ],
      "execution_count": 572,
      "outputs": [
        {
          "output_type": "execute_result",
          "data": {
            "text/plain": [
              "patient_id_     0\n",
              "HAEMATOCRIT     0\n",
              "HAEMOGLOBINS    0\n",
              "ERYTHROCYTE     0\n",
              "LEUCOCYTE       0\n",
              "THROMBOCYTE     0\n",
              "MCH             0\n",
              "MCHC            0\n",
              "MCV             0\n",
              "AGE             0\n",
              "SEX             0\n",
              "dtype: int64"
            ]
          },
          "metadata": {},
          "execution_count": 572
        }
      ]
    },
    {
      "cell_type": "markdown",
      "metadata": {
        "id": "9dDATOthpdc5"
      },
      "source": [
        "### Checking for the correlation between the features with reference to the target variable."
      ]
    },
    {
      "cell_type": "code",
      "metadata": {
        "colab": {
          "base_uri": "https://localhost:8080/",
          "height": 467
        },
        "id": "wJquXj73aRHQ",
        "outputId": "b18485ca-3e8b-4afc-af70-b4dcad74b3d8"
      },
      "source": [
        "\n",
        "plt.figure(figsize=(12, 6))\n",
        "heatmap = sns.heatmap(train.corr(), vmin=-1, vmax=1, annot=True) ### checking the correlation between the features\n",
        "heatmap.set_title('Correlation Heatmap', fontdict={'fontsize':12}, pad=12);\n",
        "\n"
      ],
      "execution_count": 573,
      "outputs": [
        {
          "output_type": "display_data",
          "data": {
            "image/png": "[encoded data removed]",
            "text/plain": [
              "<Figure size 864x432 with 2 Axes>"
            ]
          },
          "metadata": {
            "needs_background": "light"
          }
        }
      ]
    },
    {
      "cell_type": "markdown",
      "metadata": {
        "id": "tbH23ragrO6E"
      },
      "source": [
        "### QUESTIONS\n",
        "\n",
        "1. Does the age of the patient have an influence on whether the patient will be an incare or outcare?\n",
        "\n",
        "2. Is there a relationship between the LEAUCOCYTE and the SOURCE column?\n",
        "\n",
        "3. Can we make any inference from the sex column? "
      ]
    },
    {
      "cell_type": "code",
      "metadata": {
        "colab": {
          "base_uri": "https://localhost:8080/",
          "height": 279
        },
        "id": "SM0gtU5guXru",
        "outputId": "beceed5c-c54a-48d8-8b2d-d33cbdc568e9"
      },
      "source": [
        "\n",
        "sns.boxplot (x= 'AGE', hue= 'SOURCE', data =train);\n"
      ],
      "execution_count": 574,
      "outputs": [
        {
          "output_type": "display_data",
          "data": {
            "image/png": "[encoded data removed]",
            "text/plain": [
              "<Figure size 432x288 with 1 Axes>"
            ]
          },
          "metadata": {
            "needs_background": "light"
          }
        }
      ]
    },
    {
      "cell_type": "code",
      "metadata": {
        "colab": {
          "base_uri": "https://localhost:8080/",
          "height": 279
        },
        "id": "AMRh_3iHuto3",
        "outputId": "ed6d7677-56ae-40f0-b944-cca22a39e0ec"
      },
      "source": [
        "sns.boxplot (x= 'LEUCOCYTE', hue= 'SOURCE', data =train);"
      ],
      "execution_count": 575,
      "outputs": [
        {
          "output_type": "display_data",
          "data": {
            "image/png": "[encoded data removed]",
            "text/plain": [
              "<Figure size 432x288 with 1 Axes>"
            ]
          },
          "metadata": {
            "needs_background": "light"
          }
        }
      ]
    },
    {
      "cell_type": "code",
      "metadata": {
        "colab": {
          "base_uri": "https://localhost:8080/",
          "height": 279
        },
        "id": "UtOY-Km6qKrM",
        "outputId": "bd37dcdf-ba59-4740-eb92-c5a419d12e01"
      },
      "source": [
        "\n",
        "\n",
        "\n",
        "\n",
        "sns.countplot (x= 'SEX', hue= 'SOURCE', data =train);"
      ],
      "execution_count": 576,
      "outputs": [
        {
          "output_type": "display_data",
          "data": {
            "image/png": "[encoded data removed]",
            "text/plain": [
              "<Figure size 432x288 with 1 Axes>"
            ]
          },
          "metadata": {
            "needs_background": "light"
          }
        }
      ]
    },
    {
      "cell_type": "code",
      "metadata": {
        "id": "iBBLJ9NHP-RO"
      },
      "source": [
        "from sklearn import preprocessing\n",
        "\n",
        "le_SEX = preprocessing.LabelEncoder()\n",
        "\n",
        "train.SEX= le_SEX.fit_transform(train.SEX)\n"
      ],
      "execution_count": 577,
      "outputs": []
    },
    {
      "cell_type": "code",
      "metadata": {
        "id": "_xHPDpwGP_p4"
      },
      "source": [
        "\n",
        "test.SEX = le_SEX.transform(test.SEX)"
      ],
      "execution_count": 578,
      "outputs": []
    },
    {
      "cell_type": "code",
      "metadata": {
        "id": "RPEcTs3ORBa9"
      },
      "source": [
        "num_feat.append ('SEX')"
      ],
      "execution_count": 579,
      "outputs": []
    },
    {
      "cell_type": "code",
      "metadata": {
        "id": "to-Hbz6UREHZ"
      },
      "source": [
        "cat_feat.remove ('SEX')"
      ],
      "execution_count": 580,
      "outputs": []
    },
    {
      "cell_type": "markdown",
      "metadata": {
        "id": "0iat_f2DNmX2"
      },
      "source": [
        "### Feature Scaling\n",
        "\n",
        "- It is necessary to do feature scaling to bring all features in the same standing so that one significant number doesn’t impact the model just because of their large magnitude.\n",
        "\n",
        "- In the train data for instance, the maximum in ERYTHROCYTE is 8.07 and the maximum in THROMBOCYTE is 1188, so it will be safe to create scaled values of our features."
      ]
    },
    {
      "cell_type": "code",
      "metadata": {
        "id": "kUqSp_bJMpdl"
      },
      "source": [
        "###instantitiate standard scaler.\n",
        "\n",
        "scaler = StandardScaler()\n",
        "cols = num_feat\n",
        "\n",
        "x = scaler.fit_transform(train[num_feat])\n",
        "testing = scaler.fit_transform(test[num_feat])\n"
      ],
      "execution_count": 581,
      "outputs": []
    },
    {
      "cell_type": "code",
      "metadata": {
        "colab": {
          "base_uri": "https://localhost:8080/",
          "height": 204
        },
        "id": "9HAJhKodMxqH",
        "outputId": "58bc8d87-f6ae-44e6-8548-e3b2790faac5"
      },
      "source": [
        "# create a dataframe out of the scaled data so we can still have values we can relate with instead of the array values.\n",
        "\n",
        "x= pd.DataFrame(data = x, columns= cols)\n",
        "testing=pd.DataFrame(data = testing, columns= cols)\n",
        "\n",
        "x.head()"
      ],
      "execution_count": 582,
      "outputs": [
        {
          "output_type": "execute_result",
          "data": {
            "text/html": [
              "<div>\n",
              "<style scoped>\n",
              "    .dataframe tbody tr th:only-of-type {\n",
              "        vertical-align: middle;\n",
              "    }\n",
              "\n",
              "    .dataframe tbody tr th {\n",
              "        vertical-align: top;\n",
              "    }\n",
              "\n",
              "    .dataframe thead th {\n",
              "        text-align: right;\n",
              "    }\n",
              "</style>\n",
              "<table border=\"1\" class=\"dataframe\">\n",
              "  <thead>\n",
              "    <tr style=\"text-align: right;\">\n",
              "      <th></th>\n",
              "      <th>HAEMATOCRIT</th>\n",
              "      <th>HAEMOGLOBINS</th>\n",
              "      <th>ERYTHROCYTE</th>\n",
              "      <th>LEUCOCYTE</th>\n",
              "      <th>THROMBOCYTE</th>\n",
              "      <th>MCH</th>\n",
              "      <th>MCHC</th>\n",
              "      <th>MCV</th>\n",
              "      <th>AGE</th>\n",
              "      <th>SEX</th>\n",
              "    </tr>\n",
              "  </thead>\n",
              "  <tbody>\n",
              "    <tr>\n",
              "      <th>0</th>\n",
              "      <td>0.859740</td>\n",
              "      <td>0.884487</td>\n",
              "      <td>0.969308</td>\n",
              "      <td>-1.145159</td>\n",
              "      <td>-0.204812</td>\n",
              "      <td>-0.270204</td>\n",
              "      <td>0.201741</td>\n",
              "      <td>-0.416803</td>\n",
              "      <td>-0.674221</td>\n",
              "      <td>-1.048452</td>\n",
              "    </tr>\n",
              "    <tr>\n",
              "      <th>1</th>\n",
              "      <td>0.975071</td>\n",
              "      <td>0.836973</td>\n",
              "      <td>0.426484</td>\n",
              "      <td>-0.294476</td>\n",
              "      <td>-0.048949</td>\n",
              "      <td>0.557415</td>\n",
              "      <td>-0.368527</td>\n",
              "      <td>0.860011</td>\n",
              "      <td>-0.305237</td>\n",
              "      <td>0.953787</td>\n",
              "    </tr>\n",
              "    <tr>\n",
              "      <th>2</th>\n",
              "      <td>-0.359484</td>\n",
              "      <td>-0.065793</td>\n",
              "      <td>-0.229956</td>\n",
              "      <td>-0.195559</td>\n",
              "      <td>0.020324</td>\n",
              "      <td>0.256463</td>\n",
              "      <td>1.342278</td>\n",
              "      <td>-0.284719</td>\n",
              "      <td>0.847840</td>\n",
              "      <td>-1.048452</td>\n",
              "    </tr>\n",
              "    <tr>\n",
              "      <th>3</th>\n",
              "      <td>1.271639</td>\n",
              "      <td>0.979515</td>\n",
              "      <td>0.792575</td>\n",
              "      <td>-0.057076</td>\n",
              "      <td>0.513893</td>\n",
              "      <td>0.143605</td>\n",
              "      <td>-0.938796</td>\n",
              "      <td>0.625195</td>\n",
              "      <td>0.248240</td>\n",
              "      <td>0.953787</td>\n",
              "    </tr>\n",
              "    <tr>\n",
              "      <th>4</th>\n",
              "      <td>-1.084428</td>\n",
              "      <td>-0.826018</td>\n",
              "      <td>-0.886395</td>\n",
              "      <td>3.583056</td>\n",
              "      <td>-0.352017</td>\n",
              "      <td>0.143605</td>\n",
              "      <td>1.179345</td>\n",
              "      <td>-0.328747</td>\n",
              "      <td>0.893963</td>\n",
              "      <td>-1.048452</td>\n",
              "    </tr>\n",
              "  </tbody>\n",
              "</table>\n",
              "</div>"
            ],
            "text/plain": [
              "   HAEMATOCRIT  HAEMOGLOBINS  ERYTHROCYTE  ...       MCV       AGE       SEX\n",
              "0     0.859740      0.884487     0.969308  ... -0.416803 -0.674221 -1.048452\n",
              "1     0.975071      0.836973     0.426484  ...  0.860011 -0.305237  0.953787\n",
              "2    -0.359484     -0.065793    -0.229956  ... -0.284719  0.847840 -1.048452\n",
              "3     1.271639      0.979515     0.792575  ...  0.625195  0.248240  0.953787\n",
              "4    -1.084428     -0.826018    -0.886395  ... -0.328747  0.893963 -1.048452\n",
              "\n",
              "[5 rows x 10 columns]"
            ]
          },
          "metadata": {},
          "execution_count": 582
        }
      ]
    },
    {
      "cell_type": "code",
      "metadata": {
        "id": "zHfPDAUMEEQa"
      },
      "source": [
        "y= train.SOURCE\n",
        "\n",
        "x_train,x_test,y_train,y_test = train_test_split(x,y,test_size=0.33, random_state = 42)"
      ],
      "execution_count": 583,
      "outputs": []
    },
    {
      "cell_type": "code",
      "metadata": {
        "colab": {
          "base_uri": "https://localhost:8080/",
          "height": 419
        },
        "id": "vKMZFhpwOUo9",
        "outputId": "4f0fd1f1-04a4-4c21-8102-12ef50b14200"
      },
      "source": [
        "x_train"
      ],
      "execution_count": 584,
      "outputs": [
        {
          "output_type": "execute_result",
          "data": {
            "text/html": [
              "<div>\n",
              "<style scoped>\n",
              "    .dataframe tbody tr th:only-of-type {\n",
              "        vertical-align: middle;\n",
              "    }\n",
              "\n",
              "    .dataframe tbody tr th {\n",
              "        vertical-align: top;\n",
              "    }\n",
              "\n",
              "    .dataframe thead th {\n",
              "        text-align: right;\n",
              "    }\n",
              "</style>\n",
              "<table border=\"1\" class=\"dataframe\">\n",
              "  <thead>\n",
              "    <tr style=\"text-align: right;\">\n",
              "      <th></th>\n",
              "      <th>HAEMATOCRIT</th>\n",
              "      <th>HAEMOGLOBINS</th>\n",
              "      <th>ERYTHROCYTE</th>\n",
              "      <th>LEUCOCYTE</th>\n",
              "      <th>THROMBOCYTE</th>\n",
              "      <th>MCH</th>\n",
              "      <th>MCHC</th>\n",
              "      <th>MCV</th>\n",
              "      <th>AGE</th>\n",
              "      <th>SEX</th>\n",
              "    </tr>\n",
              "  </thead>\n",
              "  <tbody>\n",
              "    <tr>\n",
              "      <th>438</th>\n",
              "      <td>1.535255</td>\n",
              "      <td>1.834768</td>\n",
              "      <td>1.348023</td>\n",
              "      <td>-0.254909</td>\n",
              "      <td>0.713052</td>\n",
              "      <td>0.519796</td>\n",
              "      <td>1.260811</td>\n",
              "      <td>0.023478</td>\n",
              "      <td>-1.043205</td>\n",
              "      <td>0.953787</td>\n",
              "    </tr>\n",
              "    <tr>\n",
              "      <th>2149</th>\n",
              "      <td>0.579648</td>\n",
              "      <td>0.646917</td>\n",
              "      <td>0.312869</td>\n",
              "      <td>-0.136209</td>\n",
              "      <td>-0.178835</td>\n",
              "      <td>0.444558</td>\n",
              "      <td>0.364675</td>\n",
              "      <td>0.375703</td>\n",
              "      <td>-0.259114</td>\n",
              "      <td>0.953787</td>\n",
              "    </tr>\n",
              "    <tr>\n",
              "      <th>969</th>\n",
              "      <td>-0.079392</td>\n",
              "      <td>-0.018279</td>\n",
              "      <td>-0.065846</td>\n",
              "      <td>-0.076859</td>\n",
              "      <td>-0.559835</td>\n",
              "      <td>0.030748</td>\n",
              "      <td>0.283208</td>\n",
              "      <td>-0.079254</td>\n",
              "      <td>-2.011789</td>\n",
              "      <td>-1.048452</td>\n",
              "    </tr>\n",
              "    <tr>\n",
              "      <th>2501</th>\n",
              "      <td>-2.270699</td>\n",
              "      <td>-2.536523</td>\n",
              "      <td>-1.871054</td>\n",
              "      <td>-0.274692</td>\n",
              "      <td>-0.074926</td>\n",
              "      <td>-1.511634</td>\n",
              "      <td>-2.486667</td>\n",
              "      <td>-0.710324</td>\n",
              "      <td>-0.443606</td>\n",
              "      <td>-1.048452</td>\n",
              "    </tr>\n",
              "    <tr>\n",
              "      <th>1945</th>\n",
              "      <td>1.189259</td>\n",
              "      <td>1.217085</td>\n",
              "      <td>0.325493</td>\n",
              "      <td>-0.492309</td>\n",
              "      <td>0.020324</td>\n",
              "      <td>1.385035</td>\n",
              "      <td>0.283208</td>\n",
              "      <td>1.476405</td>\n",
              "      <td>0.571101</td>\n",
              "      <td>0.953787</td>\n",
              "    </tr>\n",
              "    <tr>\n",
              "      <th>...</th>\n",
              "      <td>...</td>\n",
              "      <td>...</td>\n",
              "      <td>...</td>\n",
              "      <td>...</td>\n",
              "      <td>...</td>\n",
              "      <td>...</td>\n",
              "      <td>...</td>\n",
              "      <td>...</td>\n",
              "      <td>...</td>\n",
              "      <td>...</td>\n",
              "    </tr>\n",
              "    <tr>\n",
              "      <th>1638</th>\n",
              "      <td>0.530220</td>\n",
              "      <td>0.314319</td>\n",
              "      <td>0.615841</td>\n",
              "      <td>-0.175776</td>\n",
              "      <td>-0.213471</td>\n",
              "      <td>-0.608776</td>\n",
              "      <td>-0.775862</td>\n",
              "      <td>-0.328747</td>\n",
              "      <td>-0.351360</td>\n",
              "      <td>-1.048452</td>\n",
              "    </tr>\n",
              "    <tr>\n",
              "      <th>1095</th>\n",
              "      <td>-0.194724</td>\n",
              "      <td>-0.065793</td>\n",
              "      <td>-0.495056</td>\n",
              "      <td>0.259458</td>\n",
              "      <td>1.726167</td>\n",
              "      <td>0.820749</td>\n",
              "      <td>0.609076</td>\n",
              "      <td>0.683899</td>\n",
              "      <td>0.663347</td>\n",
              "      <td>-1.048452</td>\n",
              "    </tr>\n",
              "    <tr>\n",
              "      <th>1130</th>\n",
              "      <td>-2.682599</td>\n",
              "      <td>-2.061382</td>\n",
              "      <td>-2.716851</td>\n",
              "      <td>0.022058</td>\n",
              "      <td>-1.936632</td>\n",
              "      <td>2.588846</td>\n",
              "      <td>4.112154</td>\n",
              "      <td>1.036124</td>\n",
              "      <td>0.847840</td>\n",
              "      <td>-1.048452</td>\n",
              "    </tr>\n",
              "    <tr>\n",
              "      <th>1294</th>\n",
              "      <td>0.200700</td>\n",
              "      <td>0.266805</td>\n",
              "      <td>0.035145</td>\n",
              "      <td>-0.254909</td>\n",
              "      <td>0.496575</td>\n",
              "      <td>0.331701</td>\n",
              "      <td>0.364675</td>\n",
              "      <td>0.243618</td>\n",
              "      <td>-1.089328</td>\n",
              "      <td>-1.048452</td>\n",
              "    </tr>\n",
              "    <tr>\n",
              "      <th>860</th>\n",
              "      <td>-0.310056</td>\n",
              "      <td>-0.065793</td>\n",
              "      <td>0.691584</td>\n",
              "      <td>-0.353826</td>\n",
              "      <td>-1.746132</td>\n",
              "      <td>-1.285920</td>\n",
              "      <td>1.097878</td>\n",
              "      <td>-1.943110</td>\n",
              "      <td>-1.827297</td>\n",
              "      <td>0.953787</td>\n",
              "    </tr>\n",
              "  </tbody>\n",
              "</table>\n",
              "<p>2068 rows × 10 columns</p>\n",
              "</div>"
            ],
            "text/plain": [
              "      HAEMATOCRIT  HAEMOGLOBINS  ERYTHROCYTE  ...       MCV       AGE       SEX\n",
              "438      1.535255      1.834768     1.348023  ...  0.023478 -1.043205  0.953787\n",
              "2149     0.579648      0.646917     0.312869  ...  0.375703 -0.259114  0.953787\n",
              "969     -0.079392     -0.018279    -0.065846  ... -0.079254 -2.011789 -1.048452\n",
              "2501    -2.270699     -2.536523    -1.871054  ... -0.710324 -0.443606 -1.048452\n",
              "1945     1.189259      1.217085     0.325493  ...  1.476405  0.571101  0.953787\n",
              "...           ...           ...          ...  ...       ...       ...       ...\n",
              "1638     0.530220      0.314319     0.615841  ... -0.328747 -0.351360 -1.048452\n",
              "1095    -0.194724     -0.065793    -0.495056  ...  0.683899  0.663347 -1.048452\n",
              "1130    -2.682599     -2.061382    -2.716851  ...  1.036124  0.847840 -1.048452\n",
              "1294     0.200700      0.266805     0.035145  ...  0.243618 -1.089328 -1.048452\n",
              "860     -0.310056     -0.065793     0.691584  ... -1.943110 -1.827297  0.953787\n",
              "\n",
              "[2068 rows x 10 columns]"
            ]
          },
          "metadata": {},
          "execution_count": 584
        }
      ]
    },
    {
      "cell_type": "markdown",
      "metadata": {
        "id": "XuXqvPZXNK7J"
      },
      "source": [
        "### BUILDING A BASE MODEL"
      ]
    },
    {
      "cell_type": "code",
      "metadata": {
        "colab": {
          "base_uri": "https://localhost:8080/"
        },
        "id": "m7_q_cAZCcuv",
        "outputId": "9f79a938-e75c-4427-e3dd-c03c2fafdb63"
      },
      "source": [
        "lr = LogisticRegression()\n",
        "lr.fit(x_train, y_train)"
      ],
      "execution_count": 585,
      "outputs": [
        {
          "output_type": "execute_result",
          "data": {
            "text/plain": [
              "LogisticRegression(C=1.0, class_weight=None, dual=False, fit_intercept=True,\n",
              "                   intercept_scaling=1, l1_ratio=None, max_iter=100,\n",
              "                   multi_class='auto', n_jobs=None, penalty='l2',\n",
              "                   random_state=None, solver='lbfgs', tol=0.0001, verbose=0,\n",
              "                   warm_start=False)"
            ]
          },
          "metadata": {},
          "execution_count": 585
        }
      ]
    },
    {
      "cell_type": "code",
      "metadata": {
        "id": "41UWBqGWNkzJ"
      },
      "source": [
        "\n",
        "\n",
        "lr_pred = lr.predict(x_test)"
      ],
      "execution_count": 586,
      "outputs": []
    },
    {
      "cell_type": "code",
      "metadata": {
        "id": "HTznz4INVmwc"
      },
      "source": [
        "\n",
        "from sklearn.metrics import f1_score"
      ],
      "execution_count": 587,
      "outputs": []
    },
    {
      "cell_type": "code",
      "metadata": {
        "colab": {
          "base_uri": "https://localhost:8080/"
        },
        "id": "_Vl0_NPRWu2e",
        "outputId": "d119fe5f-9ac0-47aa-bd43-65699a840609"
      },
      "source": [
        "\n",
        "\n",
        "f1_score(y_test, lr_pred, average= 'micro')"
      ],
      "execution_count": 588,
      "outputs": [
        {
          "output_type": "execute_result",
          "data": {
            "text/plain": [
              "0.7313725490196079"
            ]
          },
          "metadata": {},
          "execution_count": 588
        }
      ]
    },
    {
      "cell_type": "code",
      "metadata": {
        "colab": {
          "base_uri": "https://localhost:8080/",
          "height": 419
        },
        "id": "XpUTHS2s0Imx",
        "outputId": "bbfc180e-ca43-4e79-cf28-607bbeed085a"
      },
      "source": [
        "\n",
        "sample"
      ],
      "execution_count": 589,
      "outputs": [
        {
          "output_type": "execute_result",
          "data": {
            "text/html": [
              "<div>\n",
              "<style scoped>\n",
              "    .dataframe tbody tr th:only-of-type {\n",
              "        vertical-align: middle;\n",
              "    }\n",
              "\n",
              "    .dataframe tbody tr th {\n",
              "        vertical-align: top;\n",
              "    }\n",
              "\n",
              "    .dataframe thead th {\n",
              "        text-align: right;\n",
              "    }\n",
              "</style>\n",
              "<table border=\"1\" class=\"dataframe\">\n",
              "  <thead>\n",
              "    <tr style=\"text-align: right;\">\n",
              "      <th></th>\n",
              "      <th>patient_id_</th>\n",
              "      <th>SOURCE</th>\n",
              "    </tr>\n",
              "  </thead>\n",
              "  <tbody>\n",
              "    <tr>\n",
              "      <th>0</th>\n",
              "      <td>patient_id_4373</td>\n",
              "      <td>1</td>\n",
              "    </tr>\n",
              "    <tr>\n",
              "      <th>1</th>\n",
              "      <td>patient_id_2204</td>\n",
              "      <td>1</td>\n",
              "    </tr>\n",
              "    <tr>\n",
              "      <th>2</th>\n",
              "      <td>patient_id_93</td>\n",
              "      <td>1</td>\n",
              "    </tr>\n",
              "    <tr>\n",
              "      <th>3</th>\n",
              "      <td>patient_id_798</td>\n",
              "      <td>1</td>\n",
              "    </tr>\n",
              "    <tr>\n",
              "      <th>4</th>\n",
              "      <td>patient_id_789</td>\n",
              "      <td>1</td>\n",
              "    </tr>\n",
              "    <tr>\n",
              "      <th>...</th>\n",
              "      <td>...</td>\n",
              "      <td>...</td>\n",
              "    </tr>\n",
              "    <tr>\n",
              "      <th>1319</th>\n",
              "      <td>patient_id_2070</td>\n",
              "      <td>1</td>\n",
              "    </tr>\n",
              "    <tr>\n",
              "      <th>1320</th>\n",
              "      <td>patient_id_1789</td>\n",
              "      <td>1</td>\n",
              "    </tr>\n",
              "    <tr>\n",
              "      <th>1321</th>\n",
              "      <td>patient_id_1725</td>\n",
              "      <td>1</td>\n",
              "    </tr>\n",
              "    <tr>\n",
              "      <th>1322</th>\n",
              "      <td>patient_id_3707</td>\n",
              "      <td>1</td>\n",
              "    </tr>\n",
              "    <tr>\n",
              "      <th>1323</th>\n",
              "      <td>patient_id_3001</td>\n",
              "      <td>1</td>\n",
              "    </tr>\n",
              "  </tbody>\n",
              "</table>\n",
              "<p>1324 rows × 2 columns</p>\n",
              "</div>"
            ],
            "text/plain": [
              "          patient_id_  SOURCE\n",
              "0     patient_id_4373       1\n",
              "1     patient_id_2204       1\n",
              "2       patient_id_93       1\n",
              "3      patient_id_798       1\n",
              "4      patient_id_789       1\n",
              "...               ...     ...\n",
              "1319  patient_id_2070       1\n",
              "1320  patient_id_1789       1\n",
              "1321  patient_id_1725       1\n",
              "1322  patient_id_3707       1\n",
              "1323  patient_id_3001       1\n",
              "\n",
              "[1324 rows x 2 columns]"
            ]
          },
          "metadata": {},
          "execution_count": 589
        }
      ]
    },
    {
      "cell_type": "code",
      "metadata": {
        "id": "ms8vSb0b0FMS"
      },
      "source": [
        "\n",
        "submission_file= sample.copy()"
      ],
      "execution_count": 590,
      "outputs": []
    },
    {
      "cell_type": "code",
      "metadata": {
        "id": "D3GiOX4VBHj1"
      },
      "source": [
        "submission_file.SOURCE = lr.predict(testing)"
      ],
      "execution_count": 591,
      "outputs": []
    },
    {
      "cell_type": "code",
      "metadata": {
        "colab": {
          "base_uri": "https://localhost:8080/",
          "height": 419
        },
        "id": "D6Hfk9PgBoHa",
        "outputId": "07f6a218-bfe6-4c49-92e7-01fe7b2993c4"
      },
      "source": [
        "submission_file\n"
      ],
      "execution_count": 592,
      "outputs": [
        {
          "output_type": "execute_result",
          "data": {
            "text/html": [
              "<div>\n",
              "<style scoped>\n",
              "    .dataframe tbody tr th:only-of-type {\n",
              "        vertical-align: middle;\n",
              "    }\n",
              "\n",
              "    .dataframe tbody tr th {\n",
              "        vertical-align: top;\n",
              "    }\n",
              "\n",
              "    .dataframe thead th {\n",
              "        text-align: right;\n",
              "    }\n",
              "</style>\n",
              "<table border=\"1\" class=\"dataframe\">\n",
              "  <thead>\n",
              "    <tr style=\"text-align: right;\">\n",
              "      <th></th>\n",
              "      <th>patient_id_</th>\n",
              "      <th>SOURCE</th>\n",
              "    </tr>\n",
              "  </thead>\n",
              "  <tbody>\n",
              "    <tr>\n",
              "      <th>0</th>\n",
              "      <td>patient_id_4373</td>\n",
              "      <td>0</td>\n",
              "    </tr>\n",
              "    <tr>\n",
              "      <th>1</th>\n",
              "      <td>patient_id_2204</td>\n",
              "      <td>1</td>\n",
              "    </tr>\n",
              "    <tr>\n",
              "      <th>2</th>\n",
              "      <td>patient_id_93</td>\n",
              "      <td>0</td>\n",
              "    </tr>\n",
              "    <tr>\n",
              "      <th>3</th>\n",
              "      <td>patient_id_798</td>\n",
              "      <td>0</td>\n",
              "    </tr>\n",
              "    <tr>\n",
              "      <th>4</th>\n",
              "      <td>patient_id_789</td>\n",
              "      <td>1</td>\n",
              "    </tr>\n",
              "    <tr>\n",
              "      <th>...</th>\n",
              "      <td>...</td>\n",
              "      <td>...</td>\n",
              "    </tr>\n",
              "    <tr>\n",
              "      <th>1319</th>\n",
              "      <td>patient_id_2070</td>\n",
              "      <td>0</td>\n",
              "    </tr>\n",
              "    <tr>\n",
              "      <th>1320</th>\n",
              "      <td>patient_id_1789</td>\n",
              "      <td>1</td>\n",
              "    </tr>\n",
              "    <tr>\n",
              "      <th>1321</th>\n",
              "      <td>patient_id_1725</td>\n",
              "      <td>0</td>\n",
              "    </tr>\n",
              "    <tr>\n",
              "      <th>1322</th>\n",
              "      <td>patient_id_3707</td>\n",
              "      <td>0</td>\n",
              "    </tr>\n",
              "    <tr>\n",
              "      <th>1323</th>\n",
              "      <td>patient_id_3001</td>\n",
              "      <td>1</td>\n",
              "    </tr>\n",
              "  </tbody>\n",
              "</table>\n",
              "<p>1324 rows × 2 columns</p>\n",
              "</div>"
            ],
            "text/plain": [
              "          patient_id_  SOURCE\n",
              "0     patient_id_4373       0\n",
              "1     patient_id_2204       1\n",
              "2       patient_id_93       0\n",
              "3      patient_id_798       0\n",
              "4      patient_id_789       1\n",
              "...               ...     ...\n",
              "1319  patient_id_2070       0\n",
              "1320  patient_id_1789       1\n",
              "1321  patient_id_1725       0\n",
              "1322  patient_id_3707       0\n",
              "1323  patient_id_3001       1\n",
              "\n",
              "[1324 rows x 2 columns]"
            ]
          },
          "metadata": {},
          "execution_count": 592
        }
      ]
    },
    {
      "cell_type": "code",
      "metadata": {
        "colab": {
          "base_uri": "https://localhost:8080/",
          "height": 350
        },
        "id": "GHkICiT8CFMm",
        "outputId": "2b5974bf-bbe7-40a4-9803-bebb4ee5b11f"
      },
      "source": [
        "sns.countplot(submission_file.SOURCE)"
      ],
      "execution_count": 593,
      "outputs": [
        {
          "output_type": "stream",
          "name": "stderr",
          "text": [
            "/usr/local/lib/python3.7/dist-packages/seaborn/_decorators.py:43: FutureWarning: Pass the following variable as a keyword arg: x. From version 0.12, the only valid positional argument will be `data`, and passing other arguments without an explicit keyword will result in an error or misinterpretation.\n",
            "  FutureWarning\n"
          ]
        },
        {
          "output_type": "execute_result",
          "data": {
            "text/plain": [
              "<matplotlib.axes._subplots.AxesSubplot at 0x7f2fd6ba5ed0>"
            ]
          },
          "metadata": {},
          "execution_count": 593
        },
        {
          "output_type": "display_data",
          "data": {
            "image/png": "[encoded data removed]",
            "text/plain": [
              "<Figure size 432x288 with 1 Axes>"
            ]
          },
          "metadata": {
            "needs_background": "light"
          }
        }
      ]
    },
    {
      "cell_type": "code",
      "metadata": {
        "id": "ru-tRP-ECTPh"
      },
      "source": [
        "submission_file.to_csv('my_second_submission.csv', index= False)"
      ],
      "execution_count": 594,
      "outputs": []
    },
    {
      "cell_type": "markdown",
      "metadata": {
        "id": "nRKLD581CCwY"
      },
      "source": [
        "### Using Decision Tree"
      ]
    },
    {
      "cell_type": "code",
      "metadata": {
        "colab": {
          "base_uri": "https://localhost:8080/"
        },
        "id": "Nz_wfeKzW7UJ",
        "outputId": "f4bf4229-5c04-414b-93f1-18f182dd2e34"
      },
      "source": [
        "\n",
        "from sklearn.tree import DecisionTreeClassifier\n",
        "dc = DecisionTreeClassifier (criterion = 'entropy', random_state= 42)\n",
        "dc.fit (x_train, y_train)\n",
        "\n",
        "   "
      ],
      "execution_count": 595,
      "outputs": [
        {
          "output_type": "execute_result",
          "data": {
            "text/plain": [
              "DecisionTreeClassifier(ccp_alpha=0.0, class_weight=None, criterion='entropy',\n",
              "                       max_depth=None, max_features=None, max_leaf_nodes=None,\n",
              "                       min_impurity_decrease=0.0, min_impurity_split=None,\n",
              "                       min_samples_leaf=1, min_samples_split=2,\n",
              "                       min_weight_fraction_leaf=0.0, presort='deprecated',\n",
              "                       random_state=42, splitter='best')"
            ]
          },
          "metadata": {},
          "execution_count": 595
        }
      ]
    },
    {
      "cell_type": "code",
      "metadata": {
        "id": "CJCYhw-4jMT7"
      },
      "source": [
        "dc_pred = dc.predict(x_test)"
      ],
      "execution_count": 596,
      "outputs": []
    },
    {
      "cell_type": "code",
      "metadata": {
        "colab": {
          "base_uri": "https://localhost:8080/"
        },
        "id": "z4c9InqIjf7b",
        "outputId": "dd3f3e1b-5483-4932-c6bc-b826b8e08869"
      },
      "source": [
        "f1_score(y_test, dc_pred, average= 'micro')"
      ],
      "execution_count": 597,
      "outputs": [
        {
          "output_type": "execute_result",
          "data": {
            "text/plain": [
              "0.6647058823529411"
            ]
          },
          "metadata": {},
          "execution_count": 597
        }
      ]
    },
    {
      "cell_type": "code",
      "metadata": {
        "colab": {
          "base_uri": "https://localhost:8080/"
        },
        "id": "_5J5BWcldpp5",
        "outputId": "cee9045e-1ea2-4ea3-ef30-85bd1c61a55b"
      },
      "source": [
        "from sklearn.naive_bayes import GaussianNB\n",
        "naivemodel= GaussianNB()\n",
        "naivemodel.fit(x_train, y_train)"
      ],
      "execution_count": 598,
      "outputs": [
        {
          "output_type": "execute_result",
          "data": {
            "text/plain": [
              "GaussianNB(priors=None, var_smoothing=1e-09)"
            ]
          },
          "metadata": {},
          "execution_count": 598
        }
      ]
    },
    {
      "cell_type": "code",
      "metadata": {
        "colab": {
          "base_uri": "https://localhost:8080/"
        },
        "id": "YLKZ1hJ7fjD-",
        "outputId": "1064293d-c891-4335-e3e1-9b720f9ba0a3"
      },
      "source": [
        "GaussianNB()"
      ],
      "execution_count": 599,
      "outputs": [
        {
          "output_type": "execute_result",
          "data": {
            "text/plain": [
              "GaussianNB(priors=None, var_smoothing=1e-09)"
            ]
          },
          "metadata": {},
          "execution_count": 599
        }
      ]
    },
    {
      "cell_type": "code",
      "metadata": {
        "id": "vHnjKtLtf1WK"
      },
      "source": [
        "naivemodel_prediction = naivemodel.predict(x_test)"
      ],
      "execution_count": 600,
      "outputs": []
    },
    {
      "cell_type": "code",
      "metadata": {
        "id": "t9KQ3bkxgOTM"
      },
      "source": [
        "#naivemodel_prediction"
      ],
      "execution_count": 601,
      "outputs": []
    },
    {
      "cell_type": "code",
      "metadata": {
        "colab": {
          "base_uri": "https://localhost:8080/"
        },
        "id": "cupTMko2goq5",
        "outputId": "5c7bfc0d-3573-4b86-cf6a-f132245d5baf"
      },
      "source": [
        "f1_score(y_test, naivemodel_prediction, average= 'micro')"
      ],
      "execution_count": 602,
      "outputs": [
        {
          "output_type": "execute_result",
          "data": {
            "text/plain": [
              "0.7127450980392156"
            ]
          },
          "metadata": {},
          "execution_count": 602
        }
      ]
    },
    {
      "cell_type": "code",
      "metadata": {
        "colab": {
          "base_uri": "https://localhost:8080/"
        },
        "id": "Wd-6xxCehgE4",
        "outputId": "56a066ec-f99a-49f3-f077-8fc1b6a72c57"
      },
      "source": [
        "from sklearn.ensemble import RandomForestClassifier\n",
        "\n",
        "rf =RandomForestClassifier()\n",
        "\n",
        "rf.fit(x_train, y_train)"
      ],
      "execution_count": 603,
      "outputs": [
        {
          "output_type": "execute_result",
          "data": {
            "text/plain": [
              "RandomForestClassifier(bootstrap=True, ccp_alpha=0.0, class_weight=None,\n",
              "                       criterion='gini', max_depth=None, max_features='auto',\n",
              "                       max_leaf_nodes=None, max_samples=None,\n",
              "                       min_impurity_decrease=0.0, min_impurity_split=None,\n",
              "                       min_samples_leaf=1, min_samples_split=2,\n",
              "                       min_weight_fraction_leaf=0.0, n_estimators=100,\n",
              "                       n_jobs=None, oob_score=False, random_state=None,\n",
              "                       verbose=0, warm_start=False)"
            ]
          },
          "metadata": {},
          "execution_count": 603
        }
      ]
    },
    {
      "cell_type": "code",
      "metadata": {
        "id": "q1l0OClahyYR"
      },
      "source": [
        "rf_predict = rf.predict(x_test)\n",
        "#rf_predict"
      ],
      "execution_count": 604,
      "outputs": []
    },
    {
      "cell_type": "code",
      "metadata": {
        "colab": {
          "base_uri": "https://localhost:8080/"
        },
        "id": "VkCTyn3aiAnq",
        "outputId": "3e5340fd-4e69-4496-a203-fd58d70cfacc"
      },
      "source": [
        "f1_score(y_test,rf_predict, average= 'micro')"
      ],
      "execution_count": 605,
      "outputs": [
        {
          "output_type": "execute_result",
          "data": {
            "text/plain": [
              "0.7382352941176471"
            ]
          },
          "metadata": {},
          "execution_count": 605
        }
      ]
    },
    {
      "cell_type": "code",
      "metadata": {
        "colab": {
          "base_uri": "https://localhost:8080/"
        },
        "id": "PJffch8GkGbY",
        "outputId": "e8fc7826-e8e6-4b1f-93d4-7c9aa4c4dc49"
      },
      "source": [
        "pip install xgboost"
      ],
      "execution_count": 606,
      "outputs": [
        {
          "output_type": "stream",
          "name": "stdout",
          "text": [
            "Requirement already satisfied: xgboost in /usr/local/lib/python3.7/dist-packages (0.90)\n",
            "Requirement already satisfied: scipy in /usr/local/lib/python3.7/dist-packages (from xgboost) (1.4.1)\n",
            "Requirement already satisfied: numpy in /usr/local/lib/python3.7/dist-packages (from xgboost) (1.19.5)\n"
          ]
        }
      ]
    },
    {
      "cell_type": "code",
      "metadata": {
        "id": "4Lc-g9XnoRnN"
      },
      "source": [
        "from xgboost import XGBClassifier\n",
        "\n",
        "xgboost_model = XGBClassifier(use_label_encoder =False)\n",
        "xgbmodel = xgboost_model.fit(x_train, y_train)"
      ],
      "execution_count": 607,
      "outputs": []
    },
    {
      "cell_type": "code",
      "metadata": {
        "id": "aA7pRX9XttIN"
      },
      "source": [
        "xgb_predict= xgboost_model.predict(x_test)"
      ],
      "execution_count": 608,
      "outputs": []
    },
    {
      "cell_type": "code",
      "metadata": {
        "colab": {
          "base_uri": "https://localhost:8080/"
        },
        "id": "F2OeaOFnt4t2",
        "outputId": "f04c6bd1-f0d8-4082-aa0b-ad75ae53e45d"
      },
      "source": [
        "f1_score(y_test,xgb_predict, average= 'micro')"
      ],
      "execution_count": 609,
      "outputs": [
        {
          "output_type": "execute_result",
          "data": {
            "text/plain": [
              "0.7441176470588236"
            ]
          },
          "metadata": {},
          "execution_count": 609
        }
      ]
    },
    {
      "cell_type": "code",
      "metadata": {
        "id": "ar207hsVyYPQ"
      },
      "source": [
        "#xgb_predict\n"
      ],
      "execution_count": 610,
      "outputs": []
    },
    {
      "cell_type": "code",
      "metadata": {
        "colab": {
          "base_uri": "https://localhost:8080/",
          "height": 204
        },
        "id": "BjdgTeiRyJsc",
        "outputId": "c025ea23-0158-4214-b0d2-6b7ed72d3a77"
      },
      "source": [
        "sample.head()"
      ],
      "execution_count": 611,
      "outputs": [
        {
          "output_type": "execute_result",
          "data": {
            "text/html": [
              "<div>\n",
              "<style scoped>\n",
              "    .dataframe tbody tr th:only-of-type {\n",
              "        vertical-align: middle;\n",
              "    }\n",
              "\n",
              "    .dataframe tbody tr th {\n",
              "        vertical-align: top;\n",
              "    }\n",
              "\n",
              "    .dataframe thead th {\n",
              "        text-align: right;\n",
              "    }\n",
              "</style>\n",
              "<table border=\"1\" class=\"dataframe\">\n",
              "  <thead>\n",
              "    <tr style=\"text-align: right;\">\n",
              "      <th></th>\n",
              "      <th>patient_id_</th>\n",
              "      <th>SOURCE</th>\n",
              "    </tr>\n",
              "  </thead>\n",
              "  <tbody>\n",
              "    <tr>\n",
              "      <th>0</th>\n",
              "      <td>patient_id_4373</td>\n",
              "      <td>1</td>\n",
              "    </tr>\n",
              "    <tr>\n",
              "      <th>1</th>\n",
              "      <td>patient_id_2204</td>\n",
              "      <td>1</td>\n",
              "    </tr>\n",
              "    <tr>\n",
              "      <th>2</th>\n",
              "      <td>patient_id_93</td>\n",
              "      <td>1</td>\n",
              "    </tr>\n",
              "    <tr>\n",
              "      <th>3</th>\n",
              "      <td>patient_id_798</td>\n",
              "      <td>1</td>\n",
              "    </tr>\n",
              "    <tr>\n",
              "      <th>4</th>\n",
              "      <td>patient_id_789</td>\n",
              "      <td>1</td>\n",
              "    </tr>\n",
              "  </tbody>\n",
              "</table>\n",
              "</div>"
            ],
            "text/plain": [
              "       patient_id_  SOURCE\n",
              "0  patient_id_4373       1\n",
              "1  patient_id_2204       1\n",
              "2    patient_id_93       1\n",
              "3   patient_id_798       1\n",
              "4   patient_id_789       1"
            ]
          },
          "metadata": {},
          "execution_count": 611
        }
      ]
    },
    {
      "cell_type": "code",
      "metadata": {
        "colab": {
          "base_uri": "https://localhost:8080/",
          "height": 419
        },
        "id": "DC_bD4u5yfyZ",
        "outputId": "2816a80d-1ce6-438e-b23c-95c8bb83d052"
      },
      "source": [
        "submission_file = sample.copy()\n",
        "submission_file"
      ],
      "execution_count": 316,
      "outputs": [
        {
          "output_type": "execute_result",
          "data": {
            "text/html": [
              "<div>\n",
              "<style scoped>\n",
              "    .dataframe tbody tr th:only-of-type {\n",
              "        vertical-align: middle;\n",
              "    }\n",
              "\n",
              "    .dataframe tbody tr th {\n",
              "        vertical-align: top;\n",
              "    }\n",
              "\n",
              "    .dataframe thead th {\n",
              "        text-align: right;\n",
              "    }\n",
              "</style>\n",
              "<table border=\"1\" class=\"dataframe\">\n",
              "  <thead>\n",
              "    <tr style=\"text-align: right;\">\n",
              "      <th></th>\n",
              "      <th>patient_id_</th>\n",
              "      <th>SOURCE</th>\n",
              "    </tr>\n",
              "  </thead>\n",
              "  <tbody>\n",
              "    <tr>\n",
              "      <th>0</th>\n",
              "      <td>patient_id_4373</td>\n",
              "      <td>1</td>\n",
              "    </tr>\n",
              "    <tr>\n",
              "      <th>1</th>\n",
              "      <td>patient_id_2204</td>\n",
              "      <td>1</td>\n",
              "    </tr>\n",
              "    <tr>\n",
              "      <th>2</th>\n",
              "      <td>patient_id_93</td>\n",
              "      <td>1</td>\n",
              "    </tr>\n",
              "    <tr>\n",
              "      <th>3</th>\n",
              "      <td>patient_id_798</td>\n",
              "      <td>1</td>\n",
              "    </tr>\n",
              "    <tr>\n",
              "      <th>4</th>\n",
              "      <td>patient_id_789</td>\n",
              "      <td>1</td>\n",
              "    </tr>\n",
              "    <tr>\n",
              "      <th>...</th>\n",
              "      <td>...</td>\n",
              "      <td>...</td>\n",
              "    </tr>\n",
              "    <tr>\n",
              "      <th>1319</th>\n",
              "      <td>patient_id_2070</td>\n",
              "      <td>1</td>\n",
              "    </tr>\n",
              "    <tr>\n",
              "      <th>1320</th>\n",
              "      <td>patient_id_1789</td>\n",
              "      <td>1</td>\n",
              "    </tr>\n",
              "    <tr>\n",
              "      <th>1321</th>\n",
              "      <td>patient_id_1725</td>\n",
              "      <td>1</td>\n",
              "    </tr>\n",
              "    <tr>\n",
              "      <th>1322</th>\n",
              "      <td>patient_id_3707</td>\n",
              "      <td>1</td>\n",
              "    </tr>\n",
              "    <tr>\n",
              "      <th>1323</th>\n",
              "      <td>patient_id_3001</td>\n",
              "      <td>1</td>\n",
              "    </tr>\n",
              "  </tbody>\n",
              "</table>\n",
              "<p>1324 rows × 2 columns</p>\n",
              "</div>"
            ],
            "text/plain": [
              "          patient_id_  SOURCE\n",
              "0     patient_id_4373       1\n",
              "1     patient_id_2204       1\n",
              "2       patient_id_93       1\n",
              "3      patient_id_798       1\n",
              "4      patient_id_789       1\n",
              "...               ...     ...\n",
              "1319  patient_id_2070       1\n",
              "1320  patient_id_1789       1\n",
              "1321  patient_id_1725       1\n",
              "1322  patient_id_3707       1\n",
              "1323  patient_id_3001       1\n",
              "\n",
              "[1324 rows x 2 columns]"
            ]
          },
          "metadata": {},
          "execution_count": 316
        }
      ]
    },
    {
      "cell_type": "code",
      "metadata": {
        "colab": {
          "base_uri": "https://localhost:8080/"
        },
        "id": "AMNPukRYuTDz",
        "outputId": "95bc2183-eb11-482a-b732-782cae1de7bc"
      },
      "source": [
        "from sklearn.svm import SVC \n",
        "svm_model= SVC()\n",
        "\n",
        "svm_model.fit(x_train, y_train)"
      ],
      "execution_count": 612,
      "outputs": [
        {
          "output_type": "execute_result",
          "data": {
            "text/plain": [
              "SVC(C=1.0, break_ties=False, cache_size=200, class_weight=None, coef0=0.0,\n",
              "    decision_function_shape='ovr', degree=3, gamma='scale', kernel='rbf',\n",
              "    max_iter=-1, probability=False, random_state=None, shrinking=True,\n",
              "    tol=0.001, verbose=False)"
            ]
          },
          "metadata": {},
          "execution_count": 612
        }
      ]
    },
    {
      "cell_type": "code",
      "metadata": {
        "id": "ztSgjidzuhI3"
      },
      "source": [
        "svm_predict = svm_model.predict(x_test)"
      ],
      "execution_count": 613,
      "outputs": []
    },
    {
      "cell_type": "code",
      "metadata": {
        "colab": {
          "base_uri": "https://localhost:8080/"
        },
        "id": "veQwqwimu9Ha",
        "outputId": "9c5aa8fa-a2ee-4a09-e829-6c782d772861"
      },
      "source": [
        "f1_score(y_test,svm_predict, average= 'micro')"
      ],
      "execution_count": 614,
      "outputs": [
        {
          "output_type": "execute_result",
          "data": {
            "text/plain": [
              "0.7470588235294117"
            ]
          },
          "metadata": {},
          "execution_count": 614
        }
      ]
    },
    {
      "cell_type": "code",
      "metadata": {
        "colab": {
          "base_uri": "https://localhost:8080/",
          "height": 419
        },
        "id": "AnfD1_E3TTE7",
        "outputId": "f3bb7320-228b-4cb9-a08e-9a4ad502dcd8"
      },
      "source": [
        "submission_file3 = sample.copy()\n",
        "submission_file3"
      ],
      "execution_count": 617,
      "outputs": [
        {
          "output_type": "execute_result",
          "data": {
            "text/html": [
              "<div>\n",
              "<style scoped>\n",
              "    .dataframe tbody tr th:only-of-type {\n",
              "        vertical-align: middle;\n",
              "    }\n",
              "\n",
              "    .dataframe tbody tr th {\n",
              "        vertical-align: top;\n",
              "    }\n",
              "\n",
              "    .dataframe thead th {\n",
              "        text-align: right;\n",
              "    }\n",
              "</style>\n",
              "<table border=\"1\" class=\"dataframe\">\n",
              "  <thead>\n",
              "    <tr style=\"text-align: right;\">\n",
              "      <th></th>\n",
              "      <th>patient_id_</th>\n",
              "      <th>SOURCE</th>\n",
              "    </tr>\n",
              "  </thead>\n",
              "  <tbody>\n",
              "    <tr>\n",
              "      <th>0</th>\n",
              "      <td>patient_id_4373</td>\n",
              "      <td>1</td>\n",
              "    </tr>\n",
              "    <tr>\n",
              "      <th>1</th>\n",
              "      <td>patient_id_2204</td>\n",
              "      <td>1</td>\n",
              "    </tr>\n",
              "    <tr>\n",
              "      <th>2</th>\n",
              "      <td>patient_id_93</td>\n",
              "      <td>1</td>\n",
              "    </tr>\n",
              "    <tr>\n",
              "      <th>3</th>\n",
              "      <td>patient_id_798</td>\n",
              "      <td>1</td>\n",
              "    </tr>\n",
              "    <tr>\n",
              "      <th>4</th>\n",
              "      <td>patient_id_789</td>\n",
              "      <td>1</td>\n",
              "    </tr>\n",
              "    <tr>\n",
              "      <th>...</th>\n",
              "      <td>...</td>\n",
              "      <td>...</td>\n",
              "    </tr>\n",
              "    <tr>\n",
              "      <th>1319</th>\n",
              "      <td>patient_id_2070</td>\n",
              "      <td>1</td>\n",
              "    </tr>\n",
              "    <tr>\n",
              "      <th>1320</th>\n",
              "      <td>patient_id_1789</td>\n",
              "      <td>1</td>\n",
              "    </tr>\n",
              "    <tr>\n",
              "      <th>1321</th>\n",
              "      <td>patient_id_1725</td>\n",
              "      <td>1</td>\n",
              "    </tr>\n",
              "    <tr>\n",
              "      <th>1322</th>\n",
              "      <td>patient_id_3707</td>\n",
              "      <td>1</td>\n",
              "    </tr>\n",
              "    <tr>\n",
              "      <th>1323</th>\n",
              "      <td>patient_id_3001</td>\n",
              "      <td>1</td>\n",
              "    </tr>\n",
              "  </tbody>\n",
              "</table>\n",
              "<p>1324 rows × 2 columns</p>\n",
              "</div>"
            ],
            "text/plain": [
              "          patient_id_  SOURCE\n",
              "0     patient_id_4373       1\n",
              "1     patient_id_2204       1\n",
              "2       patient_id_93       1\n",
              "3      patient_id_798       1\n",
              "4      patient_id_789       1\n",
              "...               ...     ...\n",
              "1319  patient_id_2070       1\n",
              "1320  patient_id_1789       1\n",
              "1321  patient_id_1725       1\n",
              "1322  patient_id_3707       1\n",
              "1323  patient_id_3001       1\n",
              "\n",
              "[1324 rows x 2 columns]"
            ]
          },
          "metadata": {},
          "execution_count": 617
        }
      ]
    },
    {
      "cell_type": "code",
      "metadata": {
        "id": "57VFZ05YSpAd"
      },
      "source": [
        "submission_file3.SOURCE = svm_model.predict(testing)"
      ],
      "execution_count": 619,
      "outputs": []
    },
    {
      "cell_type": "code",
      "metadata": {
        "id": "iU990V1iS_qR"
      },
      "source": [
        "submission_file.to_csv('my_third_submission.csv', index= False)"
      ],
      "execution_count": 620,
      "outputs": []
    }
  ]
}